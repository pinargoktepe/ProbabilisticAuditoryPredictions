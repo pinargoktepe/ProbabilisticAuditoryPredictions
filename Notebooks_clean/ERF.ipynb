{
 "cells": [
  {
   "cell_type": "code",
   "execution_count": null,
   "metadata": {},
   "outputs": [],
   "source": [
    "import mne\n",
    "import numpy as np\n",
    "import random\n",
    "import warnings\n",
    "warnings.filterwarnings('ignore')\n",
    "#mne.set_log_level('WARNING')\n",
    "import matplotlib\n",
    "import matplotlib.pyplot as plt\n",
    "import numpy as np\n",
    "#%matplotlib inline\n",
    "\n",
    "import pylab, seaborn as sns\n",
    "from scipy.stats import ttest_rel, sem\n",
    "\n",
    "import import_ipynb \n",
    "#import nbimporter\n",
    "from CommonFunctions import loadData"
   ]
  },
  {
   "cell_type": "code",
   "execution_count": null,
   "metadata": {},
   "outputs": [],
   "source": [
    "#File paths\n",
    "meg_MainFolder = \"..\\Data\\MEG_Data\\Data=\"\n",
    "figures_MainFolder = \"..\\Figures\\ERFs\\Data=\"\n",
    "\n",
    "tmin, tmax = -0.8, 0.6\n",
    "\n",
    "print('tmin = ', tmin)\n",
    "print('tmax = ', tmax)\n",
    "\n",
    "dataFolder = meg_MainFolder + str(tmin) + '_' + str(tmax) + '\\\\'\n",
    "print('Data folder: ', dataFolder)\n",
    "\n",
    "figuresFolder = figures_MainFolder + str(tmin) + '_' + str(tmax) + '\\\\'\n",
    "print('Figures folder: ', figuresFolder)\n",
    "\n",
    "random.seed(42)\n",
    "sensors = 'mag'"
   ]
  },
  {
   "cell_type": "code",
   "execution_count": null,
   "metadata": {},
   "outputs": [],
   "source": [
    "s_id_list = ['13', '16', '17', '18', '21', '23', '26', '28', '29', '30', '31', '32', '33', '34', '35', '36', '38', '39', '40', '41', '42']\n",
    "s_id_list_corrected = ['23', '26', '30', '31', '34', '35', '38', '39']\n",
    "print('Number of subjects: ', len(s_id_list))\n"
   ]
  },
  {
   "cell_type": "code",
   "execution_count": null,
   "metadata": {},
   "outputs": [],
   "source": [
    "filename_ext = ''\n",
    "if tmin == -0.8 and tmax == 0.6:\n",
    "    filename_ext = '-elongated'\n",
    "elif tmin == -0.8 and tmax == 1:\n",
    "    filename_ext = '-elongated_2'\n",
    "    \n",
    "print('filename ext: ', filename_ext)"
   ]
  },
  {
   "cell_type": "code",
   "execution_count": null,
   "metadata": {},
   "outputs": [],
   "source": [
    "conditions = ['Real', 'Real Living', 'Real Object', 'Real - 80%', 'Real - 90%', 'Real - 100%', \n",
    "              'Omission', 'Omission Living', 'Omission Object','Omission - 80%', 'Omission - 90%', \n",
    "              'Omission - 100%']\n",
    "\n"
   ]
  },
  {
   "cell_type": "code",
   "execution_count": null,
   "metadata": {},
   "outputs": [],
   "source": [
    "conditions_evoked = [[] for i in range(len(conditions))]\n",
    "\n",
    "for s_id in s_id_list:\n",
    "    print('participant: ', s_id)\n",
    "    if int(s_id) < 23:\n",
    "        fname = dataFolder+'S'+s_id+'\\\\'+s_id+'_2_tsss_mc_trans_'+sensors+'_nobase-epochs_afterICA'+filename_ext+'_manually_AR_resampled.fif'\n",
    "    else: \n",
    "        fname = dataFolder+'S'+s_id+'\\\\block_2_tsss_mc_trans_'+sensors+'_nobase-epochs_afterICA'+filename_ext+'_manually_AR_resampled.fif'\n",
    "\n",
    "    # Load data\n",
    "    epochs = loadData(s_id, sensors, fname, resampled=True)\n",
    "    \n",
    "    # Separate events \n",
    "    # Real Sounds\n",
    "    real_events = ['living_real_8', 'living_real_9', 'living_real_10',\n",
    "                  'object_real_8', 'object_real_9', 'object_real_10']\n",
    "    \n",
    "    # Real sounds separated by  predictability level\n",
    "    real_events_8 = ['living_real_8', 'object_real_8']\n",
    "    real_events_9 = ['living_real_9', 'object_real_9']\n",
    "    real_events_10 = ['living_real_10', 'object_real_10']\n",
    "    \n",
    "    # Real Living sounds\n",
    "    real_living_events = [e for e in real_events if 'living' in e]\n",
    "     # Real Object sounds\n",
    "    real_obj_events = [e for e in real_events if 'object' in e]\n",
    "    \n",
    "    # Omissions\n",
    "    omi_events = [e for e in epochs.event_id if 'omission' in e]\n",
    "    #Omission separated by  predictability level\n",
    "    omi_events_8 = [e for e in omi_events if '8' in e]\n",
    "    omi_events_9 = [e for e in omi_events if '9' in e]\n",
    "    omi_events_10 = [e for e in omi_events if '10' in e]\n",
    "    \n",
    "    # Living omissions\n",
    "    omi_living_events = [e for e in omi_events if 'living' in e]\n",
    "    # Object omissions\n",
    "    omi_obj_events = [e for e in omi_events if 'object' in e]\n",
    "    \n",
    "    # List of events separated by predictability or sound identity        \n",
    "    events_list = [real_events, real_living_events, real_obj_events, real_events_8, real_events_9, \n",
    "                   real_events_10, omi_events, omi_living_events, omi_obj_events, omi_events_8, omi_events_9, \n",
    "                   omi_events_10]\n",
    "    \n",
    "    # Compute evoked data for condition per participant\n",
    "    for e in range(len(events_list)):\n",
    "        \n",
    "        # Check if the participant has given event\n",
    "        if len(epochs[events_list[e]]) == 0:\n",
    "            evoked = None\n",
    "        else:\n",
    "            tmp_epochs = epochs[events_list[e]].copy()\n",
    "\n",
    "            #print('omi times: ', tmp_epochs.times)\n",
    "            if tmin == -0.1 and tmax == 0.6:\n",
    "                #print('Data shortened from the end!')\n",
    "                tmp_epochs.crop(tmax=0.5)\n",
    "            elif tmin == -0.8:\n",
    "                #print('Warning: Long time scale! Need to crop from baseline too!!')\n",
    "                tmp_epochs.crop(tmin=-0.4, tmax=0.5)\n",
    "                #print('Data cropped!')\n",
    "                \n",
    "            evoked = tmp_epochs.average()\n",
    "                \n",
    "                \n",
    "        conditions_evoked[e].append(evoked)\n",
    "      "
   ]
  },
  {
   "cell_type": "code",
   "execution_count": null,
   "metadata": {},
   "outputs": [],
   "source": [
    "print('Number of conditions: ', len(conditions_evoked))\n",
    "print('Number of participants: ', len(conditions_evoked[0]))"
   ]
  },
  {
   "cell_type": "code",
   "execution_count": null,
   "metadata": {},
   "outputs": [],
   "source": [
    "conditions"
   ]
  },
  {
   "cell_type": "code",
   "execution_count": null,
   "metadata": {},
   "outputs": [],
   "source": [
    " conditions_evoked[0][0].times"
   ]
  },
  {
   "cell_type": "code",
   "execution_count": null,
   "metadata": {},
   "outputs": [],
   "source": [
    "times = np.arange(-0.4, 0.51, 0.1)\n",
    "\n",
    "for i in range(len(conditions)):\n",
    "    evoked = conditions_evoked[i]\n",
    "\n",
    "    if evoked != None:\n",
    "        if any(x is None for x in evoked):\n",
    "            print('none detected!')\n",
    "            evoked = [x for x in evoked if x != None]\n",
    "        print('------------ ' + conditions[i] + ' ------------')\n",
    "        \n",
    "        # Omissions\n",
    "        if 'Omi' in conditions[i]:\n",
    "            grand_avg = mne.grand_average(evoked)\n",
    "            \n",
    "            #grand_avg.plot()\n",
    "            grand_avg_plt_topo = grand_avg.plot_topomap(times=times, vmin=-90, vmax=90)\n",
    "            topomap_args = dict(vmin=-40, vmax=40)\n",
    "            ts_args = dict(gfp=True, ylim=dict(mag=[-100, 100]))\n",
    "            grand_avg_plt = grand_avg.plot_joint(title=conditions[i], times=np.asarray([0, 0.05, 0.1]),\n",
    "                                                 ts_args=ts_args, topomap_args=topomap_args )\n",
    "            \n",
    "            # save plots\n",
    "            erf_fig_file = figuresFolder + 'ERF_Group_' + str(i) + '_' + sensors + '.png'\n",
    "            print(erf_fig_file)\n",
    "            grand_avg_plt.savefig(erf_fig_file)\n",
    "            erf_fig_file_topo = figuresFolder + 'ERF_Group_' + str(i) + '_' + sensors + '_topo.png'\n",
    "            grand_avg_plt_topo.savefig(erf_fig_file_topo)\n",
    "           \n",
    "        # Real Sounds\n",
    "        else:\n",
    "            print('real!!!')\n",
    "            grand_avg = mne.grand_average(evoked)\n",
    "            print('times_real: ', times)\n",
    "            #grand_avg.plot()\n",
    "            ts_args = dict(gfp=True,  ylim = dict(mag=[-200, 200]))\n",
    "            topomap_args = dict(vmin=-180, vmax=180)\n",
    "            grand_avg_plt_topo = grand_avg.plot_topomap(times=times, vmin = -150, vmax=150)\n",
    "            grand_avg_plt = grand_avg.plot_joint(title=conditions[i], times=np.asarray([0.1, 0.2, 0.3]),\n",
    "                                                 ts_args=ts_args, topomap_args=topomap_args)\n",
    "            # save plots\n",
    "            erf_fig_file = figuresFolder + 'ERF_Group_' + str(i) + '_' + sensors + '.png'\n",
    "            print(erf_fig_file)\n",
    "            grand_avg_plt.savefig(erf_fig_file)\n",
    "            erf_fig_file_topo = figuresFolder + 'ERF_Group_' + str(i) + '_' + sensors + '_topo.png'\n",
    "            grand_avg_plt_topo.savefig(erf_fig_file_topo)\n",
    "\n",
    "        plt.show()\n",
    "    else:\n",
    "        print('No evoked!!!!!!')\n",
    "    "
   ]
  },
  {
   "cell_type": "markdown",
   "metadata": {},
   "source": [
    "#### Plot each condition per participant"
   ]
  },
  {
   "cell_type": "code",
   "execution_count": null,
   "metadata": {},
   "outputs": [],
   "source": [
    "for i in range(len(conditions)):\n",
    "    print('-----------' + conditions[i] + '----------')\n",
    "    evoked = conditions_evoked[i]\n",
    "    \n",
    "    for j in range(len(s_id_list)):\n",
    "        print('Participant: ', s_id_list[j])\n",
    "        evoked[j].plot()\n",
    "        \n",
    "    "
   ]
  },
  {
   "cell_type": "code",
   "execution_count": null,
   "metadata": {},
   "outputs": [],
   "source": [
    "\n",
    "conditions_evoked[0][0]"
   ]
  },
  {
   "cell_type": "code",
   "execution_count": null,
   "metadata": {},
   "outputs": [],
   "source": []
  }
 ],
 "metadata": {
  "@webio": {
   "lastCommId": null,
   "lastKernelId": null
  },
  "kernelspec": {
   "display_name": "Python 3",
   "language": "python",
   "name": "python3"
  },
  "language_info": {
   "codemirror_mode": {
    "name": "ipython",
    "version": 3
   },
   "file_extension": ".py",
   "mimetype": "text/x-python",
   "name": "python",
   "nbconvert_exporter": "python",
   "pygments_lexer": "ipython3",
   "version": "3.7.9"
  }
 },
 "nbformat": 4,
 "nbformat_minor": 2
}
