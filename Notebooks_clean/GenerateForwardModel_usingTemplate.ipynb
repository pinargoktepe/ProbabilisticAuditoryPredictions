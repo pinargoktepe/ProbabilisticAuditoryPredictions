{
 "cells": [
  {
   "cell_type": "code",
   "execution_count": 1,
   "metadata": {},
   "outputs": [],
   "source": [
    "import numpy as np\n",
    "import mne\n",
    "import os.path as op\n"
   ]
  },
  {
   "cell_type": "code",
   "execution_count": 2,
   "metadata": {},
   "outputs": [
    {
     "name": "stdout",
     "output_type": "stream",
     "text": [
      "Data folder:  ..\\Data\\MEG_Data\\Data=-0.1_0.6\\\n",
      "Source folder:  ..\\SourceLocalization\\SourceEstimates\\Data=\n",
      "Subjects directory:  ..\\SourceLocalization\\subjects\\\n",
      "Forward models folder:  ..\\SourceLocalization\\ForwardModels\\\n"
     ]
    }
   ],
   "source": [
    "sensors = 'mag'\n",
    "meg_MainFolder = \"..\\Data\\MEG_Data\\Data=\"\n",
    "tmin, tmax = -0.1, 0.6\n",
    "\n",
    "dataFolder = meg_MainFolder + str(tmin) + '_' + str(tmax) + '\\\\'\n",
    "print('Data folder: ', dataFolder)\n",
    "\n",
    "source_MainFolder = \"..\\SourceLocalization\\SourceEstimates\\Data=\"\n",
    "sourceFolder = source_MainFolder + str(tmin) + '_' + str(tmax) + '\\\\'\n",
    "print('Source folder: ', source_MainFolder)\n",
    "\n",
    "subjects_dir = '..\\SourceLocalization\\subjects\\\\'\n",
    "print('Subjects directory: ', subjects_dir)\n",
    "\n",
    "forwardModelsFolder = '..\\SourceLocalization\\ForwardModels\\\\'\n",
    "print('Forward models folder: ', forwardModelsFolder)\n"
   ]
  },
  {
   "cell_type": "code",
   "execution_count": 3,
   "metadata": {},
   "outputs": [],
   "source": [
    "#  Template subject\n",
    "subject = 'fsaverage'\n",
    "trans = 'fsaverage'  # MNE has a built-in fsaverage transformation\n",
    "src = op.join(subjects_dir, subject, 'bem', 'fsaverage-ico-5-src.fif')\n",
    "bem = op.join(subjects_dir, subject, 'bem', 'fsaverage-5120-5120-5120-bem-sol.fif')"
   ]
  },
  {
   "cell_type": "code",
   "execution_count": 4,
   "metadata": {},
   "outputs": [],
   "source": [
    "# Subjects who don't have MRI\n",
    "s_id_list = ['16', '31', '40']\n",
    "participant_names = ['Scherbakova_E', 'Novikov_A', 'Voronova_A']\n"
   ]
  },
  {
   "cell_type": "code",
   "execution_count": 5,
   "metadata": {},
   "outputs": [
    {
     "name": "stdout",
     "output_type": "stream",
     "text": [
      "filename ext:  \n"
     ]
    }
   ],
   "source": [
    "filename_ext = ''\n",
    "if tmin == -0.8 and tmax == 0.6:\n",
    "    filename_ext = '-elongated'\n",
    "elif tmin == -0.8 and tmax == 1:\n",
    "    filename_ext = '-elongated_2'\n",
    "    \n",
    "print('filename ext: ', filename_ext)"
   ]
  },
  {
   "cell_type": "code",
   "execution_count": 6,
   "metadata": {},
   "outputs": [],
   "source": [
    "def getEpochData(s_id):\n",
    "    \n",
    "   \n",
    "    if int(s_id) < 23:\n",
    "        fname = dataFolder+'S'+s_id+'\\\\'+s_id+'_2_tsss_mc_trans_'+sensors+'_nobase-epochs_afterICA'+filename_ext+'_manually_AR_resampled.fif'\n",
    "    else: \n",
    "        fname = dataFolder+'S'+s_id+'\\\\block_2_tsss_mc_trans_'+sensors+'_nobase-epochs_afterICA'+filename_ext+'_manually_AR_resampled.fif'\n",
    "    \n",
    "    epochs = mne.read_epochs(fname, verbose='error')\n",
    "    print(fname + ' loaded!')\n",
    "    return epochs\n"
   ]
  },
  {
   "cell_type": "markdown",
   "metadata": {},
   "source": [
    "#### Generate forward model from template"
   ]
  },
  {
   "cell_type": "code",
   "execution_count": 7,
   "metadata": {},
   "outputs": [
    {
     "name": "stdout",
     "output_type": "stream",
     "text": [
      "------ Subject 16 -------\n",
      "..\\Data\\MEG_Data\\Data=-0.1_0.6\\S16\\16_2_tsss_mc_trans_mag_nobase-epochs_afterICA_manually_AR_resampled.fif loaded!\n",
      "[-0.1  -0.09 -0.08 -0.07 -0.06 -0.05 -0.04 -0.03 -0.02 -0.01  0.    0.01\n",
      "  0.02  0.03  0.04  0.05  0.06  0.07  0.08  0.09  0.1   0.11  0.12  0.13\n",
      "  0.14  0.15  0.16  0.17  0.18  0.19  0.2   0.21  0.22  0.23  0.24  0.25\n",
      "  0.26  0.27  0.28  0.29  0.3   0.31  0.32  0.33  0.34  0.35  0.36  0.37\n",
      "  0.38  0.39  0.4   0.41  0.42  0.43  0.44  0.45  0.46  0.47  0.48  0.49\n",
      "  0.5   0.51  0.52  0.53  0.54  0.55  0.56  0.57  0.58  0.59]\n",
      "Source space          : ..\\SourceLocalization\\subjects\\fsaverage\\bem\\fsaverage-ico-5-src.fif\n",
      "MRI -> head transform : C:\\Users\\CCN_PG\\miniconda3\\envs\\exp\\lib\\site-packages\\mne\\data\\fsaverage\\fsaverage-trans.fif\n",
      "Measurement data      : instance of Info\n",
      "Conductor model   : ..\\SourceLocalization\\subjects\\fsaverage\\bem\\fsaverage-5120-5120-5120-bem-sol.fif\n",
      "Accurate field computations\n",
      "Do computations in head coordinates\n",
      "Free source orientations\n",
      "\n",
      "Reading ..\\SourceLocalization\\subjects\\fsaverage\\bem\\fsaverage-ico-5-src.fif...\n",
      "Read 2 source spaces a total of 20484 active source locations\n",
      "\n",
      "Coordinate transformation: MRI (surface RAS) -> head\n",
      "     0.999994  0.003552  0.000202      -1.76 mm\n",
      "    -0.003558  0.998389  0.056626      31.09 mm\n",
      "    -0.000001 -0.056626  0.998395      39.60 mm\n",
      "     0.000000  0.000000  0.000000       1.00\n",
      "\n",
      "Read 102 MEG channels from info\n",
      "99 coil definitions read\n",
      "Coordinate transformation: MEG device -> head\n",
      "     1.000000  0.000000  0.000000       0.00 mm\n",
      "     0.000000  1.000000  0.000000       0.00 mm\n",
      "     0.000000  0.000000  1.000000      45.00 mm\n",
      "     0.000000  0.000000  0.000000       1.00\n",
      "MEG coil definitions created in head coordinates.\n",
      "Source spaces are now in head coordinates.\n",
      "\n",
      "Setting up the BEM model using ..\\SourceLocalization\\subjects\\fsaverage\\bem\\fsaverage-5120-5120-5120-bem-sol.fif...\n",
      "\n",
      "Loading surfaces...\n",
      "\n",
      "Loading the solution matrix...\n",
      "\n",
      "Three-layer model surfaces loaded.\n",
      "Loaded linear_collocation BEM solution from ..\\SourceLocalization\\subjects\\fsaverage\\bem\\fsaverage-5120-5120-5120-bem-sol.fif\n",
      "Employing the head->MRI coordinate transform with the BEM model.\n",
      "BEM model fsaverage-5120-5120-5120-bem-sol.fif is now set up\n",
      "\n",
      "Source spaces are in head coordinates.\n",
      "Checking that the sources are inside the surface and at least    5.0 mm away (will take a few...)\n",
      "    Skipping interior check for 2433 sources that fit inside a sphere of radius   47.7 mm\n",
      "    Skipping solid angle check for 0 points using Qhull\n",
      "    Skipping interior check for 2241 sources that fit inside a sphere of radius   47.7 mm\n",
      "    Skipping solid angle check for 0 points using Qhull\n",
      "\n",
      "Setting up compensation data...\n",
      "    No compensation set. Nothing more to do.\n",
      "\n",
      "Composing the field computation matrix...\n",
      "Computing MEG at 20484 source locations (free orientations)...\n",
      "\n",
      "Finished.\n",
      "Saving forward model to  ..\\SourceLocalization\\ForwardModels\\fwd_sol_ico5_Scherbakova_E.fif\n",
      "Overwriting existing file.\n",
      "    Write a source space...\n",
      "    [done]\n",
      "    Write a source space...\n",
      "    [done]\n",
      "    2 source spaces written\n",
      "------ Subject 31 -------\n"
     ]
    },
    {
     "name": "stderr",
     "output_type": "stream",
     "text": [
      "<ipython-input-7-54ea3ed5aedc>:14: RuntimeWarning: This filename (..\\SourceLocalization\\ForwardModels\\fwd_sol_ico5_Scherbakova_E.fif) does not conform to MNE naming conventions. All forward files should end with -fwd.fif, -fwd.fif.gz, _fwd.fif or _fwd.fif.gz\n",
      "  mne.write_forward_solution(fwd_filename, fwd, overwrite=True)\n"
     ]
    },
    {
     "name": "stdout",
     "output_type": "stream",
     "text": [
      "..\\Data\\MEG_Data\\Data=-0.1_0.6\\S31\\block_2_tsss_mc_trans_mag_nobase-epochs_afterICA_manually_AR_resampled.fif loaded!\n",
      "[-0.1  -0.09 -0.08 -0.07 -0.06 -0.05 -0.04 -0.03 -0.02 -0.01  0.    0.01\n",
      "  0.02  0.03  0.04  0.05  0.06  0.07  0.08  0.09  0.1   0.11  0.12  0.13\n",
      "  0.14  0.15  0.16  0.17  0.18  0.19  0.2   0.21  0.22  0.23  0.24  0.25\n",
      "  0.26  0.27  0.28  0.29  0.3   0.31  0.32  0.33  0.34  0.35  0.36  0.37\n",
      "  0.38  0.39  0.4   0.41  0.42  0.43  0.44  0.45  0.46  0.47  0.48  0.49\n",
      "  0.5   0.51  0.52  0.53  0.54  0.55  0.56  0.57  0.58  0.59]\n",
      "Source space          : ..\\SourceLocalization\\subjects\\fsaverage\\bem\\fsaverage-ico-5-src.fif\n",
      "MRI -> head transform : C:\\Users\\CCN_PG\\miniconda3\\envs\\exp\\lib\\site-packages\\mne\\data\\fsaverage\\fsaverage-trans.fif\n",
      "Measurement data      : instance of Info\n",
      "Conductor model   : ..\\SourceLocalization\\subjects\\fsaverage\\bem\\fsaverage-5120-5120-5120-bem-sol.fif\n",
      "Accurate field computations\n",
      "Do computations in head coordinates\n",
      "Free source orientations\n",
      "\n",
      "Reading ..\\SourceLocalization\\subjects\\fsaverage\\bem\\fsaverage-ico-5-src.fif...\n",
      "Read 2 source spaces a total of 20484 active source locations\n",
      "\n",
      "Coordinate transformation: MRI (surface RAS) -> head\n",
      "     0.999994  0.003552  0.000202      -1.76 mm\n",
      "    -0.003558  0.998389  0.056626      31.09 mm\n",
      "    -0.000001 -0.056626  0.998395      39.60 mm\n",
      "     0.000000  0.000000  0.000000       1.00\n",
      "\n",
      "Read 102 MEG channels from info\n",
      "99 coil definitions read\n",
      "Coordinate transformation: MEG device -> head\n",
      "     1.000000  0.000000  0.000000       0.00 mm\n",
      "     0.000000  1.000000  0.000000       0.00 mm\n",
      "     0.000000  0.000000  1.000000      45.00 mm\n",
      "     0.000000  0.000000  0.000000       1.00\n",
      "MEG coil definitions created in head coordinates.\n",
      "Source spaces are now in head coordinates.\n",
      "\n",
      "Setting up the BEM model using ..\\SourceLocalization\\subjects\\fsaverage\\bem\\fsaverage-5120-5120-5120-bem-sol.fif...\n",
      "\n",
      "Loading surfaces...\n",
      "\n",
      "Loading the solution matrix...\n",
      "\n",
      "Three-layer model surfaces loaded.\n",
      "Loaded linear_collocation BEM solution from ..\\SourceLocalization\\subjects\\fsaverage\\bem\\fsaverage-5120-5120-5120-bem-sol.fif\n",
      "Employing the head->MRI coordinate transform with the BEM model.\n",
      "BEM model fsaverage-5120-5120-5120-bem-sol.fif is now set up\n",
      "\n",
      "Source spaces are in head coordinates.\n",
      "Checking that the sources are inside the surface and at least    5.0 mm away (will take a few...)\n",
      "    Skipping interior check for 2433 sources that fit inside a sphere of radius   47.7 mm\n",
      "    Skipping solid angle check for 0 points using Qhull\n",
      "    Skipping interior check for 2241 sources that fit inside a sphere of radius   47.7 mm\n",
      "    Skipping solid angle check for 0 points using Qhull\n",
      "\n",
      "Setting up compensation data...\n",
      "    No compensation set. Nothing more to do.\n",
      "\n",
      "Composing the field computation matrix...\n",
      "Computing MEG at 20484 source locations (free orientations)...\n",
      "\n",
      "Finished.\n",
      "Saving forward model to  ..\\SourceLocalization\\ForwardModels\\fwd_sol_ico5_Novikov_A.fif\n",
      "Overwriting existing file.\n",
      "    Write a source space...\n",
      "    [done]\n",
      "    Write a source space...\n",
      "    [done]\n",
      "    2 source spaces written\n",
      "------ Subject 40 -------\n"
     ]
    },
    {
     "name": "stderr",
     "output_type": "stream",
     "text": [
      "<ipython-input-7-54ea3ed5aedc>:14: RuntimeWarning: This filename (..\\SourceLocalization\\ForwardModels\\fwd_sol_ico5_Novikov_A.fif) does not conform to MNE naming conventions. All forward files should end with -fwd.fif, -fwd.fif.gz, _fwd.fif or _fwd.fif.gz\n",
      "  mne.write_forward_solution(fwd_filename, fwd, overwrite=True)\n"
     ]
    },
    {
     "name": "stdout",
     "output_type": "stream",
     "text": [
      "..\\Data\\MEG_Data\\Data=-0.1_0.6\\S40\\block_2_tsss_mc_trans_mag_nobase-epochs_afterICA_manually_AR_resampled.fif loaded!\n",
      "[-0.1  -0.09 -0.08 -0.07 -0.06 -0.05 -0.04 -0.03 -0.02 -0.01  0.    0.01\n",
      "  0.02  0.03  0.04  0.05  0.06  0.07  0.08  0.09  0.1   0.11  0.12  0.13\n",
      "  0.14  0.15  0.16  0.17  0.18  0.19  0.2   0.21  0.22  0.23  0.24  0.25\n",
      "  0.26  0.27  0.28  0.29  0.3   0.31  0.32  0.33  0.34  0.35  0.36  0.37\n",
      "  0.38  0.39  0.4   0.41  0.42  0.43  0.44  0.45  0.46  0.47  0.48  0.49\n",
      "  0.5   0.51  0.52  0.53  0.54  0.55  0.56  0.57  0.58  0.59]\n",
      "Source space          : ..\\SourceLocalization\\subjects\\fsaverage\\bem\\fsaverage-ico-5-src.fif\n",
      "MRI -> head transform : C:\\Users\\CCN_PG\\miniconda3\\envs\\exp\\lib\\site-packages\\mne\\data\\fsaverage\\fsaverage-trans.fif\n",
      "Measurement data      : instance of Info\n",
      "Conductor model   : ..\\SourceLocalization\\subjects\\fsaverage\\bem\\fsaverage-5120-5120-5120-bem-sol.fif\n",
      "Accurate field computations\n",
      "Do computations in head coordinates\n",
      "Free source orientations\n",
      "\n",
      "Reading ..\\SourceLocalization\\subjects\\fsaverage\\bem\\fsaverage-ico-5-src.fif...\n",
      "Read 2 source spaces a total of 20484 active source locations\n",
      "\n",
      "Coordinate transformation: MRI (surface RAS) -> head\n",
      "     0.999994  0.003552  0.000202      -1.76 mm\n",
      "    -0.003558  0.998389  0.056626      31.09 mm\n",
      "    -0.000001 -0.056626  0.998395      39.60 mm\n",
      "     0.000000  0.000000  0.000000       1.00\n",
      "\n",
      "Read 102 MEG channels from info\n",
      "99 coil definitions read\n",
      "Coordinate transformation: MEG device -> head\n",
      "     1.000000  0.000000  0.000000       0.00 mm\n",
      "     0.000000  1.000000  0.000000       0.00 mm\n",
      "     0.000000  0.000000  1.000000      45.00 mm\n",
      "     0.000000  0.000000  0.000000       1.00\n",
      "MEG coil definitions created in head coordinates.\n",
      "Source spaces are now in head coordinates.\n",
      "\n",
      "Setting up the BEM model using ..\\SourceLocalization\\subjects\\fsaverage\\bem\\fsaverage-5120-5120-5120-bem-sol.fif...\n",
      "\n",
      "Loading surfaces...\n",
      "\n",
      "Loading the solution matrix...\n",
      "\n",
      "Three-layer model surfaces loaded.\n",
      "Loaded linear_collocation BEM solution from ..\\SourceLocalization\\subjects\\fsaverage\\bem\\fsaverage-5120-5120-5120-bem-sol.fif\n",
      "Employing the head->MRI coordinate transform with the BEM model.\n",
      "BEM model fsaverage-5120-5120-5120-bem-sol.fif is now set up\n",
      "\n",
      "Source spaces are in head coordinates.\n",
      "Checking that the sources are inside the surface and at least    5.0 mm away (will take a few...)\n",
      "    Skipping interior check for 2433 sources that fit inside a sphere of radius   47.7 mm\n",
      "    Skipping solid angle check for 0 points using Qhull\n",
      "    Skipping interior check for 2241 sources that fit inside a sphere of radius   47.7 mm\n",
      "    Skipping solid angle check for 0 points using Qhull\n",
      "\n",
      "Setting up compensation data...\n",
      "    No compensation set. Nothing more to do.\n",
      "\n",
      "Composing the field computation matrix...\n",
      "Computing MEG at 20484 source locations (free orientations)...\n",
      "\n",
      "Finished.\n",
      "Saving forward model to  ..\\SourceLocalization\\ForwardModels\\fwd_sol_ico5_Voronova_A.fif\n",
      "Overwriting existing file.\n",
      "    Write a source space...\n",
      "    [done]\n",
      "    Write a source space...\n",
      "    [done]\n",
      "    2 source spaces written\n"
     ]
    },
    {
     "name": "stderr",
     "output_type": "stream",
     "text": [
      "<ipython-input-7-54ea3ed5aedc>:14: RuntimeWarning: This filename (..\\SourceLocalization\\ForwardModels\\fwd_sol_ico5_Voronova_A.fif) does not conform to MNE naming conventions. All forward files should end with -fwd.fif, -fwd.fif.gz, _fwd.fif or _fwd.fif.gz\n",
      "  mne.write_forward_solution(fwd_filename, fwd, overwrite=True)\n"
     ]
    }
   ],
   "source": [
    "\n",
    "for i in range(len(s_id_list)):\n",
    "    print('------ Subject ' + str(s_id_list[i]) + ' -------')\n",
    "    # Load MEG data\n",
    "    epochs = getEpochData(s_id_list[i])\n",
    "    # Times\n",
    "    print(epochs.times)\n",
    "    #Compute evoked\n",
    "    evoked = epochs.average()\n",
    "    # Generate forward model from evoked data\n",
    "    fwd = mne.make_forward_solution(evoked.info, trans=trans, src=src, bem=bem, meg=True, mindist=5.0, n_jobs=1)\n",
    "    # Save forward model\n",
    "    fwd_filename = forwardModelsFolder + 'fwd_sol_ico5_' + participant_names[i] + '.fif'\n",
    "    print('Saving forward model to ', fwd_filename)\n",
    "    mne.write_forward_solution(fwd_filename, fwd, overwrite=True)\n",
    "    del epochs, evoked\n",
    "    "
   ]
  },
  {
   "cell_type": "code",
   "execution_count": null,
   "metadata": {},
   "outputs": [],
   "source": []
  },
  {
   "cell_type": "code",
   "execution_count": null,
   "metadata": {},
   "outputs": [],
   "source": []
  }
 ],
 "metadata": {
  "kernelspec": {
   "display_name": "Python 3",
   "language": "python",
   "name": "python3"
  },
  "language_info": {
   "codemirror_mode": {
    "name": "ipython",
    "version": 3
   },
   "file_extension": ".py",
   "mimetype": "text/x-python",
   "name": "python",
   "nbconvert_exporter": "python",
   "pygments_lexer": "ipython3",
   "version": "3.7.9"
  }
 },
 "nbformat": 4,
 "nbformat_minor": 4
}
