{
 "cells": [
  {
   "cell_type": "code",
   "execution_count": null,
   "metadata": {},
   "outputs": [],
   "source": [
    "import mne\n",
    "from mne import find_events\n",
    "import numpy as np\n",
    "import os\n",
    "from mne.preprocessing import ICA, create_ecg_epochs, read_ica"
   ]
  },
  {
   "cell_type": "code",
   "execution_count": null,
   "metadata": {},
   "outputs": [],
   "source": [
    "s_id = '13'\n",
    "tmin, tmax = -0.1, 0.6\n",
    "\n",
    "print('Subject id: ', s_id)\n",
    "print('tmin = ', tmin)\n",
    "print('tmax = ', tmax)\n",
    "\n",
    "meg_raw_MainFolder = \"..\\Data\\MEG_Data\\RawData\\\\\"\n",
    "ica_MainFolder = \"..\\icaModels\\\\\"\n",
    "\n",
    "blocks = [0,1, 2]\n",
    "\n",
    "triggers_cry_real = [9, 10, 11] # By block: sound 1 + nu_consistent \n",
    "triggers_phone_real = [11, 12, 13] # By block: sound 3 + nu_consistent \n",
    "\n",
    "triggers_cry_omi = [14, 15, 16] # By block: sound 1 + nu_consistent + omission code (5)\n",
    "triggers_phone_omi = [16, 17, 18] # By block: sound 3 + nu_consistent + omission code (5)\n",
    "pred_all = [8, 9, 10]\n",
    "\n",
    "raw_all = []\n",
    "print('x---------------x')\n"
   ]
  },
  {
   "cell_type": "markdown",
   "metadata": {},
   "source": [
    "#### Load Raw data   "
   ]
  },
  {
   "cell_type": "code",
   "execution_count": null,
   "metadata": {},
   "outputs": [],
   "source": [
    "\n",
    "for bl in blocks:\n",
    "    print('Block: ', bl)\n",
    "    \n",
    "    if int(s_id) > 22:\n",
    "        if s_id == '38' or s_id == '39' or s_id == '40' or s_id == '41':\n",
    "            filename = 'P' + s_id + '\\\\block_' +  str(bl) + '_tsss_mc_trans.fif'\n",
    "            fraw = meg_raw_MainFolder + filename\n",
    "            \n",
    "        else:\n",
    "            filename = 'S' + s_id + '\\\\Block_' + str(bl) + '_tsss_mc_trans.fif' # s_id +'_' + str(bl) OR 'block_' + str(bl) + '_tsss_mc_trans.fif' \n",
    "            fraw = meg_raw_MainFolder + filename\n",
    "           \n",
    "                \n",
    "    else:\n",
    "        filename = 'S' + s_id + '\\\\' + s_id + '_' + str(bl) + '_tsss_mc_trans.fif'\n",
    "        fraw = meg_raw_MainFolder + filename\n",
    "    \n",
    "    \n",
    "    if os.path.isfile(meg_raw_MainFolder) == True:\n",
    "         print(fraw)\n",
    "    else:\n",
    "        print('No file named as ', fraw)\n",
    "    \n",
    "    \n",
    "    if os.path.isfile(fraw):\n",
    "        # read and filter raw data:\n",
    "        raw = mne.io.read_raw_fif(fraw , preload = True)\n",
    "        raw.info['ch_names'] = [chn.strip('.') for chn in raw.info['ch_names']]\n",
    "        \n",
    "        print(\"Data imported!\")\n",
    "        \n",
    "        raw.filter(0.1, 40., fir_design='firwin')\n",
    "        print(\"Data filtered!\")\n",
    "        raw_all.append(raw)\n",
    "\n",
    "        del raw        "
   ]
  },
  {
   "cell_type": "code",
   "execution_count": null,
   "metadata": {},
   "outputs": [],
   "source": [
    "nchan_list = []\n",
    "for ind, r in enumerate(raw_all):\n",
    "    print('Block id = %d -- Number of channels = %d' %(ind, r.info['nchan']))\n",
    "    nchan_list.append(r.info['nchan'])"
   ]
  },
  {
   "cell_type": "code",
   "execution_count": null,
   "metadata": {},
   "outputs": [],
   "source": [
    "nchan_list"
   ]
  },
  {
   "cell_type": "markdown",
   "metadata": {},
   "source": [
    "!!! If number of channels are not equal in all block, remove the extra ones to be able to concatenate the raw data"
   ]
  },
  {
   "cell_type": "code",
   "execution_count": null,
   "metadata": {},
   "outputs": [],
   "source": [
    "nchan_max = nchan_list.index(max(nchan_list))\n",
    "nchan_max"
   ]
  },
  {
   "cell_type": "code",
   "execution_count": null,
   "metadata": {},
   "outputs": [],
   "source": [
    "channels_toRemove = []\n",
    "for i in range(nchan_list[nchan_max]):\n",
    "    if raw_all[nchan_max].info['ch_names'][i]  not in  raw_all[0].info['ch_names']:\n",
    "        channels_toRemove.append(raw_all[nchan_max].info['ch_names'][i])\n",
    "channels_toRemove"
   ]
  },
  {
   "cell_type": "code",
   "execution_count": null,
   "metadata": {},
   "outputs": [],
   "source": [
    "#drop the channels in channels_toRemove list\n",
    "if len(channels_toRemove) > 0:\n",
    "    raw_all[nchan_max].drop_channels(channels_toRemove)\n",
    "    raw_all[nchan_max].info['nchan']\n",
    "else:\n",
    "    print('Nothing to remove!')"
   ]
  },
  {
   "cell_type": "code",
   "execution_count": null,
   "metadata": {},
   "outputs": [],
   "source": [
    "# Print the shape of data in each block\n",
    "for r in raw_all:\n",
    "    print('-------')\n",
    "    print(r.get_data().shape)\n",
    "\n"
   ]
  },
  {
   "cell_type": "code",
   "execution_count": null,
   "metadata": {},
   "outputs": [],
   "source": [
    "# Concatenate raw data from each block\n",
    "raw = mne.io.concatenate_raws(raw_all)\n",
    "print(raw.get_data().shape)\n",
    "del raw_all"
   ]
  },
  {
   "cell_type": "markdown",
   "metadata": {},
   "source": [
    "Visualize EOG"
   ]
  },
  {
   "cell_type": "code",
   "execution_count": null,
   "metadata": {},
   "outputs": [],
   "source": [
    "# Visualize eog(eye movement) noise \n",
    "import matplotlib\n",
    "%matplotlib inline\n",
    "\n",
    "eog_evoked = mne.preprocessing.create_eog_epochs(raw).average()\n",
    "eog_evoked.plot_joint()"
   ]
  },
  {
   "cell_type": "markdown",
   "metadata": {},
   "source": [
    "Visualize ECG"
   ]
  },
  {
   "cell_type": "code",
   "execution_count": null,
   "metadata": {},
   "outputs": [],
   "source": [
    "#Visualize ECG noise (cardiac noise)\n",
    "ecg_evoked = mne.preprocessing.create_ecg_epochs(raw).average()\n",
    "ecg_evoked.plot_joint()"
   ]
  },
  {
   "cell_type": "markdown",
   "metadata": {},
   "source": [
    "ICA is sensitive to low-frequency drifts and therefore requires the data to be high-pass filtered prior to fitting. Typically, a cutoff frequency of 1 Hz is recommended. However, because filtering is a linear operation, the ICA solution found from the filtered signal can be applied to the unfiltered signal [https://mne.tools/stable/auto_tutorials/preprocessing/plot_40_artifact_correction_ica.html#what-is-ica]\n"
   ]
  },
  {
   "cell_type": "code",
   "execution_count": null,
   "metadata": {},
   "outputs": [],
   "source": []
  },
  {
   "cell_type": "code",
   "execution_count": null,
   "metadata": {},
   "outputs": [],
   "source": [
    "ica_file = ica_MainFolder + 'S' + s_id + '\\ica.fif'\n",
    "print(ica_file)       "
   ]
  },
  {
   "cell_type": "code",
   "execution_count": null,
   "metadata": {},
   "outputs": [],
   "source": [
    "# Building ica model\n",
    "if os.path.isfile(ica_file) is True:\n",
    "    ica = read_ica(ica_file)\n",
    "else:\n",
    "    filt_raw = raw.copy()\n",
    "    filt_raw.load_data().filter(l_freq=1., h_freq=None)\n",
    "    print(filt_raw.get_data().shape)\n",
    "    \n",
    "    #Generate ica model\n",
    "    ica = ICA(n_components=0.95, method='fastica', random_state=97)\n",
    "    ica.fit(filt_raw)\n",
    "    #Save model\n",
    "    ica.save(ica_file)\n",
    "    \n",
    "    del filt_raw"
   ]
  },
  {
   "cell_type": "markdown",
   "metadata": {},
   "source": [
    "#### Copy data"
   ]
  },
  {
   "cell_type": "code",
   "execution_count": null,
   "metadata": {},
   "outputs": [],
   "source": [
    "orig_raw = raw.copy()"
   ]
  },
  {
   "cell_type": "code",
   "execution_count": null,
   "metadata": {},
   "outputs": [],
   "source": [
    "raw.load_data()"
   ]
  },
  {
   "cell_type": "markdown",
   "metadata": {},
   "source": [
    "#### Visualize sources"
   ]
  },
  {
   "cell_type": "code",
   "execution_count": null,
   "metadata": {
    "scrolled": true
   },
   "outputs": [],
   "source": [
    "import mne.viz\n",
    "import matplotlib as plt\n",
    "%matplotlib tk\n",
    "ica.plot_sources(raw, stop=20)"
   ]
  }
 ],
 "metadata": {
  "@webio": {
   "lastCommId": null,
   "lastKernelId": null
  },
  "kernelspec": {
   "display_name": "Python 3",
   "language": "python",
   "name": "python3"
  },
  "language_info": {
   "codemirror_mode": {
    "name": "ipython",
    "version": 3
   },
   "file_extension": ".py",
   "mimetype": "text/x-python",
   "name": "python",
   "nbconvert_exporter": "python",
   "pygments_lexer": "ipython3",
   "version": "3.7.9"
  }
 },
 "nbformat": 4,
 "nbformat_minor": 2
}
