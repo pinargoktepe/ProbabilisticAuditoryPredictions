{
 "cells": [
  {
   "cell_type": "code",
   "execution_count": 24,
   "metadata": {},
   "outputs": [],
   "source": [
    "import os.path\n",
    "import mne\n",
    "\n",
    "import random\n",
    "import warnings\n",
    "warnings.filterwarnings('ignore')\n",
    "\n",
    "import matplotlib\n",
    "#matplotlib.use('TKAgg')\n",
    "import matplotlib.pyplot as plt\n",
    "import numpy as np\n",
    "%matplotlib inline\n",
    "#%matplotlib tk\n",
    "import pickle\n",
    "random.seed(42)\n",
    "\n",
    "import import_ipynb\n",
    "from CommonFunctions import loadData, extractDataAndLabels, concatNonEmpty, plot_MVPA, plot_MVPA_Group, prepareData_conf_behavior, prepareData_pred_behavior_conf, splitEpochs_byConfidence, loadDataByParticipant\n",
    "\n",
    "import pylab, numpy as np, seaborn as sns, matplotlib.pyplot as plt\n",
    "from scipy.stats import ttest_rel, sem\n",
    "\n",
    "import matplotlib.gridspec as gridspec\n",
    "from scipy.stats import wilcoxon, kruskal\n",
    "\n",
    "from mne.stats import fdr_correction, bonferroni_correction\n",
    "from scipy.stats import f_oneway\n",
    "from statsmodels.stats.oneway import anova_oneway\n",
    "\n",
    "from statsmodels.stats import multitest\n",
    "\n",
    "import matplotlib.ticker as ticker\n"
   ]
  },
  {
   "cell_type": "code",
   "execution_count": 33,
   "metadata": {},
   "outputs": [
    {
     "name": "stdout",
     "output_type": "stream",
     "text": [
      "..\\..\\Omissions_MEG_data=-0.1_0.6\\Results\\S\n",
      "..\\..\\Omissions_MEG_data=-0.1_0.6\\Figures\\MVPA\\\n"
     ]
    },
    {
     "data": {
      "text/plain": [
       "21"
      ]
     },
     "execution_count": 33,
     "metadata": {},
     "output_type": "execute_result"
    }
   ],
   "source": [
    "s_ids = ['13', '17', '26', '23', '18', '21', '16', '28', '29', '30', '31', '32', '33',\n",
    "         '34','35', '36', '38', '39', '40', '41', '42']\n",
    "#s_ids = ['13', '17', '21', '28', '29', '31', '32', '33', '34', '35', '36', '38', '39', '40'] #subset-1\n",
    "#s_ids = ['13', '23', '18', '21', '26', '28', '30', '31', '35', '36', '39', '40', '41', '42'] #subset-2\n",
    "\n",
    "filep = '..\\\\..\\\\processed_MEG_Data\\MEG_Data\\\\'\n",
    "results_folder = '..\\\\..\\\\Omissions_MEG_data=-0.1_0.6\\\\Results\\S' \n",
    "filep_figures = '..\\\\..\\\\Omissions_MEG_data=-0.1_0.6\\\\Figures\\MVPA\\\\'\n",
    "\n",
    "print(results_folder)\n",
    "print(filep_figures)\n",
    "random.seed(42)\n",
    "sensors = 'mag'\n",
    "tlim = 70#140 #70\n",
    "tlim_lng = 70 #140\n",
    "task_name = 'all_predLevel' #\"all_predLevel\" #'all_incorrVScorr'# 'all_conf' #behavior_conf\n",
    "\n",
    "len(s_ids)"
   ]
  },
  {
   "cell_type": "code",
   "execution_count": 34,
   "metadata": {},
   "outputs": [],
   "source": [
    "min_ind_times = 20 #+70\n",
    "max_ind_times = 50 #+70\n",
    "w = [min_ind_times, max_ind_times]"
   ]
  },
  {
   "cell_type": "code",
   "execution_count": 35,
   "metadata": {},
   "outputs": [
    {
     "data": {
      "text/plain": [
       "21"
      ]
     },
     "execution_count": 35,
     "metadata": {},
     "output_type": "execute_result"
    }
   ],
   "source": [
    "len(s_ids)"
   ]
  },
  {
   "cell_type": "code",
   "execution_count": 36,
   "metadata": {},
   "outputs": [
    {
     "name": "stdout",
     "output_type": "stream",
     "text": [
      "Already resampled data!\n",
      "..\\..\\processed_MEG_Data\\MEG_Data\\S17\\17_2_tsss_mc_trans_mag_nobase-epochs_afterICA_manually_AR_resampled.fif loaded!\n"
     ]
    }
   ],
   "source": [
    "s_id_tmp = '17'\n",
    "fname_elongated = filep + 'S' + s_id_tmp + '\\\\' + s_id_tmp + '_2_tsss_mc_trans_mag_nobase-epochs_afterICA_manually_AR.fif' \n",
    "epochs_lng, data_real_lng, labels_real_lng, data_omissions_lng, labels_omissions_lng = loadDataByParticipant(s_id_tmp, task_name, fname_elongated, sensors, filep)\n"
   ]
  },
  {
   "cell_type": "code",
   "execution_count": 37,
   "metadata": {},
   "outputs": [],
   "source": [
    "def applyWilcoxon(results_group):\n",
    "    theoreticalLevel = np.asarray([0.5 for i in range(results_group.shape[0])])\n",
    "    print('theoreticalLevel: ', theoreticalLevel.shape)\n",
    "    w_group, p_group = [], []\n",
    "    p_val_corrected_group, reject_group = [], []\n",
    "\n",
    "    for j in range(results_group.shape[1]):\n",
    "        data_toCompare = results_group[:, j]\n",
    "        w_val, p_val = wilcoxon(data_toCompare, theoreticalLevel, alternative='greater')\n",
    "        w_group.append(w_val)        \n",
    "        p_group.append(p_val)\n",
    "        \n",
    "\n",
    "    w_group = np.asarray(w_group)\n",
    "    p_group = np.asarray(p_group)\n",
    "    reject_group, p_val_corrected_group = fdr_correction(p_group, alpha=0.05, method='indep') \n",
    "    print('p values: ')\n",
    "    print(p_group)\n",
    "    print('corrected p vlaues: ')\n",
    "    print(p_val_corrected_group)\n",
    "\n",
    "    return w_group, p_group, p_val_corrected_group\n"
   ]
  },
  {
   "cell_type": "code",
   "execution_count": 38,
   "metadata": {},
   "outputs": [],
   "source": [
    "def applySmoothing(data, N):\n",
    "    \n",
    "    data_sm = np.zeros((data.shape[0], data.shape[1]-N+1))\n",
    "            \n",
    "    #print('shape of data at 0: ', data_0.shape)\n",
    "    #print('shape of data_sm_0: ', data_sm_0.shape)\n",
    "    #print('labels: ', labels)\n",
    "    # smooth:\n",
    "    for f in range(len(data_sm)):\n",
    "        data_sm[f] = np.convolve(data[f,:], np.ones((N,))/N, mode='valid')\n",
    "    \n",
    "    return data_sm\n",
    "    "
   ]
  },
  {
   "cell_type": "code",
   "execution_count": 39,
   "metadata": {},
   "outputs": [],
   "source": [
    "def applyKruskal(x, y, z=None):\n",
    "    stats, pvals = [], []\n",
    "    \n",
    "    for i in range(x.shape[1]):\n",
    "        if np.all(z) == None:\n",
    "            #print('comparing 2 groups')\n",
    "            s,p = kruskal(x[:,i],y[:,i])\n",
    "        else: \n",
    "            #print('comparing 3 groups')\n",
    "            s,p = kruskal(x[:,i],y[:,i],z[:,i])\n",
    "    \n",
    "        \n",
    "        stats.append(s)\n",
    "        pvals.append(p)\n",
    "        \n",
    "    return stats, pvals"
   ]
  },
  {
   "cell_type": "code",
   "execution_count": 40,
   "metadata": {},
   "outputs": [],
   "source": [
    "def applyAnova(x, y, z=None):\n",
    "    res_array = []\n",
    "    \n",
    "    for i in range(x.shape[1]):\n",
    "        if np.all(z) == None:\n",
    "            #print('comparing 2 groups')\n",
    "            data = np.asarray([x[:,i],y[:,i]])\n",
    "        else: \n",
    "            #print('comparing 3 groups')\n",
    "            data = np.asarray([x[:,i],y[:,i],z[:,i]])\n",
    "    \n",
    "        res = anova_oneway(data=data, welch_correction=False)\n",
    "        res_array.append(res.pvalue)\n",
    "    return res_array"
   ]
  },
  {
   "cell_type": "code",
   "execution_count": 41,
   "metadata": {},
   "outputs": [],
   "source": [
    "\n",
    "def plot_conditions(data, peakPoint, times, ylabel, plotname, labels=None, isOmi=True, smooth=False, isReal=False, \n",
    "                    isPredLevel=True, includeInverted=False, fvalues=None):\n",
    "    print(peakPoint)\n",
    "    sns.set(style=\"white\")\n",
    "    ColorsL = np.array(([194,165,207], [153,112,171], [118,42,131]))/256\n",
    "    ColorReal = np.array(([27,120,55]))/256\n",
    "    col_axes = np.array((82, 82, 82))/256\n",
    "    pval_color = np.array(([128,128,128]))/256\n",
    "\n",
    "    al = 0.2\n",
    "    fig = plt.figure(num=None, figsize=(4, 2), dpi=150)\n",
    "    ax = fig.add_subplot(1,1,1)\n",
    "    #data = data[:,:,70:]\n",
    "    N = 10 # Kernel for smoothing\n",
    "    min_vals = np.zeros((data.shape[1]),)\n",
    "    if isReal == False:\n",
    "        if smooth == True:\n",
    "            # pre-allocate array for smooth results - this will be the same size as original results - N+1 due to kernel\n",
    "            data_0 = data[:,0,:]\n",
    "            data_sm_0 = applySmoothing(data_0, N)\n",
    "            print('ind 0')\n",
    "            w_sm_0, p_sm_0, p_corrected_sm_0 = applyWilcoxon(data_sm_0)\n",
    "            epochs_mean = np.mean(data_sm_0, axis = 0)\n",
    "            min_vals[0] = np.min(epochs_mean)\n",
    "            epochs_std = sem(data_sm_0, axis = 0)/2\n",
    "            ax.plot(times[:len(times)-N+1], epochs_mean, color = ColorsL[0], linewidth = 2,  label = labels[0])\n",
    "            ax.fill_between(times[:len(times)-N+1], epochs_mean, epochs_mean + epochs_std, color = ColorsL[0], interpolate=True, alpha = al)\n",
    "            ax.fill_between(times[:len(times)-N+1], epochs_mean, epochs_mean - epochs_std, color = ColorsL[0], interpolate=True, alpha = al)\n",
    "\n",
    "            data_1 = data[:,1,:]\n",
    "            data_sm_1 = applySmoothing(data_1, N)\n",
    "            print('ind 1')\n",
    "            w_sm_1, p_sm_1, p_corrected_sm_1 = applyWilcoxon(data_sm_1)\n",
    "            epochs_mean = np.mean(data_sm_1, axis = 0)\n",
    "            min_vals[1] = np.min(epochs_mean)\n",
    "            epochs_std = sem(data_sm_1, axis = 0)/2\n",
    "            ax.plot(times[:len(times)-N+1], epochs_mean, color = ColorsL[1], linewidth = 2,  label = labels[1])\n",
    "            ax.fill_between(times[:len(times)-N+1], epochs_mean, epochs_mean + epochs_std, color = ColorsL[1], interpolate=True, alpha = al)\n",
    "            ax.fill_between(times[:len(times)-N+1], epochs_mean, epochs_mean - epochs_std, color = ColorsL[1], interpolate=True, alpha = al)\n",
    "\n",
    "            if isPredLevel == True or includeInverted == True or data.shape[1] > 2:\n",
    "                data_2 = data[:,2,:]\n",
    "                data_sm_2 = applySmoothing(data_2, N)\n",
    "                print('ind 2')\n",
    "                w_sm_2, p_sm_2, p_corrected_sm_2 = applyWilcoxon(data_sm_2)\n",
    "                epochs_mean = np.mean(data_sm_2, axis = 0)\n",
    "                min_vals[2] = np.min(epochs_mean)\n",
    "                epochs_std = sem(data_sm_2, axis = 0)/2\n",
    "                \n",
    "                ax.plot(times[:len(times)-N+1], epochs_mean, color = ColorsL[2], linewidth = 2,  label = labels[2])\n",
    "                ax.fill_between(times[:len(times)-N+1], epochs_mean, epochs_mean + epochs_std, color = ColorsL[2], interpolate=True, alpha = al)\n",
    "                ax.fill_between(times[:len(times)-N+1], epochs_mean, epochs_mean - epochs_std, color = ColorsL[2], interpolate=True, alpha = al)\n",
    "\n",
    "                if data.shape[1] == 4:\n",
    "                    print('here!!!!')\n",
    "                    data_3 = data[:,3,:]\n",
    "                    data_sm_3 = applySmoothing(data_3, N)\n",
    "                    epochs_mean = np.mean(data_sm_3, axis = 0)\n",
    "                    min_vals[3] = np.min(epochs_mean)\n",
    "                    epochs_std = sem(data_sm_3, axis = 0)/2\n",
    "\n",
    "                    ax.plot(times[:len(times)-N+1], epochs_mean, '-.', color = ColorsL[1], linewidth = 2,  label = labels[3])\n",
    "                    ax.fill_between(times[:len(times)-N+1], epochs_mean, epochs_mean + epochs_std, color = ColorsL[1], interpolate=True, alpha = al)\n",
    "                    ax.fill_between(times[:len(times)-N+1], epochs_mean, epochs_mean - epochs_std, color = ColorsL[1], interpolate=True, alpha = al)\n",
    "\n",
    "\n",
    "        else:\n",
    "            w_sm_0, p_sm_0, p_corrected_sm_0 = applyWilcoxon(data[0])\n",
    "            epochs_mean = np.mean(data[0], axis = 0)\n",
    "            epochs_std = sem(data[0], axis = 0)/2\n",
    "            ax.plot(times, epochs_mean, color = ColorsL[0], linewidth = 2,  label = labels[0])\n",
    "            ax.fill_between(times, epochs_mean, epochs_mean + epochs_std, color = ColorsL[0], interpolate=True, alpha = al)\n",
    "            ax.fill_between(times, epochs_mean, epochs_mean - epochs_std, color = ColorsL[0], interpolate=True, alpha = al)\n",
    "            \n",
    "            w_sm_1, p_sm_1, p_corrected_sm_1 = applyWilcoxon(data[1])\n",
    "            epochs_mean = np.mean(data[1], axis = 0)\n",
    "            epochs_std = sem(data[1], axis = 0)/2\n",
    "            ax.plot(times, epochs_mean, color = ColorsL[0], linewidth = 2,  label = labels[1])\n",
    "            ax.fill_between(times, epochs_mean, epochs_mean + epochs_std, color = ColorsL[1], interpolate=True, alpha = al)\n",
    "            ax.fill_between(times, epochs_mean, epochs_mean - epochs_std, color = ColorsL[1], interpolate=True, alpha = al)\n",
    "            \n",
    "            if isPredLevel == True:\n",
    "                w_sm_2, p_sm_2, p_corrected_sm_2 = applyWilcoxon(data[2])\n",
    "                epochs_mean = np.mean(data[2], axis = 0)\n",
    "                epochs_std = sem(data[2], axis = 0)/2\n",
    "                ax.plot(times, epochs_mean, color = ColorsL[0], linewidth = 2,  label = labels[2])\n",
    "                ax.fill_between(times, epochs_mean, epochs_mean + epochs_std, color = ColorsL[2], interpolate=True, alpha = al)\n",
    "                ax.fill_between(times, epochs_mean, epochs_mean - epochs_std, color = ColorsL[2], interpolate=True, alpha = al)\n",
    "        plt.legend(labels, loc='upper center', bbox_to_anchor=(1.2, 0.7))\n",
    "    else:\n",
    "        # pre-allocate array for smooth results - this will be the same size as original results - N+1 due to kernel\n",
    "        data_0 = data[:,0,:]\n",
    "        if smooth == True:\n",
    "            data_sm_0 = applySmoothing(data_0, N)\n",
    "            #w_sm_0, p_sm_0 = applyWilcoxon(data_sm_0)\n",
    "            epochs_mean = np.mean(data_sm_0, axis = 0)\n",
    "            epochs_std = sem(data_sm_0, axis = 0)/2\n",
    "            \n",
    "            ax.plot(times[:len(times)-N+1], epochs_mean, color = ColorReal, linewidth = 2)\n",
    "            ax.fill_between(times[:len(times)-N+1], epochs_mean, epochs_mean + epochs_std, color = ColorReal, interpolate=True, alpha = al)\n",
    "            ax.fill_between(times[:len(times)-N+1], epochs_mean, epochs_mean - epochs_std, color = ColorReal, interpolate=True, alpha = al)\n",
    "\n",
    "                       \n",
    "        else:\n",
    "            epochs_mean = np.mean(data_0, axis = 0)\n",
    "            epochs_std = sem(data_0, axis = 0)/2\n",
    "            \n",
    "            print('max: ', np.max(epochs_mean))\n",
    "            print('argmax: ', np.argmax(epochs_mean))\n",
    "            ax.plot(times, epochs_mean, color = ColorReal, linewidth = 2,  label = labels[0])\n",
    "            ax.fill_between(times, epochs_mean, epochs_mean + epochs_std, color = ColorReal, interpolate=True, alpha = al)\n",
    "            ax.fill_between(times, epochs_mean, epochs_mean - epochs_std, color = ColorReal, interpolate=True, alpha = al)\n",
    "\n",
    "    print(times)\n",
    "    if isReal == False:\n",
    "        if isPredLevel == False or includeInverted == False:\n",
    "            nLoop = 2\n",
    "        else:\n",
    "            nLoop = 3\n",
    "\n",
    "        for t in range(data.shape[1]):\n",
    "            for p in range(data.shape[2]-N+1):\n",
    "                if t==0:\n",
    "                    p_values_tmp = p_corrected_sm_0\n",
    "                    #r_values_tmp = r_sm_0\n",
    "                elif t==1:\n",
    "                    p_values_tmp = p_corrected_sm_1\n",
    "                    #r_values_tmp = r_sm_1\n",
    "                elif t==2:\n",
    "                    p_values_tmp = p_corrected_sm_2\n",
    "                    #r_values_tmp = r_sm_2\n",
    "\n",
    "                if p_values_tmp[p] <= 0.05: #and r_values_tmp[p] == True:\n",
    "                    y_val = np.min(min_vals)\n",
    "                    #print(y_val)\n",
    "                    print('ind of omi: ' + str(t) + ' - ind of val: ' + str(p) + ' - val: ', str(p_values_tmp[p]))\n",
    "                    print(times[p])\n",
    "                    ax.plot(times[p], y_val-0.005, color=pval_color, marker='_')\n",
    "\n",
    "\n",
    "        if np.all(fvalues) != None:\n",
    "            y_val = np.min(min_vals)\n",
    "            print(y_val)\n",
    "            for p in range(data.shape[2]-N+1):\n",
    "                if fvalues[p] <= 0.05:\n",
    "                    ax.plot(times[p], y_val-0.005, color=pval_color, marker='_')\n",
    "    \n",
    "  \n",
    "    ax.set_xticks(np.arange(-0.1, 0.6, 0.1))   \n",
    "    ax.set_ylabel(ylabel)\n",
    "    #plt.yticks(np.arange(0.1, 0.6, 0.1))\n",
    "    ax.set_xlabel('Times(s)')\n",
    "    ax.spines['right'].set_visible(False)\n",
    "    ax.spines['top'].set_visible(False)\n",
    "    #locator = ticker.FixedLocator([-0.1, 0, 0.1, 0.2, 0.3, 0.4, 0.5])\n",
    "    #ax.xaxis.set_major_locator(locator)\n",
    "    ax.tick_params(axis='x', which='major', length=4)\n",
    "    ax.xaxis.tick_bottom()\n",
    "    \n",
    "    \n",
    "    #plt.savefig(plotname, bbox_inches='tight')\n",
    "    return data_sm_0, data_sm_1, data_sm_2\n",
    "    \n",
    "    \n"
   ]
  },
  {
   "cell_type": "code",
   "execution_count": 43,
   "metadata": {},
   "outputs": [
    {
     "name": "stdout",
     "output_type": "stream",
     "text": [
      "shape res:  5\n",
      "test res length:  3\n",
      "shape res:  5\n",
      "test res length:  3\n",
      "shape res:  5\n",
      "test res length:  3\n",
      "shape res:  5\n",
      "test res length:  3\n",
      "shape res:  5\n",
      "test res length:  3\n",
      "shape res:  5\n",
      "test res length:  3\n",
      "shape res:  5\n",
      "test res length:  3\n",
      "shape res:  5\n",
      "test res length:  3\n",
      "shape res:  5\n",
      "test res length:  3\n",
      "shape res:  5\n",
      "test res length:  3\n",
      "shape res:  5\n",
      "test res length:  3\n",
      "shape res:  5\n",
      "test res length:  3\n",
      "shape res:  5\n",
      "test res length:  3\n",
      "shape res:  5\n",
      "test res length:  3\n",
      "shape res:  5\n",
      "test res length:  3\n",
      "shape res:  5\n",
      "test res length:  3\n",
      "shape res:  5\n",
      "test res length:  3\n",
      "shape res:  5\n",
      "test res length:  3\n",
      "shape res:  5\n",
      "test res length:  3\n",
      "shape res:  5\n",
      "test res length:  3\n",
      "shape res:  5\n",
      "test res length:  3\n"
     ]
    }
   ],
   "source": [
    "includeInverted = False\n",
    "\n",
    "#\"all_predLevel\" #'all_incorrVScorr'# 'all_conf'\n",
    "if task_name == \"all_predLevel\":\n",
    "    plot_labels = ['80%', ' 90%', '100%']\n",
    "    plot_file_suf = ['80', '90', '100']\n",
    "    \n",
    "elif task_name == \"behavior_conf\":\n",
    "    plot_labels = ['Corr & LowConf', 'Corr & HighConf','Incorr & LowConf', 'Incorr & HighConf']\n",
    "    plot_file_suf = ['corrLow', 'corrHigh', 'incorrLow', 'incorrHigh']\n",
    "    \n",
    "elif task_name == 'all_incorrVScorr':\n",
    "    plot_labels = ['Correct', 'Incorrect']\n",
    "    plot_file_suf = ['corr', 'incorr']\n",
    "    \n",
    "elif task_name == \"all_conf\":\n",
    "    plot_labels = ['Low Confidence', 'High Confidence']\n",
    "    plot_file_suf = ['low', 'high']\n",
    "    \n",
    "results_group, results_group_real = [], []\n",
    "results_group_reversed, results_group_real_reversed = [], []\n",
    "for s in s_ids:\n",
    "    #file_reversed = results_folder + s + '\\\\' + s + \"_\" + sensors + \"_results_\" + task_name + \"_\" + str(w[0]) + '_' + str(w[1])+ '_sm.npy'\n",
    "    file = results_folder + s + '\\\\' + s + \"_\" + sensors + \"_results_\" + task_name + \"_\" + str(w[0]) + '_' + str(w[1])+ '_sm_all.npy'\n",
    "    \n",
    "    #file = results_folder + s + '/' + s + \"_\" + sensors +\"_results_\" +  task_name + \"_earlyWin_\" + str(w[0])+ '_' +str(w[1]) + \".npy\"\n",
    "    results_MVPA = np.load(file, allow_pickle=True)\n",
    "    print('shape res: ', len(results_MVPA))\n",
    "    #results_MVPA_reversed = np.load(file_reversed, allow_pickle=True)\n",
    "    #print('results_MVPA: ', results_MVPA.shape)\n",
    "    \n",
    "    if len(results_MVPA) > 4:\n",
    "        res = []\n",
    "        for k in range(1,len(results_MVPA)-1):\n",
    "            res.append(results_MVPA[k][:])\n",
    "        print('test res length: ', len(res))    \n",
    "        #res_reversed = [results_MVPA_reversed[1][:], results_MVPA_reversed[2][:], results_MVPA_reversed[3][:]]\n",
    "    else:\n",
    "        res = [results_MVPA[1][:], results_MVPA[2][:]]\n",
    "        \n",
    "        if includeInverted == True:\n",
    "            if 'incorrVScorr' in task_name:\n",
    "                res.append(results_MVPA_reversed[2][:])\n",
    "            elif 'conf' in task_name:\n",
    "                res.append(results_MVPA_reversed[1][:]) \n",
    "    \n",
    "    res_real =  [results_MVPA[0][:]]\n",
    "    #res_real_reversed = [results_MVPA_reversed[0][:]]\n",
    "    \n",
    "    results_group.append(np.asarray(res))\n",
    "    results_group_real.append(np.asarray(res_real))\n"
   ]
  },
  {
   "cell_type": "code",
   "execution_count": 44,
   "metadata": {},
   "outputs": [
    {
     "name": "stdout",
     "output_type": "stream",
     "text": [
      "(21, 3, 70)\n"
     ]
    },
    {
     "data": {
      "text/plain": [
       "(21, 1, 70)"
      ]
     },
     "execution_count": 44,
     "metadata": {},
     "output_type": "execute_result"
    }
   ],
   "source": [
    "results_group = np.asarray(results_group)\n",
    "print(results_group.shape)\n",
    "results_group_real = np.asarray(results_group_real)\n",
    "results_group_real.shape"
   ]
  },
  {
   "cell_type": "code",
   "execution_count": 14,
   "metadata": {},
   "outputs": [
    {
     "data": {
      "text/plain": [
       "array([-0.1 , -0.09, -0.08, -0.07, -0.06, -0.05, -0.04, -0.03, -0.02,\n",
       "       -0.01,  0.  ,  0.01,  0.02,  0.03,  0.04,  0.05,  0.06,  0.07,\n",
       "        0.08,  0.09,  0.1 ,  0.11,  0.12,  0.13,  0.14,  0.15,  0.16,\n",
       "        0.17,  0.18,  0.19,  0.2 ,  0.21,  0.22,  0.23,  0.24,  0.25,\n",
       "        0.26,  0.27,  0.28,  0.29,  0.3 ,  0.31,  0.32,  0.33,  0.34,\n",
       "        0.35,  0.36,  0.37,  0.38,  0.39,  0.4 ,  0.41,  0.42,  0.43,\n",
       "        0.44,  0.45,  0.46,  0.47,  0.48,  0.49,  0.5 ,  0.51,  0.52,\n",
       "        0.53,  0.54,  0.55,  0.56,  0.57,  0.58,  0.59])"
      ]
     },
     "execution_count": 14,
     "metadata": {},
     "output_type": "execute_result"
    }
   ],
   "source": [
    "epochs_lng[0].times[70: tlim_lng]"
   ]
  },
  {
   "cell_type": "code",
   "execution_count": 15,
   "metadata": {},
   "outputs": [
    {
     "name": "stdout",
     "output_type": "stream",
     "text": [
      "(21, 3, 140)\n"
     ]
    }
   ],
   "source": [
    "print(results_group.shape)\n"
   ]
  },
  {
   "cell_type": "code",
   "execution_count": null,
   "metadata": {
    "scrolled": true
   },
   "outputs": [],
   "source": [
    "N = 10\n",
    "omi_8_sm = applySmoothing(results_group[:,0,70:], N)\n",
    "omi_9_sm = applySmoothing(results_group[:,1,70:], N)\n",
    "omi_10_sm = applySmoothing(results_group[:,2,70:], N)\n",
    "omi_10_sm.shape"
   ]
  },
  {
   "cell_type": "code",
   "execution_count": null,
   "metadata": {},
   "outputs": [],
   "source": [
    "pvals = applyAnova(omi_8_sm, omi_9_sm, omi_10_sm) "
   ]
  },
  {
   "cell_type": "code",
   "execution_count": null,
   "metadata": {},
   "outputs": [],
   "source": [
    "print(pvals)\n",
    "plt.plot(epochs_lng[0].times[70: tlim_lng-N+1], pvals)\n",
    "plt.ylabel('p-values')\n",
    "plt.xlabel('Times(s)')\n",
    "plt.ylim(ymin=0)\n",
    "plt.title('One way Anova Results')\n",
    "plt.show()"
   ]
  },
  {
   "cell_type": "code",
   "execution_count": null,
   "metadata": {},
   "outputs": [],
   "source": [
    "stats, pvals = applyKruskal(omi_8_sm, omi_9_sm, omi_10_sm)"
   ]
  },
  {
   "cell_type": "code",
   "execution_count": null,
   "metadata": {},
   "outputs": [],
   "source": [
    "print(pvals)\n",
    "plt.plot(epochs_lng[0].times[70: tlim_lng-N+1], pvals)\n",
    "plt.ylabel('p-values')\n",
    "plt.xlabel('Times(s)')\n",
    "plt.ylim(ymin=0)\n",
    "plt.title('Kruskal-Wallis Test Results')\n",
    "plt.show()"
   ]
  },
  {
   "cell_type": "code",
   "execution_count": null,
   "metadata": {},
   "outputs": [],
   "source": []
  },
  {
   "cell_type": "code",
   "execution_count": null,
   "metadata": {},
   "outputs": [],
   "source": [
    "results_group.shape"
   ]
  },
  {
   "cell_type": "code",
   "execution_count": 46,
   "metadata": {},
   "outputs": [
    {
     "name": "stdout",
     "output_type": "stream",
     "text": [
      "[20, 50]\n",
      "ind 0\n",
      "theoreticalLevel:  (21,)\n",
      "p values: \n",
      "[0.19629192 0.25838041 0.31664848 0.30457449 0.24740124 0.37964392\n",
      " 0.48642921 0.43244362 0.59416103 0.56755638 0.65864325 0.70729876\n",
      " 0.78404427 0.71896267 0.74161959 0.74161959 0.71896267 0.84809208\n",
      " 0.80370808 0.65864325 0.54065323 0.47287226 0.35445265 0.30457449\n",
      " 0.25838041 0.21595573 0.28103733 0.32891369 0.30060635 0.32891369\n",
      " 0.52712774 0.76333284 0.83977127 0.89854145 0.97490406 0.98247194\n",
      " 0.96200991 0.96767521 0.97490406 0.96493149 0.95210028 0.97265339\n",
      " 0.97490406 0.95560074 0.95560074 0.95210028 0.95210028 0.95210028\n",
      " 0.94032907 0.83977127 0.8838872  0.83117008 0.7723636  0.71896267\n",
      " 0.44586611 0.05967093 0.04439926 0.10784006 0.07348204 0.04109764\n",
      " 0.00973654]\n",
      "corrected p vlaues: \n",
      "[0.98247194 0.98247194 0.98247194 0.98247194 0.98247194 0.98247194\n",
      " 0.98247194 0.98247194 0.98247194 0.98247194 0.98247194 0.98247194\n",
      " 0.98247194 0.98247194 0.98247194 0.98247194 0.98247194 0.98247194\n",
      " 0.98247194 0.98247194 0.98247194 0.98247194 0.98247194 0.98247194\n",
      " 0.98247194 0.98247194 0.98247194 0.98247194 0.98247194 0.98247194\n",
      " 0.98247194 0.98247194 0.98247194 0.98247194 0.98247194 0.98247194\n",
      " 0.98247194 0.98247194 0.98247194 0.98247194 0.98247194 0.98247194\n",
      " 0.98247194 0.98247194 0.98247194 0.98247194 0.98247194 0.98247194\n",
      " 0.98247194 0.98247194 0.98247194 0.98247194 0.98247194 0.98247194\n",
      " 0.98247194 0.89648085 0.89648085 0.98247194 0.89648085 0.89648085\n",
      " 0.59392881]\n",
      "ind 1\n",
      "theoreticalLevel:  (21,)\n",
      "p values: \n",
      "[0.76333284 0.77381611 0.63326502 0.67108631 0.94032907 0.94839287\n",
      " 0.81313753 0.73040533 0.48642921 0.60731745 0.5        0.59416103\n",
      " 0.64603281 0.59416103 0.34135675 0.34066116 0.23666716 0.22618389\n",
      " 0.19629192 0.21595573 0.24740124 0.10784006 0.05967093 0.12142086\n",
      " 0.18686247 0.20599079 0.31372302 0.37964392 0.5        0.45934677\n",
      " 0.48642921 0.67108631 0.82229185 0.65864325 0.68335152 0.67108631\n",
      " 0.45934677 0.32891369 0.30060635 0.40583897 0.4113802  0.44586611\n",
      " 0.68335152 0.62035608 0.67108631 0.59416103 0.59416103 0.76333284\n",
      " 0.81313753 0.89854145 0.84809208 0.89215994 0.81486936 0.67108631\n",
      " 0.65864325 0.68335152 0.64603281 0.63326502 0.52712774 0.40583897\n",
      " 0.48642921]\n",
      "corrected p vlaues: \n",
      "[0.89571077 0.89571077 0.86842589 0.86842589 0.94839287 0.94839287\n",
      " 0.89571077 0.89571077 0.86842589 0.86842589 0.86842589 0.86842589\n",
      " 0.86842589 0.86842589 0.86842589 0.86842589 0.86842589 0.86842589\n",
      " 0.86842589 0.86842589 0.86842589 0.86842589 0.86842589 0.86842589\n",
      " 0.86842589 0.86842589 0.86842589 0.86842589 0.86842589 0.86842589\n",
      " 0.86842589 0.86842589 0.89571077 0.86842589 0.86842589 0.86842589\n",
      " 0.86842589 0.86842589 0.86842589 0.86842589 0.86842589 0.86842589\n",
      " 0.86842589 0.86842589 0.86842589 0.86842589 0.86842589 0.89571077\n",
      " 0.89571077 0.92900048 0.90760731 0.92900048 0.89571077 0.86842589\n",
      " 0.86842589 0.86842589 0.86842589 0.86842589 0.86842589 0.86842589\n",
      " 0.86842589]\n",
      "ind 2\n",
      "theoreticalLevel:  (21,)\n",
      "p values: \n",
      "[0.67108631 0.71896267 0.74161959 0.89783488 0.93232155 0.92143297\n",
      " 0.94839287 0.91609669 0.90465641 0.94447088 0.93596077 0.85613298\n",
      " 0.76333284 0.73040533 0.44586611 0.35396719 0.21595573 0.11449289\n",
      " 0.05552912 0.06864166 0.08949375 0.06864166 0.06403923 0.03506851\n",
      " 0.02975368 0.01595974 0.01752806 0.07348204 0.15190792 0.25079565\n",
      " 0.23666716 0.30457449 0.40583897 0.41909695 0.63326502 0.76333284\n",
      " 0.83977127 0.82229185 0.80370808 0.69542551 0.51357079 0.51357079\n",
      " 0.39268255 0.28103733 0.20599079 0.20599079 0.12142086 0.16022873\n",
      " 0.06403923 0.01921892 0.00634575 0.01316547 0.05160713 0.14386702\n",
      " 0.30457449 0.39268255 0.40583897 0.30457449 0.63326502 0.84809208\n",
      " 0.91050625]\n",
      "corrected p vlaues: \n",
      "[0.94839287 0.94839287 0.94839287 0.94839287 0.94839287 0.94839287\n",
      " 0.94839287 0.94839287 0.94839287 0.94839287 0.94839287 0.94839287\n",
      " 0.94839287 0.94839287 0.75549535 0.71973329 0.57275216 0.43568662\n",
      " 0.32017173 0.32017173 0.36394126 0.32017173 0.32017173 0.30559703\n",
      " 0.3024958  0.23447084 0.23447084 0.32017173 0.48770438 0.61194139\n",
      " 0.60152902 0.64065669 0.72812285 0.73042611 0.94839287 0.94839287\n",
      " 0.94839287 0.94839287 0.94839287 0.94839287 0.82441626 0.82441626\n",
      " 0.72812285 0.64065669 0.57115629 0.57115629 0.43568662 0.48869762\n",
      " 0.32017173 0.23447084 0.23447084 0.23447084 0.32017173 0.48754933\n",
      " 0.64065669 0.72812285 0.72812285 0.64065669 0.94839287 0.94839287\n",
      " 0.94839287]\n",
      "[-0.1  -0.09 -0.08 -0.07 -0.06 -0.05 -0.04 -0.03 -0.02 -0.01  0.    0.01\n",
      "  0.02  0.03  0.04  0.05  0.06  0.07  0.08  0.09  0.1   0.11  0.12  0.13\n",
      "  0.14  0.15  0.16  0.17  0.18  0.19  0.2   0.21  0.22  0.23  0.24  0.25\n",
      "  0.26  0.27  0.28  0.29  0.3   0.31  0.32  0.33  0.34  0.35  0.36  0.37\n",
      "  0.38  0.39  0.4   0.41  0.42  0.43  0.44  0.45  0.46  0.47  0.48  0.49\n",
      "  0.5   0.51  0.52  0.53  0.54  0.55  0.56  0.57  0.58  0.59]\n"
     ]
    },
    {
     "data": {
      "image/png": "[encoded data removed]",
      "text/plain": [
       "<Figure size 600x300 with 1 Axes>"
      ]
     },
     "metadata": {},
     "output_type": "display_data"
    }
   ],
   "source": [
    "plotname = filep_figures + 'MVPA_GroupLevel_TestOmiScores_all_' +  sensors + '_' + task_name + '_' + str(w[0])+ '_' +str(w[1]) + '_sm_p.png'\n",
    "w_lng = [w[0], w[1]]\n",
    "data_sm_0, data_sm_1, data_sm_2 = plot_conditions(results_group, w_lng, epochs_lng[0].times[0: tlim_lng], 'AUC', plotname, labels=plot_labels,\n",
    "                smooth=True, isPredLevel=False, isReal=False, includeInverted=False)\n"
   ]
  },
  {
   "cell_type": "code",
   "execution_count": null,
   "metadata": {},
   "outputs": [],
   "source": [
    "plotname = filep_figures + 'MVPA_GroupLevel_TestRealScores_all_tmp_' +  sensors + '_' + task_name + '_' + str(w[0])+ '_' +str(w[1]) + '_sm.png'\n",
    "w_lng = [w[0], w[1]]\n",
    "plot_conditions(results_group_real, w_lng, epochs_lng[0].times[70: tlim_lng], 'AUC', plotname, labels=plot_labels,\n",
    "                smooth=True, isPredLevel=False, isReal=True, includeInverted=False, fvalues=None)\n"
   ]
  },
  {
   "cell_type": "code",
   "execution_count": 72,
   "metadata": {},
   "outputs": [],
   "source": [
    "np.save('..\\\\Results\\\\omi_8_smoothed=10.npy', data_sm_0)\n",
    "np.save('..\\\\Results\\\\omi_9_smoothed=10.npy', data_sm_1)\n",
    "np.save('..\\\\Results\\\\omi_10_smoothed=10.npy', data_sm_2)"
   ]
  },
  {
   "cell_type": "code",
   "execution_count": 78,
   "metadata": {},
   "outputs": [],
   "source": [
    "data_sm_2_2 = np.load('..\\\\Results\\\\omi_10_smoothed=10.npy')"
   ]
  },
  {
   "cell_type": "code",
   "execution_count": 47,
   "metadata": {},
   "outputs": [],
   "source": [
    "np.save('..\\\\..\\\\Omissions_MEG_data=-0.1_0.6\\\\Results\\\\omi_8_data=-0.1_0.6.npy', results_group[:,0,:])\n",
    "np.save('..\\\\..\\\\Omissions_MEG_data=-0.1_0.6\\\\Results\\\\omi_9_data=-0.1_0.6.npy', results_group[:,1,:])\n",
    "np.save('..\\\\..\\\\Omissions_MEG_data=-0.1_0.6\\\\Results\\\\omi_10_data=-0.1_0.6.npy', results_group[:,2,:])"
   ]
  },
  {
   "cell_type": "code",
   "execution_count": 48,
   "metadata": {},
   "outputs": [],
   "source": [
    "g = np.load('..\\\\..\\\\Omissions_MEG_data=-0.1_0.6\\\\Results\\\\omi_8_data=-0.1_0.6.npy')"
   ]
  },
  {
   "cell_type": "code",
   "execution_count": 49,
   "metadata": {},
   "outputs": [
    {
     "data": {
      "text/plain": [
       "True"
      ]
     },
     "execution_count": 49,
     "metadata": {},
     "output_type": "execute_result"
    }
   ],
   "source": [
    "np.array_equal( results_group[:,0,:], g)"
   ]
  },
  {
   "cell_type": "code",
   "execution_count": null,
   "metadata": {},
   "outputs": [],
   "source": []
  }
 ],
 "metadata": {
  "kernelspec": {
   "display_name": "Python 3",
   "language": "python",
   "name": "python3"
  },
  "language_info": {
   "codemirror_mode": {
    "name": "ipython",
    "version": 3
   },
   "file_extension": ".py",
   "mimetype": "text/x-python",
   "name": "python",
   "nbconvert_exporter": "python",
   "pygments_lexer": "ipython3",
   "version": "3.7.9"
  }
 },
 "nbformat": 4,
 "nbformat_minor": 4
}
