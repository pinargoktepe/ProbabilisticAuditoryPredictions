{
 "cells": [
  {
   "cell_type": "code",
   "execution_count": 20,
   "metadata": {},
   "outputs": [],
   "source": [
    "import os.path\n",
    "\n",
    "import numpy as np\n",
    "import random\n",
    "seed = 42\n",
    "random.seed(seed)\n",
    "\n",
    "import warnings\n",
    "warnings.filterwarnings('ignore')\n",
    "\n",
    "import mne\n",
    "from mne import find_events\n",
    "from mne.decoding import Vectorizer, SlidingEstimator, cross_val_multiscore\n",
    "\n",
    "from sklearn.linear_model import LogisticRegression\n",
    "from sklearn.model_selection import GridSearchCV, cross_val_score, train_test_split, StratifiedKFold, RepeatedKFold\n",
    "from sklearn.preprocessing import StandardScaler\n",
    "from sklearn.pipeline import make_pipeline\n",
    "from sklearn import svm\n",
    "from sklearn.metrics import roc_auc_score, classification_report, accuracy_score, precision_recall_fscore_support, balanced_accuracy_score\n",
    "\n",
    "import matplotlib\n",
    "import matplotlib.pyplot as plt\n",
    "%matplotlib inline\n",
    "\n",
    "import pickle\n",
    "\n",
    "import import_ipynb\n",
    "from CommonFunctions import loadData, extractDataAndLabels, concatNonEmpty, prepareData_conf_behavior, prepareData_pred_behavior_conf, splitEpochs_byConfidence, loadDataByParticipant\n",
    "\n",
    "import pylab\n",
    "import seaborn as sns\n",
    "from scipy.stats import sem\n"
   ]
  },
  {
   "cell_type": "code",
   "execution_count": 21,
   "metadata": {},
   "outputs": [
    {
     "name": "stdout",
     "output_type": "stream",
     "text": [
      "tmin =  -0.1\n",
      "tmax =  0.6\n",
      "tlim =  70\n",
      "Data folder:  ..\\Data\\MEG_Data\\Data=-0.1_0.6\\\n",
      "Figures folder:  ..\\Figures\\MVPA\\Data=-0.1_0.6\\\n",
      "Results folder:  ..\\Results\\Data=-0.1_0.6\\\n",
      "Classifiers folder:  ..\\Classifiers\\Data=-0.1_0.6\\\n",
      "filename ext:  \n",
      "Task name:  all_predLevel\n",
      "Time interval of the training:  [20, 50]\n",
      "Number of subjects:  21\n"
     ]
    }
   ],
   "source": [
    "sensors = 'mag'\n",
    "\n",
    "#File paths\n",
    "meg_MainFolder = \"..\\Data\\MEG_Data\\Data=\"\n",
    "figures_MainFolder = \"..\\Figures\\MVPA\\Data=\"\n",
    "results_MainFolder = \"..\\Results\\Data=\"\n",
    "classifiers_MainFolder = \"..\\Classifiers\\Data=\"\n",
    "\n",
    "tmin, tmax = -0.1, 0.6\n",
    "\n",
    "# Decide the time limit based on the time range of the data\n",
    "tlim = 0\n",
    "if float(tmin) == -0.8:\n",
    "    tlim = 140\n",
    "elif float(tmin) == -0.1:\n",
    "    tlim = 70\n",
    "\n",
    "print('tmin = ', tmin)\n",
    "print('tmax = ', tmax)\n",
    "print('tlim = ', tlim)\n",
    "\n",
    "dataFolder = meg_MainFolder + str(tmin) + '_' + str(tmax) + '\\\\'\n",
    "print('Data folder: ', dataFolder)\n",
    "\n",
    "figuresFolder = figures_MainFolder + str(tmin) + '_' + str(tmax) + '\\\\'\n",
    "print('Figures folder: ', figuresFolder)\n",
    "\n",
    "results_folder = results_MainFolder + str(tmin) + '_' + str(tmax) + '\\\\'\n",
    "print('Results folder: ', results_folder)\n",
    "\n",
    "clsfFolder = classifiers_MainFolder + str(tmin) + '_' + str(tmax) + '\\\\'\n",
    "print('Classifiers folder: ', clsfFolder)\n",
    "\n",
    "\n",
    "\n",
    "filename_ext = ''\n",
    "if tmin == -0.8 and tmax == 0.6:\n",
    "    filename_ext = '-elongated'\n",
    "elif tmin == -0.8 and tmax == 1:\n",
    "    filename_ext = '-elongated_2'\n",
    "    \n",
    "print('filename ext: ', filename_ext)\n",
    "\n",
    "task_name = 'all_predLevel' #\"all_predLevel\" #'all_incorrVScorr'# 'all_conf' #behavior_conf #conf_pred #behavior_conf_pred\n",
    "print('Task name: ', task_name)\n",
    "\n",
    "reversedLabels = False\n",
    "\n",
    "if tmin == -0.1:\n",
    "    # Shorter time interval\n",
    "    w = [20, 50] \n",
    "else:\n",
    "    # long time interval\n",
    "    w = [90,120]\n",
    "    \n",
    "print('Time interval of the training: ', w)\n",
    "\n",
    "s_id_list = ['13', '16', '17', '18', '21', '23', '26', '28', '29', '30', '31', '32', '33', \n",
    "         '34', '35', '36', '38', '39', '40', '41', '42']\n",
    "\n",
    "#s_id_list = ['23', '26', '30', '31', '34', '35', '38', '39']\n",
    "print('Number of subjects: ', len(s_id_list))\n",
    "\n",
    "#s_id_list_corrected = ['23', '26', '30', '31', '34', '35', '38', '39']\n",
    "#print('Number of subjects whose triggers are corretcted: ', len(s_id_list_corrected))"
   ]
  },
  {
   "cell_type": "code",
   "execution_count": 22,
   "metadata": {},
   "outputs": [],
   "source": [
    "results_all = []\n",
    "for s in range(len(s_id_list)):\n",
    "    \n",
    "    s_id = s_id_list[s]\n",
    "    outputfilename = results_folder + 'S' + s_id + '\\\\' + s_id + \"_\" + sensors + \"_results_\" + task_name +\"_\" + str(w[0]) + '_' + str(w[1])+ '_sm_all.npy'\n",
    "    res = np.load(outputfilename, allow_pickle=True)\n",
    "    results_all.append(res)"
   ]
  },
  {
   "cell_type": "code",
   "execution_count": 23,
   "metadata": {},
   "outputs": [],
   "source": [
    "results_all = np.asarray(results_all)"
   ]
  },
  {
   "cell_type": "code",
   "execution_count": 24,
   "metadata": {},
   "outputs": [
    {
     "data": {
      "text/plain": [
       "(21, 5)"
      ]
     },
     "execution_count": 24,
     "metadata": {},
     "output_type": "execute_result"
    }
   ],
   "source": [
    "results_all"
   ]
  },
  {
   "cell_type": "code",
   "execution_count": 13,
   "metadata": {},
   "outputs": [
    {
     "name": "stdout",
     "output_type": "stream",
     "text": [
      "Reading ..\\Data\\MEG_Data\\Data=-0.1_0.6\\S17\\17_2_tsss_mc_trans_mag_nobase-epochs_afterICA_manually_AR_resampled.fif ...\n",
      "    Found the data of interest:\n",
      "        t =    -100.00 ...     590.00 ms\n",
      "        0 CTF compensation matrices available\n",
      "Not setting metadata\n",
      "Not setting metadata\n",
      "873 matching events found\n",
      "No baseline correction applied\n",
      "0 projection items activated\n"
     ]
    }
   ],
   "source": [
    "# Load one subjects epoch data to use times\n",
    "s_id = '17'\n",
    "fname = dataFolder+'S'+s_id+'\\\\'+s_id+'_2_tsss_mc_trans_'+sensors+'_nobase-epochs_afterICA'+filename_ext+'_manually_AR_resampled.fif'\n",
    "epochs = mne.read_epochs(fname)    "
   ]
  },
  {
   "cell_type": "code",
   "execution_count": 14,
   "metadata": {},
   "outputs": [
    {
     "name": "stdout",
     "output_type": "stream",
     "text": [
      "is trained already:  True\n",
      "Task name:  all_predLevel\n",
      "Is behavior?:  False\n",
      "Plot labels:  ['80%', '90%', '100%']\n"
     ]
    }
   ],
   "source": [
    "trainedAlready=True\n",
    "print(\"is trained already: \", trainedAlready)\n",
    "print('Task name: ', task_name)\n",
    "\n",
    "if 'incorrVScorr' in task_name:\n",
    "    isBehavior = True\n",
    "else:\n",
    "    isBehavior = False\n",
    "    \n",
    "print('Is behavior?: ', isBehavior)\n",
    "\n",
    "if task_name == \"all_predLevel\":\n",
    "    plot_labels = ['80%', '90%', '100%']\n",
    "    plot_file_suf = ['80', '90', '100']\n",
    "    \n",
    "elif task_name == \"behavior_conf\":\n",
    "    plot_labels = ['Corr & Low', 'Corr & High','Incorr & Low', 'Incorr & High']\n",
    "    plot_file_suf = ['corrLow', 'corrHigh', 'incorrLow', 'incorrHigh']\n",
    "    \n",
    "elif task_name == 'all_incorrVScorr':\n",
    "    plot_labels = ['Correct', 'Incorrect']\n",
    "    plot_file_suf = ['corr', 'incorr']\n",
    "    \n",
    "elif task_name == \"all_conf\":\n",
    "    plot_labels = ['Low Confidence', 'High Confidence']\n",
    "    plot_file_suf = ['lowConf', 'highConf']\n",
    "    \n",
    "elif task_name == \"conf_pred\":\n",
    "    plot_labels = ['80% - Low', '90% - Low', '100% - Low', '80% - High', '90% - High', '100% - High']\n",
    "    plot_file_suf = ['low_8', 'low_9', 'low_10', 'high_8', 'high_9', 'high_10']\n",
    "\n",
    "elif task_name == \"behavior_conf_pred\":\n",
    "    plot_labels = ['80% - Corr & LowConf', '90% - Corr & LowConf', '100% - Corr & LowConf',\n",
    "                   '80% - Incorr & LowConf', '90% - Incorr & LowConf', '100% - Incorr & LowConf',\n",
    "                   '80% - Corr & HighConf', '90% - Corr & HighConf', '100% - Corr & HighConf',\n",
    "                   '80% -Incorr & HighConf', '90% - Incorr & HighConf', '100% - Incorr & HighConf']\n",
    "    plot_file_suf = ['8_corrLow', '9_corrLow', '10_corrLow', '8_incorrLow', '9_incorrLow', '10_incorrLow',\n",
    "                     '8_corrHigh', '9_corrHigh', '10_corrHigh', '8_incorrHigh', '9_incorrHigh', '10_incorrHigh']\n",
    "    \n",
    "print('Plot labels: ', plot_labels)"
   ]
  },
  {
   "cell_type": "code",
   "execution_count": 15,
   "metadata": {},
   "outputs": [],
   "source": [
    "def applySmoothing(data, N):\n",
    "    # Initialize smoothed data variable\n",
    "    data_sm = np.zeros((data.shape[0], data.shape[1]-N+1))\n",
    "            \n",
    "    #print('shape of data at 0: ', data_0.shape)\n",
    "    #print('shape of data_sm_0: ', data_sm_0.shape)\n",
    "\n",
    "    # Apply smoothing:\n",
    "    for f in range(len(data_sm)):\n",
    "        data_sm[f] = np.convolve(data[f,:], np.ones((N,))/N, mode='valid')\n",
    "    \n",
    "    return data_sm\n",
    "    "
   ]
  },
  {
   "cell_type": "code",
   "execution_count": 25,
   "metadata": {},
   "outputs": [],
   "source": [
    "test_real_res = np.zeros((len(s_id_list), len(epochs.times)),)\n",
    "for i in range(test_real_res.shape[0]):\n",
    "    test_real_res[i,:] = results_all[i,0]\n",
    "\n",
    "N = 10\n",
    "test_real_res_sm =test_real_res # applySmoothing(test_real_res, N)\n",
    "times_sm = epochs.times#[:len(epochs.times)-N+1]\n",
    "group_avg_real = np.mean(test_real_res_sm, axis=0)\n",
    "group_std_real = sem(test_real_res_sm, axis=0, nan_policy='omit')/2"
   ]
  },
  {
   "cell_type": "code",
   "execution_count": 27,
   "metadata": {},
   "outputs": [],
   "source": [
    "test_real_res.shape\n",
    "\n",
    "np.save(results_folder+'real_sounds_testResults_overTimeRange', test_real_res)"
   ]
  },
  {
   "cell_type": "code",
   "execution_count": 17,
   "metadata": {},
   "outputs": [
    {
     "name": "stdout",
     "output_type": "stream",
     "text": [
      "p value threshold:  0.05\n",
      "\n",
      "P values:  [9.99988079e-01 9.99853611e-01 9.99199867e-01 9.99412060e-01\n",
      " 9.99947548e-01 9.99984264e-01 9.99997616e-01 1.00000000e+00\n",
      " 9.99879360e-01 9.99995232e-01 9.99744892e-01 9.99996662e-01\n",
      " 9.99199867e-01 9.94937420e-01 9.99947548e-01 9.99639511e-01\n",
      " 9.99744892e-01 1.00000000e+00 9.99997616e-01 9.99999523e-01\n",
      " 9.99988079e-01 9.97229099e-01 9.99412060e-01 9.98123646e-01\n",
      " 7.84044266e-01 1.87635422e-03 7.08293915e-03 4.50801849e-03\n",
      " 6.34574890e-03 4.50801849e-03 3.79900932e-02 1.75280571e-02\n",
      " 4.25815582e-04 1.57356262e-05 2.38418579e-06 1.43051147e-06\n",
      " 4.76837158e-07 4.76837158e-07 2.38418579e-06 2.38418579e-06\n",
      " 9.53674316e-07 9.53674316e-07 4.76837158e-07 4.76837158e-07\n",
      " 4.76837158e-07 4.76837158e-07 4.76837158e-07 1.57356262e-05\n",
      " 2.55107880e-04 9.29355621e-04 8.00132751e-04 1.51907921e-01\n",
      " 4.59346771e-01 7.63332844e-01 9.91226673e-01 9.53518437e-01\n",
      " 9.77003574e-01 9.94937420e-01 9.99966621e-01 9.99958038e-01\n",
      " 1.00000000e+00 9.99988079e-01 9.99995232e-01 9.99998569e-01\n",
      " 1.00000000e+00 9.99955713e-01 1.00000000e+00 1.00000000e+00\n",
      " 1.00000000e+00 9.99996662e-01]\n",
      "\n",
      "Maximum score of 0.6311187749023461 achieved at [0.3]\n",
      "P values before the correction:  [9.99988079e-01 9.99853611e-01 9.99199867e-01 9.99412060e-01\n",
      " 9.99947548e-01 9.99984264e-01 9.99997616e-01 1.00000000e+00\n",
      " 9.99879360e-01 9.99995232e-01 9.99744892e-01 9.99996662e-01\n",
      " 9.99199867e-01 9.94937420e-01 9.99947548e-01 9.99639511e-01\n",
      " 9.99744892e-01 1.00000000e+00 9.99997616e-01 9.99999523e-01\n",
      " 9.99988079e-01 9.97229099e-01 9.99412060e-01 9.98123646e-01\n",
      " 7.84044266e-01 1.87635422e-03 7.08293915e-03 4.50801849e-03\n",
      " 6.34574890e-03 4.50801849e-03 3.79900932e-02 1.75280571e-02\n",
      " 4.25815582e-04 1.57356262e-05 2.38418579e-06 1.43051147e-06\n",
      " 4.76837158e-07 4.76837158e-07 2.38418579e-06 2.38418579e-06\n",
      " 9.53674316e-07 9.53674316e-07 4.76837158e-07 4.76837158e-07\n",
      " 4.76837158e-07 4.76837158e-07 4.76837158e-07 1.57356262e-05\n",
      " 2.55107880e-04 9.29355621e-04 8.00132751e-04 1.51907921e-01\n",
      " 4.59346771e-01 7.63332844e-01 9.91226673e-01 9.53518437e-01\n",
      " 9.77003574e-01 9.94937420e-01 9.99966621e-01 9.99958038e-01\n",
      " 1.00000000e+00 9.99988079e-01 9.99995232e-01 9.99998569e-01\n",
      " 1.00000000e+00 9.99955713e-01 1.00000000e+00 1.00000000e+00\n",
      " 1.00000000e+00 9.99996662e-01]\n",
      "P values after the correction:  [1.00000000e+00 1.00000000e+00 1.00000000e+00 1.00000000e+00\n",
      " 1.00000000e+00 1.00000000e+00 1.00000000e+00 1.00000000e+00\n",
      " 1.00000000e+00 1.00000000e+00 1.00000000e+00 1.00000000e+00\n",
      " 1.00000000e+00 1.00000000e+00 1.00000000e+00 1.00000000e+00\n",
      " 1.00000000e+00 1.00000000e+00 1.00000000e+00 1.00000000e+00\n",
      " 1.00000000e+00 1.00000000e+00 1.00000000e+00 1.00000000e+00\n",
      " 1.00000000e+00 1.31344795e-01 4.95805740e-01 3.15561295e-01\n",
      " 4.44202423e-01 3.15561295e-01 1.00000000e+00 1.00000000e+00\n",
      " 2.98070908e-02 1.10149384e-03 1.66893005e-04 1.00135803e-04\n",
      " 3.33786011e-05 3.33786011e-05 1.66893005e-04 1.66893005e-04\n",
      " 6.67572021e-05 6.67572021e-05 3.33786011e-05 3.33786011e-05\n",
      " 3.33786011e-05 3.33786011e-05 3.33786011e-05 1.10149384e-03\n",
      " 1.78575516e-02 6.50548935e-02 5.60092926e-02 1.00000000e+00\n",
      " 1.00000000e+00 1.00000000e+00 1.00000000e+00 1.00000000e+00\n",
      " 1.00000000e+00 1.00000000e+00 1.00000000e+00 1.00000000e+00\n",
      " 1.00000000e+00 1.00000000e+00 1.00000000e+00 1.00000000e+00\n",
      " 1.00000000e+00 1.00000000e+00 1.00000000e+00 1.00000000e+00\n",
      " 1.00000000e+00 1.00000000e+00]\n",
      "\n",
      "Significant time points before correction:  [0.15 0.16 0.17 0.18 0.19 0.2  0.21 0.22 0.23 0.24 0.25 0.26 0.27 0.28\n",
      " 0.29 0.3  0.31 0.32 0.33 0.34 0.35 0.36 0.37 0.38 0.39 0.4 ]\n",
      "\n",
      "Significant time points after correction:  [0.22 0.23 0.24 0.25 0.26 0.27 0.28 0.29 0.3  0.31 0.32 0.33 0.34 0.35\n",
      " 0.36 0.37 0.38]\n"
     ]
    }
   ],
   "source": [
    "from scipy.stats import wilcoxon\n",
    "p_threshold = 0.05\n",
    "print('p value threshold: ', p_threshold)\n",
    "nt = len(times_sm)\n",
    "preal = np.ones(nt)\n",
    "chance = 0.5\n",
    "for t in np.arange(nt):\n",
    "    x, preal[t] = wilcoxon(test_real_res_sm[:,t]-chance, alternative='greater')\n",
    "    \n",
    "print('\\nP values: ', preal)\n",
    "\n",
    "max_score = np.max(group_avg_real)\n",
    "time_max_score = times_sm[np.where(group_avg_real == max_score)[0].tolist()]\n",
    "print('\\nMaximum score of ' + str(max_score)+' achieved at ' + str(time_max_score))\n",
    "\n",
    "from mne.stats import bonferroni_correction\n",
    "r,p_corrected = mne.stats.bonferroni_correction(preal)\n",
    "print('P values before the correction: ', preal)\n",
    "print('P values after the correction: ', p_corrected)\n",
    "\n",
    "times_sig_wo_corr = times_sm[np.where(preal<= p_threshold)[0].tolist()]\n",
    "print('\\nSignificant time points before correction: ', times_sig_wo_corr)\n",
    "\n",
    "times_sig = times_sm[np.where(p_corrected <= p_threshold)[0].tolist()]\n",
    "print('\\nSignificant time points after correction: ', times_sig)\n"
   ]
  },
  {
   "cell_type": "code",
   "execution_count": 19,
   "metadata": {},
   "outputs": [
    {
     "name": "stdout",
     "output_type": "stream",
     "text": [
      "TIme between two time points:  0.01\n",
      "Significant time points exist!\n",
      "the end of computation!\n",
      "Significant time intervals:  [[0.22, 0.38]]\n"
     ]
    },
    {
     "data": {
      "image/png": "[encoded data removed]",
      "text/plain": [
       "<Figure size 900x600 with 1 Axes>"
      ]
     },
     "metadata": {
      "needs_background": "light"
     },
     "output_type": "display_data"
    }
   ],
   "source": [
    "color = np.array((27,120,55))/256\n",
    "color_chanceLevel = np.array((169,169,169))/256\n",
    "\n",
    "al = 0.2\n",
    "font_size = 14\n",
    "\n",
    "fig = plt.figure(num=None, figsize=(6, 4), dpi=150)\n",
    "ax = fig.add_subplot(1,1,1)\n",
    "\n",
    "plt.plot(times_sm, group_avg_real, color = color, linewidth = 4, label='Real Sounds')\n",
    "plt.fill_between(times_sm, group_avg_real, group_avg_real + group_std_real, color=color,\n",
    "                 interpolate=True, alpha = al)\n",
    "plt.fill_between(times_sm, group_avg_real, group_avg_real - group_std_real, color=color,\n",
    "                 interpolate=True, alpha = al)\n",
    "\n",
    "plt.xlabel('Time(s)', fontsize=font_size)\n",
    "plt.ylabel('AUC', fontsize=font_size)\n",
    "ax.spines['right'].set_visible(False)\n",
    "ax.spines['top'].set_visible(False)\n",
    "\n",
    "\n",
    "timeInterval = 0.01\n",
    "print('TIme between two time points: ', timeInterval)\n",
    "\n",
    "if len(times_sig)>0:\n",
    "    times_sig_periods = []\n",
    "    print('Significant time points exist!')\n",
    "    \n",
    "    # Computet the time periods that are significcantt\n",
    "    start, end = None, None\n",
    "    for k in range(len(times_sig)):\n",
    "        if k == 0:\n",
    "            start = times_sig[k]\n",
    "            if len(times_sig) == 1: # if we have only 1 time point that is significant\n",
    "                end = times_sig[k]\n",
    "                times_sig_periods.append([start,end])\n",
    "        else:\n",
    "            if round(times_sig[k],2) != round(times_sig[k-1] + timeInterval, 2): # if the data points are not continuous\n",
    "                end =  times_sig[k-1]\n",
    "                times_sig_periods.append([start,end])\n",
    "                start = times_sig[k]\n",
    "            else:\n",
    "                if k == len(times_sig)-1:\n",
    "                    print('the end of computation!')\n",
    "                    end = times_sig[k]\n",
    "                    times_sig_periods.append([start,end])\n",
    "\n",
    "                \n",
    "    print('Significant time intervals: ', times_sig_periods) \n",
    "    \n",
    "    for p in range(len(times_sig_periods)):\n",
    "        if times_sig_periods[p][0] == times_sig_periods[p][1]:\n",
    "            print('Here')\n",
    "            ax.plot(times_sig_periods[p][0], 0.49)\n",
    "        else:\n",
    "            ax.hlines(xmin=times_sig_periods[p][0], xmax=times_sig_periods[p][1], y=0.49, color=color, linestyle='-')\n",
    "    \n",
    "    ax.hlines(xmin=times_sm[0], xmax=times_sm[-1], y=0.5, color=color_chanceLevel, linestyle='--', label='Chance')\n",
    "    \n",
    "    plt.legend(bbox_to_anchor=(1.05, 1.0), loc='upper left')\n",
    "    ax.set_ylim(0.4, 0.78)\n",
    "    #plt.setp(ax.spines.values(), linewidth=1)\n",
    "    #ax.tick_params(bottom=True, length=5, left=True)\n",
    "    plt.savefig(figures_MainFolder+'Group_Level_real_sounds_overTimeMVPA_bonfr_crr'+str(p_threshold)+'_noSM.png',\n",
    "                bbox_inches='tight')\n",
    "   "
   ]
  },
  {
   "cell_type": "code",
   "execution_count": null,
   "metadata": {},
   "outputs": [],
   "source": []
  },
  {
   "cell_type": "code",
   "execution_count": null,
   "metadata": {},
   "outputs": [],
   "source": []
  }
 ],
 "metadata": {
  "kernelspec": {
   "display_name": "Python 3",
   "language": "python",
   "name": "python3"
  },
  "language_info": {
   "codemirror_mode": {
    "name": "ipython",
    "version": 3
   },
   "file_extension": ".py",
   "mimetype": "text/x-python",
   "name": "python",
   "nbconvert_exporter": "python",
   "pygments_lexer": "ipython3",
   "version": "3.7.9"
  }
 },
 "nbformat": 4,
 "nbformat_minor": 4
}
