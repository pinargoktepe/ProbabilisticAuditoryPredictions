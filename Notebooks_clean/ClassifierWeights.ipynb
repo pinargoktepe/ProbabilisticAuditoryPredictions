{
 "cells": [
  {
   "cell_type": "code",
   "execution_count": null,
   "metadata": {},
   "outputs": [],
   "source": [
    "import mne\n",
    "import numpy as np\n",
    "import random\n",
    "random.seed(42)\n",
    "\n",
    "import warnings\n",
    "warnings.filterwarnings('ignore')\n",
    "\n",
    "import matplotlib\n",
    "import matplotlib.pyplot as plt\n",
    "%matplotlib inline\n",
    "import pickle\n",
    "\n",
    "import import_ipynb\n",
    "from CommonFunctions import loadData\n",
    "from sklearn.preprocessing import StandardScaler\n",
    "\n",
    "from mne.decoding import Vectorizer, get_coef"
   ]
  },
  {
   "cell_type": "code",
   "execution_count": null,
   "metadata": {},
   "outputs": [],
   "source": [
    "#File paths\n",
    "meg_MainFolder = \"..\\Data\\MEG_Data\\Data=\"\n",
    "figures_MainFolder = \"..\\Figures\\Others\\Data=\"\n",
    "results_MainFolder = \"..\\Results\\Data=\"\n",
    "classifiers_MainFolder = \"..\\Classifiers\\Data=\"\n",
    "\n",
    "tmin, tmax = -0.1, 0.6\n",
    "print('tmin = ', tmin)\n",
    "print('tmax = ', tmax)\n",
    "\n",
    "# Decide the time limit based on the time range of the data\n",
    "tlim = 0\n",
    "if tmin == -0.8:\n",
    "    tlim = 140\n",
    "    peak_indices = [90, 120]\n",
    "elif tmin == -0.1:\n",
    "    tlim = 70\n",
    "    peak_indices = [20, 50]\n",
    "    \n",
    "print('time limit: ', tlim)\n",
    "print('time range of classifiers: ', peak_indices)\n",
    "\n",
    "\n",
    "dataFolder = meg_MainFolder + str(tmin) + '_' + str(tmax) + '\\\\'\n",
    "print('Data folder: ', dataFolder)\n",
    "\n",
    "figuresFolder = figures_MainFolder + str(tmin) + '_' + str(tmax) + '\\\\'\n",
    "print('Figures folder: ', figuresFolder)\n",
    "\n",
    "results_folder = results_MainFolder + str(tmin) + '_' + str(tmax) + '\\\\'\n",
    "print('Results folder: ', results_folder)\n",
    "\n",
    "clsfFolder = classifiers_MainFolder + str(tmin) + '_' + str(tmax) + '\\\\'\n",
    "print('Classifiers folder: ', clsfFolder)\n",
    "\n",
    "sensors = 'mag'\n"
   ]
  },
  {
   "cell_type": "code",
   "execution_count": null,
   "metadata": {},
   "outputs": [],
   "source": [
    "filename_ext = ''\n",
    "if tmin == -0.8 and tmax == 0.6:\n",
    "    filename_ext = '-elongated'\n",
    "elif tmin == -0.8 and tmax == 1:\n",
    "    filename_ext = '-elongated_2'\n",
    "    \n",
    "print('filename ext: ', filename_ext)"
   ]
  },
  {
   "cell_type": "code",
   "execution_count": null,
   "metadata": {},
   "outputs": [],
   "source": [
    "s_id_list = ['13', '16', '17', '18', '21', '23', '26', '28', '29', '30', '31', '32', '33', '34',\n",
    "             '35', '36', '38', '39', '40', '41', '42']\n",
    "\n",
    "print('Number of subjects: ', len(s_id_list))\n",
    "task_name = 'all_predLevel' #\"all_predLevel\" #'all_incorrVScorr'# 'all_conf'\n",
    "print('Task name: ', task_name)"
   ]
  },
  {
   "cell_type": "code",
   "execution_count": null,
   "metadata": {},
   "outputs": [],
   "source": [
    "epochs_list, bestParams = [], []\n",
    "real_events = ['living_real_8', 'object_real_8', 'living_real_9', 'object_real_9', 'living_real_10', 'object_real_10']\n",
    "for s_id in s_id_list:\n",
    "    if int(s_id) < 23:\n",
    "        fname = dataFolder + 'S' + s_id + '\\\\' + s_id + '_2_tsss_mc_trans_'+sensors+ '_nobase-epochs_afterICA'+filename_ext+'_manually_AR_resampled.fif'\n",
    "    else:\n",
    "        fname = dataFolder + 'S' + s_id + '\\\\block_2_tsss_mc_trans_'+sensors+ '_nobase-epochs_afterICA'+filename_ext+'_manually_AR_resampled.fif'\n",
    "\n",
    "    epochs = loadData(s_id, sensors, fname, resampled=True)\n",
    "    epochs_real = epochs[real_events]\n",
    "    epochs_list.append(epochs_real)\n",
    "    "
   ]
  },
  {
   "cell_type": "code",
   "execution_count": null,
   "metadata": {},
   "outputs": [],
   "source": [
    "print('Shape of data: ', epochs_list[0]._data.shape)"
   ]
  },
  {
   "cell_type": "markdown",
   "metadata": {},
   "source": [
    "#### Load Classifiers from file"
   ]
  },
  {
   "cell_type": "code",
   "execution_count": null,
   "metadata": {},
   "outputs": [],
   "source": [
    "\n",
    "models_list = []\n",
    "for s_id in s_id_list:\n",
    "    filename = clsfFolder+'S'+s_id+'\\\\'+s_id+'_clsf_'+task_name+'_'+str(peak_indices[0])+'_'+str(peak_indices[1])+'_sm.sav'\n",
    "    print('Classifier is loaded from ', filename)\n",
    "    loaded_models = [] # store each loaded model in a list in case a model is not available (whch will return empty list)\n",
    "    with open(filename, \"rb\") as f:\n",
    "        while True:\n",
    "            try:\n",
    "                loaded_models.append(pickle.load(f))\n",
    "            except EOFError:\n",
    "                break\n",
    "    models_list.append(loaded_models)"
   ]
  },
  {
   "cell_type": "code",
   "execution_count": null,
   "metadata": {},
   "outputs": [],
   "source": [
    "models_list[0:3]"
   ]
  },
  {
   "cell_type": "code",
   "execution_count": null,
   "metadata": {},
   "outputs": [],
   "source": [
    "activations_group = []"
   ]
  },
  {
   "cell_type": "code",
   "execution_count": null,
   "metadata": {},
   "outputs": [],
   "source": []
  },
  {
   "cell_type": "code",
   "execution_count": null,
   "metadata": {},
   "outputs": [],
   "source": [
    "def plotActivations(s_id, model, epochs, timePoint, isClsf=False, standardize=False):\n",
    "    print(\"s_id: \", s_id)\n",
    "    print('Time point: ', epochs.times[timePoint]) \n",
    "    print(\"Meg data shape: \", epochs.get_data()[:,:,timePoint].shape)\n",
    "        \n",
    "    # Get classifier weights\n",
    "    coef = get_coef(model, 'coef_', inverse_transform=True)\n",
    "    \n",
    "    # Below part first computes standardizes\n",
    "    if standardize == True:\n",
    "        coef_mean = np.mean(coef)\n",
    "        coef_std = np.std(coef)\n",
    "        \n",
    "        # Standardize the weights\n",
    "        coef = (coef-coef_mean)/coef_std\n",
    "        print('shape of coef: ', coef.shape)\n",
    "    \n",
    "    \n",
    "    # Plotting activation maps\n",
    "    if isClsf  == False: # activation maps\n",
    "        # Multiplying classifier weights with covariance of data to compute activation maps\n",
    "        \n",
    "        epochs_tmp = epochs.copy()\n",
    "        # crop the data at the time point of max performance\n",
    "        epochs_tmp.crop(tmin=epochs.times[timePoint], tmax=epochs.times[timePoint])\n",
    "        cov_tmp = mne.compute_covariance(epochs_tmp, verbose=False)\n",
    "        activations = np.dot(coef, cov_tmp.data)\n",
    "\n",
    "        del cov_tmp \n",
    "\n",
    "\n",
    "    #plotting classifier weights \n",
    "    else:\n",
    "        activations = coef\n",
    "        \n",
    "    # Simulate evoked data with activation to plot on topo maps\n",
    "    evoked = mne.EvokedArray(np.transpose(activations), epochs.info, tmin=0)\n",
    "    evoked.plot_topomap([0], show=False, time_unit='s', ch_type='mag', colorbar=True,\n",
    "                        outlines='head', scalings=1e-9)\n",
    "            \n",
    "\n",
    "    # Save the plot\n",
    "    if isClsf ==True:\n",
    "        plotname = figuresFolder+'S'+s_id+'\\\\'+s_id+'_clsfWeights_'+str(peak_indices[0])+'_'+str(peak_indices[1])+'_'+task_name+'_clsfWeights.png'\n",
    "    else:\n",
    "        plotname = figuresFolder+'S'+s_id+'\\\\'+s_id+'_clsfWeights_'+str(peak_indices[0])+'_'+str(peak_indices[1])+'_'+task_name+'_activations.png'\n",
    "        \n",
    "    #plt.savefig(plotname)\n",
    "    plt.show()\n",
    "    \n",
    "    return plt, evoked.data\n"
   ]
  },
  {
   "cell_type": "markdown",
   "metadata": {},
   "source": [
    "### Get the time index of the max classifier score from PointByPoint_MVPA.ipynb file!!!!!"
   ]
  },
  {
   "cell_type": "code",
   "execution_count": null,
   "metadata": {},
   "outputs": [],
   "source": [
    "epochs.times[39]"
   ]
  },
  {
   "cell_type": "code",
   "execution_count": null,
   "metadata": {},
   "outputs": [],
   "source": [
    "maxClassificationScore_timeIndex =  39 \n",
    "clsf_group, act_group = [], []\n",
    "for i in range(len(s_id_list)):\n",
    "    print('------- ' + s_id_list[i] + ' -------')\n",
    "    model = models_list[i][0] # get the element at the index 0 since each model is kept in a sublist e.g. [[m1], [m2]]\n",
    "    \n",
    "    #Plot Classifier weights\n",
    "    plt_1, clsf_tmp = plotActivations(s_id_list[i], model, epochs_list[i], \n",
    "                                      timePoint=maxClassificationScore_timeIndex, isClsf=True, standardize=True)\n",
    "    clsf_group.append(clsf_tmp)\n",
    "    #plot activation maps\n",
    "    plt_2, act_tmp = plotActivations(s_id_list[i], model, epochs_list[i],\n",
    "                                     timePoint=maxClassificationScore_timeIndex, isClsf=False, standardize=True)\n",
    "    act_group.append(act_tmp)\n",
    "    \n",
    "    "
   ]
  },
  {
   "cell_type": "markdown",
   "metadata": {},
   "source": [
    "### Average classifier weights"
   ]
  },
  {
   "cell_type": "code",
   "execution_count": null,
   "metadata": {},
   "outputs": [],
   "source": [
    "clsf_group_mean = np.mean(clsf_group, axis=0)\n",
    "print('mean clsf group shape: ', clsf_group_mean.shape)\n",
    "evoked = mne.EvokedArray(clsf_group_mean, epochs_list[0].info, tmin=0)\n",
    "print( epochs_list[0].info)\n",
    "evoked.plot_topomap([0.0], show=False, time_unit='s', outlines=\"head\", size=4, colorbar=True,\n",
    "                    ch_type=\"mag\", show_names=False)\n",
    "\n",
    "plotname = figuresFolder + 'all_clsfWeights_'+str(peak_indices[0])+'_'+str(peak_indices[1])+'_' + task_name + '_clsfWeights.png'\n",
    "plt.savefig(plotname)\n",
    "plt.show()"
   ]
  },
  {
   "cell_type": "markdown",
   "metadata": {},
   "source": [
    "### Average activation map at 0.29s (ind=39)"
   ]
  },
  {
   "cell_type": "code",
   "execution_count": null,
   "metadata": {},
   "outputs": [],
   "source": [
    "act_group_mean = np.mean(act_group, axis=0)\n",
    "print('mean act group shape: ',act_group_mean.shape)\n",
    "evoked = mne.EvokedArray(act_group_mean, epochs_list[0].info, tmin=0)\n",
    "print( epochs_list[0].info)\n",
    "evoked.plot_topomap([0.0], show=False, time_unit='s', outlines=\"head\", size=4, colorbar=True,\n",
    "                    ch_type=\"mag\", show_names=False) #, cmap='seismic')\n",
    "\n",
    "plotname = figuresFolder + 'all_clsfWeights_'+str(peak_indices[0])+'_'+str(peak_indices[1])+'_' + task_name + '_activations.png'\n",
    "\n",
    "plt.savefig(plotname)\n",
    "plt.show()"
   ]
  },
  {
   "cell_type": "code",
   "execution_count": null,
   "metadata": {},
   "outputs": [],
   "source": [
    "max(evoked._data)"
   ]
  },
  {
   "cell_type": "code",
   "execution_count": null,
   "metadata": {},
   "outputs": [],
   "source": []
  }
 ],
 "metadata": {
  "@webio": {
   "lastCommId": null,
   "lastKernelId": null
  },
  "kernelspec": {
   "display_name": "Python 3",
   "language": "python",
   "name": "python3"
  },
  "language_info": {
   "codemirror_mode": {
    "name": "ipython",
    "version": 3
   },
   "file_extension": ".py",
   "mimetype": "text/x-python",
   "name": "python",
   "nbconvert_exporter": "python",
   "pygments_lexer": "ipython3",
   "version": "3.7.9"
  }
 },
 "nbformat": 4,
 "nbformat_minor": 2
}
