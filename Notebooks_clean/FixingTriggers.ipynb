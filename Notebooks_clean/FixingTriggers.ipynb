{
 "cells": [
  {
   "cell_type": "code",
   "execution_count": 1,
   "metadata": {},
   "outputs": [],
   "source": [
    "import mne\n",
    "import numpy as np"
   ]
  },
  {
   "cell_type": "code",
   "execution_count": 2,
   "metadata": {},
   "outputs": [
    {
     "name": "stdout",
     "output_type": "stream",
     "text": [
      "tmin =  -0.1\n",
      "tmax =  0.6\n",
      "Data folder:  ..\\..\\Data\\MEG_Data\\Data=-0.1_0.6\\\n",
      "Sensors:  mag\n"
     ]
    }
   ],
   "source": [
    "s_id_list = ['23', '26', '30', '31', '34', '35', '38', '39']\n",
    "\n",
    "#File paths\n",
    "meg_MainFolder = \"..\\Data\\MEG_Data\\Data=\"\n",
    "\n",
    "tmin, tmax = -0.1, 0.6\n",
    "\n",
    "print('tmin = ', tmin)\n",
    "print('tmax = ', tmax)\n",
    "\n",
    "dataFolder = meg_MainFolder + str(tmin) + '_' + str(tmax) + '\\\\'\n",
    "print('Data folder: ', dataFolder)\n",
    "\n",
    "sensors = 'mag'\n",
    "print('Sensors: ', sensors)"
   ]
  },
  {
   "cell_type": "code",
   "execution_count": 3,
   "metadata": {},
   "outputs": [],
   "source": [
    "filename_ext = ''\n",
    "if tmin == -0.8 and tmax == 0.6:\n",
    "    filename_ext = '-elongated'\n",
    "elif tmin == -0.8 and tmax == 1:\n",
    "    filename_ext = '-elongated_2'\n",
    "    "
   ]
  },
  {
   "cell_type": "code",
   "execution_count": 19,
   "metadata": {},
   "outputs": [
    {
     "name": "stdout",
     "output_type": "stream",
     "text": [
      "------------ 39 ------------\n",
      "..\\..\\Data\\MEG_Data\\Data=-0.1_0.6\\S39\\block_2_tsss_mc_trans_mag_nobase-epochs_afterICA_manually_AR_resampled.fif loaded!\n",
      "Events before the correction: \n",
      " {'living_real_8': 8093, 'living_omission_8_nores': 8142, 'living_omission_8_corr': 8141, 'living_omission_8_incorr': 8140, 'object_real_8': 8113, 'object_omission_8_nores': 8162, 'object_omission_8_corr': 8161, 'object_omission_8_incorr': 8160, 'living_real_9': 9103, 'living_omission_9_corr': 9151, 'living_omission_9_incorr': 9150, 'object_real_9': 9123, 'object_omission_9_corr': 9171, 'object_omission_9_incorr': 9170, 'living_real_10': 10113, 'living_omission_10_corr': 10161, 'living_omission_10_incorr': 10160, 'object_real_10': 10133, 'object_omission_10_corr': 10181}\n",
      "\n",
      "----------------------------------\n",
      "new event not found in event_id list!\n",
      "changing the event id manually...\n",
      "New event {'object_omission_10_incorr': 10160} is added!\n",
      "Old event  is deleted!\n",
      "\n",
      "----------------------------------\n",
      "\n",
      "Final event ids: \n",
      " {'living_real_8': 8113, 'living_omission_8_nores': 8162, 'living_omission_8_corr': 8161, 'living_omission_8_incorr': 8160, 'object_real_8': 8093, 'object_omission_8_nores': 8142, 'object_omission_8_corr': 8141, 'object_omission_8_incorr': 8140, 'living_real_9': 9123, 'living_omission_9_corr': 9171, 'living_omission_9_incorr': 9170, 'object_real_9': 9103, 'object_omission_9_corr': 9151, 'object_omission_9_incorr': 9150, 'living_real_10': 10133, 'living_omission_10_corr': 10181, 'object_real_10': 10113, 'object_omission_10_corr': 10161, 'object_omission_10_incorr': 10160}\n"
     ]
    }
   ],
   "source": [
    "for s_id in s_id_list:\n",
    "    print('------------ ' + s_id + ' ------------')\n",
    "    # Load data\n",
    "    if int(s_id) < 23:\n",
    "        fname = dataFolder+'S'+s_id+'\\\\'+s_id+'_2_tsss_mc_trans_'+sensors+'_nobase-epochs_afterICA'+filename_ext+'_manually_AR_resampled.fif'\n",
    "    else: \n",
    "        fname = dataFolder+'S'+s_id+'\\\\block_2_tsss_mc_trans_'+sensors+'_nobase-epochs_afterICA'+filename_ext+'_manually_AR_resampled.fif'\n",
    "\n",
    "    epochs = mne.read_epochs(fname, verbose='error')\n",
    "    print(fname + ' loaded!')\n",
    "\n",
    "    # Get eventss befpre the correction\n",
    "    events_before = epochs.event_id.copy()\n",
    "    print('Events before the correction: \\n', events_before)\n",
    "    print('\\n----------------------------------')\n",
    "\n",
    "    for e in events_before:\n",
    "        # Create new event name\n",
    "        if 'living' in e:\n",
    "            new_eventName = 'object' + e[6:]\n",
    "        elif 'object' in e:\n",
    "            new_eventName = 'living' + e[6:]\n",
    "        else:\n",
    "            print('event name is not correct!')\n",
    "        \n",
    "        # Check if new event name is already exist in the event id list. If it is match the event id with new event name\n",
    "        if new_eventName in epochs.event_id:\n",
    "            epochs.event_id[e] = events_before[new_eventName]\n",
    "\n",
    "        # If it is not, then generate a new tuple containing new event name and event id\n",
    "        else:\n",
    "            print(\"new event not found in event_id list!\")\n",
    "            print('changing the event id manually...')\n",
    "\n",
    "            newEvent = {new_eventName:epochs.event_id[e]}\n",
    "\n",
    "            # adds new event name with event id of existing event and delete the old one\n",
    "            epochs.event_id.update(newEvent)\n",
    "            print('New event ' + str(newEvent) + ' is added!')\n",
    "            print('Old event  is deleted!')\n",
    "            del epochs.event_id[e]\n",
    "            \n",
    "    print('\\n----------------------------------\\n')\n",
    "    print('Final event ids: \\n', epochs.event_id)\n",
    "    epochs.save(fname[:-4]+'_corrcted.fif', overwrite=True)"
   ]
  },
  {
   "cell_type": "code",
   "execution_count": null,
   "metadata": {},
   "outputs": [],
   "source": []
  }
 ],
 "metadata": {
  "kernelspec": {
   "display_name": "Python 3",
   "language": "python",
   "name": "python3"
  },
  "language_info": {
   "codemirror_mode": {
    "name": "ipython",
    "version": 3
   },
   "file_extension": ".py",
   "mimetype": "text/x-python",
   "name": "python",
   "nbconvert_exporter": "python",
   "pygments_lexer": "ipython3",
   "version": "3.7.9"
  }
 },
 "nbformat": 4,
 "nbformat_minor": 2
}
