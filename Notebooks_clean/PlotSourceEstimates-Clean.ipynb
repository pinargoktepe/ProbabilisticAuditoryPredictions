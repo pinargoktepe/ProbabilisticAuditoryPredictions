{
 "cells": [
  {
   "cell_type": "code",
   "execution_count": 10,
   "metadata": {},
   "outputs": [],
   "source": [
    "import os\n",
    "import numpy as np\n",
    "import matplotlib.pyplot as plt\n",
    "%matplotlib inline\n",
    "\n",
    "import mne\n",
    "from mne.stats import summarize_clusters_stc\n",
    "\n",
    "import scipy\n",
    "import pickle\n",
    "\n",
    "from mayavi import mlab\n",
    "from IPython.display import Image\n"
   ]
  },
  {
   "cell_type": "code",
   "execution_count": 11,
   "metadata": {},
   "outputs": [
    {
     "name": "stdout",
     "output_type": "stream",
     "text": [
      "Source folder:  ..\\SourceLocalization\\SourceEstimates\\Data=-0.1_0.6\\\n",
      "Statisctics results folder:  ..\\SourceLocalization\\Results\\Data=-0.1_0.6\\\n",
      "Subjects directory:  ..\\SourceLocalization\\subjects\\\n"
     ]
    }
   ],
   "source": [
    "tmin, tmax = -0.1, 0.6\n",
    "\n",
    "source_MainFolder = \"..\\SourceLocalization\\SourceEstimates\\Data=\"\n",
    "sourceFolder = source_MainFolder + str(tmin) + '_' + str(tmax) + '\\\\'\n",
    "print('Source folder: ', sourceFolder)\n",
    "\n",
    "statResultsFolder  = '..\\SourceLocalization\\Results\\Data='\n",
    "statResultsFolder = statResultsFolder + str(tmin) + '_' + str(tmax) + '\\\\'\n",
    "print('Statisctics results folder: ', statResultsFolder)    \n",
    "\n",
    "\n",
    "subjects_dir = '..\\SourceLocalization\\subjects\\\\'\n",
    "print('Subjects directory: ', subjects_dir)\n",
    "\n",
    "tstep= 0.01\n",
    "inv_sol_method = 'beamformer'\n",
    "smoothAmount=70"
   ]
  },
  {
   "cell_type": "code",
   "execution_count": 12,
   "metadata": {},
   "outputs": [],
   "source": [
    "# generate the inverse solution for group average\n",
    "def prepareInverseSolution_group(data, tstep, tmin_tmp=0):\n",
    "    \n",
    "    src_ave = mne.read_source_spaces(subjects_dir+'fsaverage/bem/fsaverage-ico-5-src.fif')\n",
    "\n",
    "    fsave_vertices = [s['vertno'] for s in src_ave]        \n",
    "            \n",
    "    stc_return = mne.SourceEstimate(data, fsave_vertices, tmin_tmp, tstep, subject='fsaverage')\n",
    "    \n",
    "    \n",
    "    return stc_return\n",
    "    "
   ]
  },
  {
   "cell_type": "markdown",
   "metadata": {},
   "source": [
    "Visualize source estimates"
   ]
  },
  {
   "cell_type": "code",
   "execution_count": 26,
   "metadata": {},
   "outputs": [
    {
     "name": "stdout",
     "output_type": "stream",
     "text": [
      "Notebook initialized with png backend.\n"
     ]
    }
   ],
   "source": [
    "mlab.init_notebook('png')\n",
    "def showResult(s_id, sourceFolder, stc, condName, minimum, maximum, tmin_tmp=0):\n",
    "    \n",
    "    initial_time = tmin_tmp\n",
    "    hemi_list = ['rh', 'lh']\n",
    "    for hemi in hemi_list:\n",
    "        print('Hemi: ', hemi)\n",
    "        #colors = np.array(([255,255,255], [250,128,114], [255,36,0], [124,10,2]))/256\n",
    "        kwargs = dict(initial_time=initial_time, surface='inflated', hemi=hemi, subjects_dir=subjects_dir,\n",
    "                      verbose=True, size=(600, 600), spacing='all') #, clim=dict(kind='value', pos_lims=(10, 100, 400))\n",
    "        \n",
    "        brain = stc.plot(**kwargs, colormap='Oranges')\n",
    "        brain.scale_data_colormap(fmin=minimum, fmid=(maximum+minimum)/2, fmax=maximum, transparent=True)\n",
    "        \n",
    "        \n",
    "\n",
    "        #brain.set_data_time_index(time_idx)\n",
    "        brain.show_view('lateral');\n",
    "        #mlab.show()\n",
    "\n",
    "        brain.save_image(sourceFolder + s_id + '_' + hemi + '_' + condName + '_vrtx.png')\n",
    "\n",
    "        Image(filename = sourceFolder +  s_id + '_' + hemi + '_' + condName + '_vrtx.png', width=600)\n"
   ]
  },
  {
   "cell_type": "code",
   "execution_count": 14,
   "metadata": {},
   "outputs": [
    {
     "name": "stdout",
     "output_type": "stream",
     "text": [
      "..\\SourceLocalization\\Results\\Data=-0.1_0.6\\stc_fsave_allTogether_real_onActivationMaps_beamformer_0.1_0.4_sm=70.npy\n",
      "shape of real sounds source estimates:  (20484, 31, 21)\n"
     ]
    }
   ],
   "source": [
    "tminData_cls_tmp, tmaxData_cls_tmp = 0.1, 0.4\n",
    "\n",
    "stc_real_filename = 'stc_fsave_allTogether_real_onActivationMaps_'+inv_sol_method+'_'+str(tminData_cls_tmp)+'_'+str(tmaxData_cls_tmp)+'_sm='+str(smoothAmount)+'.npy'\n",
    "print(statResultsFolder+stc_real_filename)\n",
    "\n",
    "stc_fsave_all_real_clfRange = np.load(statResultsFolder+stc_real_filename)\n",
    "print('shape of real sounds source estimates: ', stc_fsave_all_real_clfRange.shape)\n",
    "\n"
   ]
  },
  {
   "cell_type": "code",
   "execution_count": 15,
   "metadata": {},
   "outputs": [
    {
     "name": "stdout",
     "output_type": "stream",
     "text": [
      "stc_fsave_allTogether_real_onActivationMaps_beamformer_-0.04_0_sm=70.npy\n",
      "shape of real sounds baseline source estimates:  (20484, 5, 21)\n"
     ]
    }
   ],
   "source": [
    "tminData_baseline_tmp, tmaxData_baseline_tmp = -0.04, 0\n",
    "\n",
    "stc_real_filename_baseline = 'stc_fsave_allTogether_real_onActivationMaps_'+inv_sol_method+'_'+str(tminData_baseline_tmp)+'_'+str(tmaxData_baseline_tmp)+'_sm='+str(smoothAmount)+'.npy'\n",
    "print(stc_real_filename_baseline)\n",
    "stc_fsave_all_real_baseline = np.load(statResultsFolder+stc_real_filename_baseline)\n",
    "print('shape of real sounds baseline source estimates: ', stc_fsave_all_real_baseline.shape)"
   ]
  },
  {
   "cell_type": "code",
   "execution_count": 16,
   "metadata": {},
   "outputs": [
    {
     "name": "stdout",
     "output_type": "stream",
     "text": [
      "Shape stc_fsave_all_real_clfRange_avg after avg over subjects:  (20484, 31)\n",
      "Shape stc_fsave_all_real_clfRange_avg after avg across time:  (20484,)\n",
      "Shape stc_fsave_all_real_baseline_avg after avg over subjects:  (20484, 5)\n",
      "Shape stc_fsave_all_real_baseline_avg after avg across time:  (20484,)\n"
     ]
    },
    {
     "data": {
      "text/plain": [
       "(20484,)"
      ]
     },
     "execution_count": 16,
     "metadata": {},
     "output_type": "execute_result"
    }
   ],
   "source": [
    "# take mean over participants (dimension 2)\n",
    "stc_fsave_all_real_clfRange_avg = np.mean(stc_fsave_all_real_clfRange, axis=2)\n",
    "print('Shape stc_fsave_all_real_clfRange_avg after avg over subjects: ', stc_fsave_all_real_clfRange_avg.shape)\n",
    "# take mean over time points (dimension 1)\n",
    "stc_fsave_all_real_clfRange_avg= np.mean(stc_fsave_all_real_clfRange_avg, axis=1)\n",
    "print('Shape stc_fsave_all_real_clfRange_avg after avg across time: ', stc_fsave_all_real_clfRange_avg.shape)\n",
    "stc_fsave_all_real_clfRange_avg.shape\n",
    "\n",
    "# take mean over participants (dimension 2)\n",
    "stc_fsave_all_real_baseline_avg = np.mean(stc_fsave_all_real_baseline, axis=2)\n",
    "print('Shape stc_fsave_all_real_baseline_avg after avg over subjects: ', stc_fsave_all_real_baseline_avg.shape)\n",
    "# take mean over time points (dimension 1)\n",
    "stc_fsave_all_real_baseline_avg = np.mean(stc_fsave_all_real_baseline_avg, axis=1)\n",
    "print('Shape stc_fsave_all_real_baseline_avg after avg across time: ', stc_fsave_all_real_baseline_avg.shape)\n",
    "stc_fsave_all_real_baseline_avg.shape"
   ]
  },
  {
   "cell_type": "markdown",
   "metadata": {},
   "source": [
    "### Plot single subject sources"
   ]
  },
  {
   "cell_type": "code",
   "execution_count": 17,
   "metadata": {},
   "outputs": [],
   "source": [
    "# Take difference post-base normalized:\n",
    "\n",
    "stc_fsave_all_real_diff_avg = 100*(stc_fsave_all_real_clfRange_avg - stc_fsave_all_real_baseline_avg)/stc_fsave_all_real_baseline_avg\n",
    "\n"
   ]
  },
  {
   "cell_type": "code",
   "execution_count": 18,
   "metadata": {},
   "outputs": [
    {
     "name": "stdout",
     "output_type": "stream",
     "text": [
      "    Reading a source space...\n",
      "    [done]\n",
      "    Reading a source space...\n",
      "    [done]\n",
      "    2 source spaces read\n"
     ]
    }
   ],
   "source": [
    "stc_diff = prepareInverseSolution_group(stc_fsave_all_real_diff_avg, tstep=tstep, tmin_tmp=tminData_cls_tmp)"
   ]
  },
  {
   "cell_type": "code",
   "execution_count": 19,
   "metadata": {},
   "outputs": [
    {
     "name": "stdout",
     "output_type": "stream",
     "text": [
      "Max val:  1409.9375374371173\n"
     ]
    }
   ],
   "source": [
    "print('Max val: ', np.max(stc_diff.data))\n"
   ]
  },
  {
   "cell_type": "code",
   "execution_count": 101,
   "metadata": {},
   "outputs": [
    {
     "name": "stdout",
     "output_type": "stream",
     "text": [
      "Max val:  1409.9375374371173\n",
      "Hemi:  rh\n",
      "Using control points [ 822.19922909  868.37325414 1147.4512822 ]\n",
      "Hemi:  lh\n",
      "Using control points [ 822.19922909  868.37325414 1147.4512822 ]\n"
     ]
    }
   ],
   "source": [
    "print('Max val: ', np.max(stc_diff.data))\n",
    "\n",
    "v_ma = 1100\n",
    "v_mi = 500\n",
    "\n",
    "showResult('fsaverage', sourceFolder, stc_diff, \n",
    "           'real_change_allTogether_norm2z_tp10'+inv_sol_method+'_sm='+str(smoothAmount), \n",
    "           minimum=v_mi, maximum=v_ma)#, med = (v_mi + v_ma)/2)"
   ]
  },
  {
   "cell_type": "markdown",
   "metadata": {},
   "source": [
    "Get labels of parcellation"
   ]
  },
  {
   "cell_type": "code",
   "execution_count": 102,
   "metadata": {
    "scrolled": true
   },
   "outputs": [
    {
     "name": "stdout",
     "output_type": "stream",
     "text": [
      "    Reading a source space...\n",
      "    [done]\n",
      "    Reading a source space...\n",
      "    [done]\n",
      "    2 source spaces read\n",
      "Reading labels from parcellation...\n",
      "   read 35 labels from ..\\SourceLocalization\\subjects\\fsaverage\\label\\lh.aparc.annot\n",
      "   read 34 labels from ..\\SourceLocalization\\subjects\\fsaverage\\label\\rh.aparc.annot\n",
      "All labels: \n"
     ]
    },
    {
     "data": {
      "text/plain": [
       "[<Label | fsaverage, 'bankssts-lh', lh : 2137 vertices>,\n",
       " <Label | fsaverage, 'bankssts-rh', rh : 2196 vertices>,\n",
       " <Label | fsaverage, 'caudalanteriorcingulate-lh', lh : 1439 vertices>,\n",
       " <Label | fsaverage, 'caudalanteriorcingulate-rh', rh : 1608 vertices>,\n",
       " <Label | fsaverage, 'caudalmiddlefrontal-lh', lh : 3736 vertices>,\n",
       " <Label | fsaverage, 'caudalmiddlefrontal-rh', rh : 3494 vertices>,\n",
       " <Label | fsaverage, 'cuneus-lh', lh : 1630 vertices>,\n",
       " <Label | fsaverage, 'cuneus-rh', rh : 1638 vertices>,\n",
       " <Label | fsaverage, 'entorhinal-lh', lh : 1102 vertices>,\n",
       " <Label | fsaverage, 'entorhinal-rh', rh : 902 vertices>,\n",
       " <Label | fsaverage, 'frontalpole-lh', lh : 272 vertices>,\n",
       " <Label | fsaverage, 'frontalpole-rh', rh : 369 vertices>,\n",
       " <Label | fsaverage, 'fusiform-lh', lh : 4714 vertices>,\n",
       " <Label | fsaverage, 'fusiform-rh', rh : 4661 vertices>,\n",
       " <Label | fsaverage, 'inferiorparietal-lh', lh : 7871 vertices>,\n",
       " <Label | fsaverage, 'inferiorparietal-rh', rh : 9676 vertices>,\n",
       " <Label | fsaverage, 'inferiortemporal-lh', lh : 4415 vertices>,\n",
       " <Label | fsaverage, 'inferiortemporal-rh', rh : 4198 vertices>,\n",
       " <Label | fsaverage, 'insula-lh', lh : 5229 vertices>,\n",
       " <Label | fsaverage, 'insula-rh', rh : 5090 vertices>,\n",
       " <Label | fsaverage, 'isthmuscingulate-lh', lh : 2531 vertices>,\n",
       " <Label | fsaverage, 'isthmuscingulate-rh', rh : 2388 vertices>,\n",
       " <Label | fsaverage, 'lateraloccipital-lh', lh : 6379 vertices>,\n",
       " <Label | fsaverage, 'lateraloccipital-rh', rh : 5963 vertices>,\n",
       " <Label | fsaverage, 'lateralorbitofrontal-lh', lh : 4188 vertices>,\n",
       " <Label | fsaverage, 'lateralorbitofrontal-rh', rh : 4354 vertices>,\n",
       " <Label | fsaverage, 'lingual-lh', lh : 4205 vertices>,\n",
       " <Label | fsaverage, 'lingual-rh', rh : 3894 vertices>,\n",
       " <Label | fsaverage, 'medialorbitofrontal-lh', lh : 2653 vertices>,\n",
       " <Label | fsaverage, 'medialorbitofrontal-rh', rh : 2801 vertices>,\n",
       " <Label | fsaverage, 'middletemporal-lh', lh : 4452 vertices>,\n",
       " <Label | fsaverage, 'middletemporal-rh', rh : 5057 vertices>,\n",
       " <Label | fsaverage, 'paracentral-lh', lh : 3294 vertices>,\n",
       " <Label | fsaverage, 'paracentral-rh', rh : 3831 vertices>,\n",
       " <Label | fsaverage, 'parahippocampal-lh', lh : 1838 vertices>,\n",
       " <Label | fsaverage, 'parahippocampal-rh', rh : 1742 vertices>,\n",
       " <Label | fsaverage, 'parsopercularis-lh', lh : 3119 vertices>,\n",
       " <Label | fsaverage, 'parsopercularis-rh', rh : 2472 vertices>,\n",
       " <Label | fsaverage, 'parsorbitalis-lh', lh : 956 vertices>,\n",
       " <Label | fsaverage, 'parsorbitalis-rh', rh : 946 vertices>,\n",
       " <Label | fsaverage, 'parstriangularis-lh', lh : 2046 vertices>,\n",
       " <Label | fsaverage, 'parstriangularis-rh', rh : 2380 vertices>,\n",
       " <Label | fsaverage, 'pericalcarine-lh', lh : 1912 vertices>,\n",
       " <Label | fsaverage, 'pericalcarine-rh', rh : 1823 vertices>,\n",
       " <Label | fsaverage, 'postcentral-lh', lh : 9519 vertices>,\n",
       " <Label | fsaverage, 'postcentral-rh', rh : 9138 vertices>,\n",
       " <Label | fsaverage, 'posteriorcingulate-lh', lh : 3266 vertices>,\n",
       " <Label | fsaverage, 'posteriorcingulate-rh', rh : 2994 vertices>,\n",
       " <Label | fsaverage, 'precentral-lh', lh : 10740 vertices>,\n",
       " <Label | fsaverage, 'precentral-rh', rh : 10705 vertices>,\n",
       " <Label | fsaverage, 'precuneus-lh', lh : 7308 vertices>,\n",
       " <Label | fsaverage, 'precuneus-rh', rh : 7975 vertices>,\n",
       " <Label | fsaverage, 'rostralanteriorcingulate-lh', lh : 1350 vertices>,\n",
       " <Label | fsaverage, 'rostralanteriorcingulate-rh', rh : 1051 vertices>,\n",
       " <Label | fsaverage, 'rostralmiddlefrontal-lh', lh : 7243 vertices>,\n",
       " <Label | fsaverage, 'rostralmiddlefrontal-rh', rh : 7864 vertices>,\n",
       " <Label | fsaverage, 'superiorfrontal-lh', lh : 12179 vertices>,\n",
       " <Label | fsaverage, 'superiorfrontal-rh', rh : 11878 vertices>,\n",
       " <Label | fsaverage, 'superiorparietal-lh', lh : 10456 vertices>,\n",
       " <Label | fsaverage, 'superiorparietal-rh', rh : 10222 vertices>,\n",
       " <Label | fsaverage, 'superiortemporal-lh', lh : 7271 vertices>,\n",
       " <Label | fsaverage, 'superiortemporal-rh', rh : 6868 vertices>,\n",
       " <Label | fsaverage, 'supramarginal-lh', lh : 8600 vertices>,\n",
       " <Label | fsaverage, 'supramarginal-rh', rh : 8150 vertices>,\n",
       " <Label | fsaverage, 'temporalpole-lh', lh : 839 vertices>,\n",
       " <Label | fsaverage, 'temporalpole-rh', rh : 817 vertices>,\n",
       " <Label | fsaverage, 'transversetemporal-lh', lh : 1064 vertices>,\n",
       " <Label | fsaverage, 'transversetemporal-rh', rh : 781 vertices>,\n",
       " <Label | fsaverage, 'unknown-lh', lh : 2 vertices>]"
      ]
     },
     "execution_count": 102,
     "metadata": {},
     "output_type": "execute_result"
    }
   ],
   "source": [
    "#sd = '/Users/athina/Documents/Projects/Pinar_MEG/'\n",
    "\n",
    "src_ave = mne.read_source_spaces(subjects_dir+'fsaverage\\\\bem\\\\fsaverage-ico-5-src.fif')\n",
    "\n",
    "fsave_vertices = [s['vertno'] for s in src_ave]\n",
    "\n",
    "label = mne.read_labels_from_annot('fsaverage', parc='aparc',hemi = 'both',\n",
    "                                   subjects_dir=subjects_dir)\n",
    "print('All labels: ')\n",
    "label"
   ]
  },
  {
   "cell_type": "code",
   "execution_count": 103,
   "metadata": {},
   "outputs": [],
   "source": [
    "# Initialize a list of labels:\n",
    "\n",
    "labels_names = stc_diff.data.shape[0]*[None]\n",
    "labels_inSourceEst = stc_diff.data.shape[0]*[None]\n",
    "\n",
    "for l_i in range(len(label)):\n",
    "\n",
    "#    l_i = 0 # label index we want\n",
    "\n",
    "    # the name for current labels:\n",
    "    for ver in label[l_i].restrict(src_ave).vertices:\n",
    "        labels_names[ver] = label[l_i].restrict(src_ave).name\n",
    "        labels_inSourceEst[ver] = label[l_i].restrict(src_ave)\n"
   ]
  },
  {
   "cell_type": "code",
   "execution_count": 104,
   "metadata": {},
   "outputs": [
    {
     "name": "stdout",
     "output_type": "stream",
     "text": [
      "20484\n",
      "20484\n"
     ]
    }
   ],
   "source": [
    "print(len(stc_diff.data))\n",
    "print(len(labels_names))"
   ]
  },
  {
   "cell_type": "code",
   "execution_count": null,
   "metadata": {},
   "outputs": [],
   "source": []
  },
  {
   "cell_type": "code",
   "execution_count": 105,
   "metadata": {
    "scrolled": true
   },
   "outputs": [
    {
     "name": "stdout",
     "output_type": "stream",
     "text": [
      "superiorfrontal-lh\n",
      "precuneus-lh\n",
      "rostralmiddlefrontal-rh\n",
      "superiorfrontal-lh\n",
      "rostralanteriorcingulate-lh\n",
      "supramarginal-rh\n",
      "rostralmiddlefrontal-rh\n",
      "superiorfrontal-lh\n",
      "superiorfrontal-lh\n",
      "supramarginal-rh\n",
      "precentral-rh\n",
      "rostralmiddlefrontal-rh\n",
      "rostralmiddlefrontal-rh\n",
      "superiorfrontal-lh\n",
      "superiorfrontal-lh\n",
      "rostralanteriorcingulate-lh\n",
      "inferiorparietal-rh\n",
      "rostralmiddlefrontal-rh\n",
      "rostralmiddlefrontal-rh\n",
      "superiorfrontal-lh\n",
      "superiorfrontal-lh\n",
      "superiorfrontal-lh\n",
      "superiorfrontal-lh\n",
      "superiorfrontal-lh\n",
      "precuneus-lh\n",
      "rostralmiddlefrontal-rh\n",
      "rostralanteriorcingulate-lh\n",
      "precentral-rh\n",
      "rostralmiddlefrontal-rh\n",
      "rostralmiddlefrontal-rh\n",
      "superiorfrontal-lh\n",
      "precuneus-lh\n",
      "precuneus-lh\n",
      "rostralmiddlefrontal-rh\n",
      "postcentral-rh\n",
      "superiorfrontal-lh\n",
      "rostralmiddlefrontal-rh\n",
      "rostralmiddlefrontal-rh\n",
      "rostralmiddlefrontal-rh\n",
      "superiorfrontal-lh\n",
      "superiorfrontal-lh\n",
      "superiorfrontal-lh\n",
      "superiorfrontal-lh\n",
      "superiorfrontal-lh\n",
      "precuneus-lh\n",
      "supramarginal-rh\n",
      "precuneus-lh\n",
      "precuneus-lh\n",
      "superiorfrontal-lh\n",
      "insula-rh\n",
      "postcentral-rh\n",
      "None\n",
      "None\n",
      "None\n",
      "None\n",
      "None\n",
      "None\n",
      "None\n",
      "None\n",
      "None\n",
      "None\n",
      "None\n",
      "None\n",
      "None\n",
      "None\n",
      "None\n",
      "None\n",
      "None\n",
      "None\n",
      "None\n",
      "None\n",
      "None\n",
      "None\n",
      "None\n",
      "None\n",
      "None\n",
      "None\n",
      "None\n",
      "None\n",
      "None\n",
      "None\n",
      "None\n",
      "None\n",
      "None\n",
      "None\n",
      "None\n",
      "None\n",
      "None\n",
      "None\n",
      "None\n",
      "None\n",
      "None\n",
      "None\n",
      "None\n",
      "None\n",
      "None\n",
      "None\n",
      "None\n",
      "None\n",
      "None\n",
      "None\n",
      "None\n",
      "None\n",
      "None\n",
      "None\n",
      "None\n"
     ]
    }
   ],
   "source": [
    "desired_thres = 1000\n",
    "\n",
    "sign_i = np.where(stc_fsave_all_real_diff_avg > desired_thres)[0]\n",
    "labels_names_sign = []\n",
    "for s in sign_i:\n",
    "    print(labels_names[s])\n",
    "    labels_names_sign.append(labels_names[s])"
   ]
  },
  {
   "cell_type": "code",
   "execution_count": 106,
   "metadata": {},
   "outputs": [
    {
     "data": {
      "text/plain": [
       "106"
      ]
     },
     "execution_count": 106,
     "metadata": {},
     "output_type": "execute_result"
    }
   ],
   "source": [
    "len(sign_i)"
   ]
  },
  {
   "cell_type": "code",
   "execution_count": 107,
   "metadata": {
    "scrolled": true
   },
   "outputs": [
    {
     "data": {
      "text/plain": [
       "['superiorfrontal-lh',\n",
       " 'precuneus-lh',\n",
       " 'rostralmiddlefrontal-rh',\n",
       " 'superiorfrontal-lh',\n",
       " 'rostralanteriorcingulate-lh',\n",
       " 'supramarginal-rh',\n",
       " 'rostralmiddlefrontal-rh',\n",
       " 'superiorfrontal-lh',\n",
       " 'superiorfrontal-lh',\n",
       " 'supramarginal-rh',\n",
       " 'precentral-rh',\n",
       " 'rostralmiddlefrontal-rh',\n",
       " 'rostralmiddlefrontal-rh',\n",
       " 'superiorfrontal-lh',\n",
       " 'superiorfrontal-lh',\n",
       " 'rostralanteriorcingulate-lh',\n",
       " 'inferiorparietal-rh',\n",
       " 'rostralmiddlefrontal-rh',\n",
       " 'rostralmiddlefrontal-rh',\n",
       " 'superiorfrontal-lh',\n",
       " 'superiorfrontal-lh',\n",
       " 'superiorfrontal-lh',\n",
       " 'superiorfrontal-lh',\n",
       " 'superiorfrontal-lh',\n",
       " 'precuneus-lh',\n",
       " 'rostralmiddlefrontal-rh',\n",
       " 'rostralanteriorcingulate-lh',\n",
       " 'precentral-rh',\n",
       " 'rostralmiddlefrontal-rh',\n",
       " 'rostralmiddlefrontal-rh',\n",
       " 'superiorfrontal-lh',\n",
       " 'precuneus-lh',\n",
       " 'precuneus-lh',\n",
       " 'rostralmiddlefrontal-rh',\n",
       " 'postcentral-rh',\n",
       " 'superiorfrontal-lh',\n",
       " 'rostralmiddlefrontal-rh',\n",
       " 'rostralmiddlefrontal-rh',\n",
       " 'rostralmiddlefrontal-rh',\n",
       " 'superiorfrontal-lh',\n",
       " 'superiorfrontal-lh',\n",
       " 'superiorfrontal-lh',\n",
       " 'superiorfrontal-lh',\n",
       " 'superiorfrontal-lh',\n",
       " 'precuneus-lh',\n",
       " 'supramarginal-rh',\n",
       " 'precuneus-lh',\n",
       " 'precuneus-lh',\n",
       " 'superiorfrontal-lh',\n",
       " 'insula-rh',\n",
       " 'postcentral-rh',\n",
       " None,\n",
       " None,\n",
       " None,\n",
       " None,\n",
       " None,\n",
       " None,\n",
       " None,\n",
       " None,\n",
       " None,\n",
       " None,\n",
       " None,\n",
       " None,\n",
       " None,\n",
       " None,\n",
       " None,\n",
       " None,\n",
       " None,\n",
       " None,\n",
       " None,\n",
       " None,\n",
       " None,\n",
       " None,\n",
       " None,\n",
       " None,\n",
       " None,\n",
       " None,\n",
       " None,\n",
       " None,\n",
       " None,\n",
       " None,\n",
       " None,\n",
       " None,\n",
       " None,\n",
       " None,\n",
       " None,\n",
       " None,\n",
       " None,\n",
       " None,\n",
       " None,\n",
       " None,\n",
       " None,\n",
       " None,\n",
       " None,\n",
       " None,\n",
       " None,\n",
       " None,\n",
       " None,\n",
       " None,\n",
       " None,\n",
       " None,\n",
       " None,\n",
       " None,\n",
       " None,\n",
       " None,\n",
       " None]"
      ]
     },
     "execution_count": 107,
     "metadata": {},
     "output_type": "execute_result"
    }
   ],
   "source": [
    "labels_names_sign"
   ]
  },
  {
   "cell_type": "markdown",
   "metadata": {},
   "source": []
  },
  {
   "cell_type": "markdown",
   "metadata": {},
   "source": [
    "Brain = mne.viz.get_brain_class()\n",
    "\n",
    "subjects_dir = mne.datasets.sample.data_path() + '/subjects'\n",
    "#mne.datasets.fetch_hcp_mmp_parcellation(subjects_dir=subjects_dir,verbose=True)\n",
    "\n",
    "#mne.datasets.fetch_aparc_sub_parcellation(subjects_dir=subjects_dir,verbose=True)\n",
    "hemi = 'lh'\n",
    "brain = Brain('fsaverage', hemi, 'inflated', subjects_dir=subjects_dir,\n",
    "              cortex='low_contrast', background='white', size=(800, 600))\n",
    "#brain.add_annotation('HCPMMP1')\n",
    "labels_to_plot = [l for l in label if l.restrict(src_ave).name in labels_names_sign and hemi in l.name]\n",
    "for l in labels_to_plot:\n",
    "    brain.add_label(l, borders=True)\n",
    "\n",
    "brain.show_view('lateral');\n",
    "#Image(filename = sourceFolder + 'corticalSources.png', width=600)\n",
    "brain.save_image(sourceFolder + 'corticalSources_'+hemi+'.png', 'rgb')"
   ]
  },
  {
   "cell_type": "code",
   "execution_count": 108,
   "metadata": {},
   "outputs": [],
   "source": [
    "#brain.labels"
   ]
  },
  {
   "cell_type": "markdown",
   "metadata": {},
   "source": [
    "Get MNI coordinates of the peak on left hemisphere"
   ]
  },
  {
   "cell_type": "code",
   "execution_count": 109,
   "metadata": {},
   "outputs": [
    {
     "name": "stdout",
     "output_type": "stream",
     "text": [
      "peak_vertex:  3416\n",
      "Using control points [ 822.19922909  868.37325414 1147.4512822 ]\n"
     ]
    },
    {
     "ename": "OSError",
     "evalue": "[Errno 22] Invalid argument: '..\\\\SourceLocalization\\\\SourceEstimates\\\\Data=-0.1_0.6\\\\all_lh_with_maxpoint_lateral.png'",
     "output_type": "error",
     "traceback": [
      "\u001b[1;31m---------------------------------------------------------------------------\u001b[0m",
      "\u001b[1;31mOSError\u001b[0m                                   Traceback (most recent call last)",
      "\u001b[1;32m<ipython-input-109-e70fde3df657>\u001b[0m in \u001b[0;36m<module>\u001b[1;34m\u001b[0m\n\u001b[0;32m     24\u001b[0m \u001b[0mview\u001b[0m \u001b[1;33m=\u001b[0m \u001b[1;34m'lateral'\u001b[0m \u001b[1;31m#medial lateral\u001b[0m\u001b[1;33m\u001b[0m\u001b[1;33m\u001b[0m\u001b[0m\n\u001b[0;32m     25\u001b[0m \u001b[0mbrain\u001b[0m\u001b[1;33m.\u001b[0m\u001b[0mshow_view\u001b[0m\u001b[1;33m(\u001b[0m\u001b[0mview\u001b[0m\u001b[1;33m)\u001b[0m\u001b[1;33m;\u001b[0m\u001b[1;33m\u001b[0m\u001b[1;33m\u001b[0m\u001b[0m\n\u001b[1;32m---> 26\u001b[1;33m \u001b[0mbrain\u001b[0m\u001b[1;33m.\u001b[0m\u001b[0msave_image\u001b[0m\u001b[1;33m(\u001b[0m\u001b[0msourceFolder\u001b[0m \u001b[1;33m+\u001b[0m  \u001b[1;34m'all_'\u001b[0m \u001b[1;33m+\u001b[0m \u001b[0mhemi\u001b[0m \u001b[1;33m+\u001b[0m \u001b[1;34m'_with_maxpoint_'\u001b[0m\u001b[1;33m+\u001b[0m\u001b[0mview\u001b[0m\u001b[1;33m+\u001b[0m\u001b[1;34m'.png'\u001b[0m\u001b[1;33m)\u001b[0m\u001b[1;33m\u001b[0m\u001b[1;33m\u001b[0m\u001b[0m\n\u001b[0m\u001b[0;32m     27\u001b[0m \u001b[1;33m\u001b[0m\u001b[0m\n\u001b[0;32m     28\u001b[0m \u001b[1;31m# convert vertex to MNI coordinates\u001b[0m\u001b[1;33m\u001b[0m\u001b[1;33m\u001b[0m\u001b[1;33m\u001b[0m\u001b[0m\n",
      "\u001b[1;32m~\\miniconda3\\envs\\exp\\lib\\site-packages\\surfer\\viz.py\u001b[0m in \u001b[0;36msave_image\u001b[1;34m(self, filename, mode, antialiased)\u001b[0m\n\u001b[0;32m   2396\u001b[0m         \u001b[0mscript\u001b[0m \u001b[0mplotting\u001b[0m \u001b[0mcommands\u001b[0m\u001b[1;33m.\u001b[0m\u001b[1;33m\u001b[0m\u001b[1;33m\u001b[0m\u001b[0m\n\u001b[0;32m   2397\u001b[0m         \"\"\"\n\u001b[1;32m-> 2398\u001b[1;33m         \u001b[0mself\u001b[0m\u001b[1;33m.\u001b[0m\u001b[0m_screenshot_figure\u001b[0m\u001b[1;33m(\u001b[0m\u001b[0mmode\u001b[0m\u001b[1;33m,\u001b[0m \u001b[0mantialiased\u001b[0m\u001b[1;33m)\u001b[0m\u001b[1;33m.\u001b[0m\u001b[0msavefig\u001b[0m\u001b[1;33m(\u001b[0m\u001b[0mfilename\u001b[0m\u001b[1;33m)\u001b[0m\u001b[1;33m\u001b[0m\u001b[1;33m\u001b[0m\u001b[0m\n\u001b[0m\u001b[0;32m   2399\u001b[0m \u001b[1;33m\u001b[0m\u001b[0m\n\u001b[0;32m   2400\u001b[0m     \u001b[1;32mdef\u001b[0m \u001b[0mscreenshot\u001b[0m\u001b[1;33m(\u001b[0m\u001b[0mself\u001b[0m\u001b[1;33m,\u001b[0m \u001b[0mmode\u001b[0m\u001b[1;33m=\u001b[0m\u001b[1;34m'rgb'\u001b[0m\u001b[1;33m,\u001b[0m \u001b[0mantialiased\u001b[0m\u001b[1;33m=\u001b[0m\u001b[1;32mFalse\u001b[0m\u001b[1;33m)\u001b[0m\u001b[1;33m:\u001b[0m\u001b[1;33m\u001b[0m\u001b[1;33m\u001b[0m\u001b[0m\n",
      "\u001b[1;32m~\\miniconda3\\envs\\exp\\lib\\site-packages\\matplotlib\\figure.py\u001b[0m in \u001b[0;36msavefig\u001b[1;34m(self, fname, transparent, **kwargs)\u001b[0m\n\u001b[0;32m   2309\u001b[0m                 \u001b[0mpatch\u001b[0m\u001b[1;33m.\u001b[0m\u001b[0mset_edgecolor\u001b[0m\u001b[1;33m(\u001b[0m\u001b[1;34m'none'\u001b[0m\u001b[1;33m)\u001b[0m\u001b[1;33m\u001b[0m\u001b[1;33m\u001b[0m\u001b[0m\n\u001b[0;32m   2310\u001b[0m \u001b[1;33m\u001b[0m\u001b[0m\n\u001b[1;32m-> 2311\u001b[1;33m         \u001b[0mself\u001b[0m\u001b[1;33m.\u001b[0m\u001b[0mcanvas\u001b[0m\u001b[1;33m.\u001b[0m\u001b[0mprint_figure\u001b[0m\u001b[1;33m(\u001b[0m\u001b[0mfname\u001b[0m\u001b[1;33m,\u001b[0m \u001b[1;33m**\u001b[0m\u001b[0mkwargs\u001b[0m\u001b[1;33m)\u001b[0m\u001b[1;33m\u001b[0m\u001b[1;33m\u001b[0m\u001b[0m\n\u001b[0m\u001b[0;32m   2312\u001b[0m \u001b[1;33m\u001b[0m\u001b[0m\n\u001b[0;32m   2313\u001b[0m         \u001b[1;32mif\u001b[0m \u001b[0mtransparent\u001b[0m\u001b[1;33m:\u001b[0m\u001b[1;33m\u001b[0m\u001b[1;33m\u001b[0m\u001b[0m\n",
      "\u001b[1;32m~\\miniconda3\\envs\\exp\\lib\\site-packages\\matplotlib\\backend_bases.py\u001b[0m in \u001b[0;36mprint_figure\u001b[1;34m(self, filename, dpi, facecolor, edgecolor, orientation, format, bbox_inches, pad_inches, bbox_extra_artists, backend, **kwargs)\u001b[0m\n\u001b[0;32m   2215\u001b[0m                     \u001b[0morientation\u001b[0m\u001b[1;33m=\u001b[0m\u001b[0morientation\u001b[0m\u001b[1;33m,\u001b[0m\u001b[1;33m\u001b[0m\u001b[1;33m\u001b[0m\u001b[0m\n\u001b[0;32m   2216\u001b[0m                     \u001b[0mbbox_inches_restore\u001b[0m\u001b[1;33m=\u001b[0m\u001b[0m_bbox_inches_restore\u001b[0m\u001b[1;33m,\u001b[0m\u001b[1;33m\u001b[0m\u001b[1;33m\u001b[0m\u001b[0m\n\u001b[1;32m-> 2217\u001b[1;33m                     **kwargs)\n\u001b[0m\u001b[0;32m   2218\u001b[0m             \u001b[1;32mfinally\u001b[0m\u001b[1;33m:\u001b[0m\u001b[1;33m\u001b[0m\u001b[1;33m\u001b[0m\u001b[0m\n\u001b[0;32m   2219\u001b[0m                 \u001b[1;32mif\u001b[0m \u001b[0mbbox_inches\u001b[0m \u001b[1;32mand\u001b[0m \u001b[0mrestore_bbox\u001b[0m\u001b[1;33m:\u001b[0m\u001b[1;33m\u001b[0m\u001b[1;33m\u001b[0m\u001b[0m\n",
      "\u001b[1;32m~\\miniconda3\\envs\\exp\\lib\\site-packages\\matplotlib\\backend_bases.py\u001b[0m in \u001b[0;36mwrapper\u001b[1;34m(*args, **kwargs)\u001b[0m\n\u001b[0;32m   1637\u001b[0m             \u001b[0mkwargs\u001b[0m\u001b[1;33m.\u001b[0m\u001b[0mpop\u001b[0m\u001b[1;33m(\u001b[0m\u001b[0marg\u001b[0m\u001b[1;33m)\u001b[0m\u001b[1;33m\u001b[0m\u001b[1;33m\u001b[0m\u001b[0m\n\u001b[0;32m   1638\u001b[0m \u001b[1;33m\u001b[0m\u001b[0m\n\u001b[1;32m-> 1639\u001b[1;33m         \u001b[1;32mreturn\u001b[0m \u001b[0mfunc\u001b[0m\u001b[1;33m(\u001b[0m\u001b[1;33m*\u001b[0m\u001b[0margs\u001b[0m\u001b[1;33m,\u001b[0m \u001b[1;33m**\u001b[0m\u001b[0mkwargs\u001b[0m\u001b[1;33m)\u001b[0m\u001b[1;33m\u001b[0m\u001b[1;33m\u001b[0m\u001b[0m\n\u001b[0m\u001b[0;32m   1640\u001b[0m \u001b[1;33m\u001b[0m\u001b[0m\n\u001b[0;32m   1641\u001b[0m     \u001b[1;32mreturn\u001b[0m \u001b[0mwrapper\u001b[0m\u001b[1;33m\u001b[0m\u001b[1;33m\u001b[0m\u001b[0m\n",
      "\u001b[1;32m~\\miniconda3\\envs\\exp\\lib\\site-packages\\matplotlib\\backends\\backend_agg.py\u001b[0m in \u001b[0;36mprint_png\u001b[1;34m(self, filename_or_obj, metadata, pil_kwargs, *args)\u001b[0m\n\u001b[0;32m    510\u001b[0m         mpl.image.imsave(\n\u001b[0;32m    511\u001b[0m             \u001b[0mfilename_or_obj\u001b[0m\u001b[1;33m,\u001b[0m \u001b[0mself\u001b[0m\u001b[1;33m.\u001b[0m\u001b[0mbuffer_rgba\u001b[0m\u001b[1;33m(\u001b[0m\u001b[1;33m)\u001b[0m\u001b[1;33m,\u001b[0m \u001b[0mformat\u001b[0m\u001b[1;33m=\u001b[0m\u001b[1;34m\"png\"\u001b[0m\u001b[1;33m,\u001b[0m \u001b[0morigin\u001b[0m\u001b[1;33m=\u001b[0m\u001b[1;34m\"upper\"\u001b[0m\u001b[1;33m,\u001b[0m\u001b[1;33m\u001b[0m\u001b[1;33m\u001b[0m\u001b[0m\n\u001b[1;32m--> 512\u001b[1;33m             dpi=self.figure.dpi, metadata=metadata, pil_kwargs=pil_kwargs)\n\u001b[0m\u001b[0;32m    513\u001b[0m \u001b[1;33m\u001b[0m\u001b[0m\n\u001b[0;32m    514\u001b[0m     \u001b[1;32mdef\u001b[0m \u001b[0mprint_to_buffer\u001b[0m\u001b[1;33m(\u001b[0m\u001b[0mself\u001b[0m\u001b[1;33m)\u001b[0m\u001b[1;33m:\u001b[0m\u001b[1;33m\u001b[0m\u001b[1;33m\u001b[0m\u001b[0m\n",
      "\u001b[1;32m~\\miniconda3\\envs\\exp\\lib\\site-packages\\matplotlib\\image.py\u001b[0m in \u001b[0;36mimsave\u001b[1;34m(fname, arr, vmin, vmax, cmap, format, origin, dpi, metadata, pil_kwargs)\u001b[0m\n\u001b[0;32m   1603\u001b[0m         \u001b[0mpil_kwargs\u001b[0m\u001b[1;33m.\u001b[0m\u001b[0msetdefault\u001b[0m\u001b[1;33m(\u001b[0m\u001b[1;34m\"format\"\u001b[0m\u001b[1;33m,\u001b[0m \u001b[0mformat\u001b[0m\u001b[1;33m)\u001b[0m\u001b[1;33m\u001b[0m\u001b[1;33m\u001b[0m\u001b[0m\n\u001b[0;32m   1604\u001b[0m         \u001b[0mpil_kwargs\u001b[0m\u001b[1;33m.\u001b[0m\u001b[0msetdefault\u001b[0m\u001b[1;33m(\u001b[0m\u001b[1;34m\"dpi\"\u001b[0m\u001b[1;33m,\u001b[0m \u001b[1;33m(\u001b[0m\u001b[0mdpi\u001b[0m\u001b[1;33m,\u001b[0m \u001b[0mdpi\u001b[0m\u001b[1;33m)\u001b[0m\u001b[1;33m)\u001b[0m\u001b[1;33m\u001b[0m\u001b[1;33m\u001b[0m\u001b[0m\n\u001b[1;32m-> 1605\u001b[1;33m         \u001b[0mimage\u001b[0m\u001b[1;33m.\u001b[0m\u001b[0msave\u001b[0m\u001b[1;33m(\u001b[0m\u001b[0mfname\u001b[0m\u001b[1;33m,\u001b[0m \u001b[1;33m**\u001b[0m\u001b[0mpil_kwargs\u001b[0m\u001b[1;33m)\u001b[0m\u001b[1;33m\u001b[0m\u001b[1;33m\u001b[0m\u001b[0m\n\u001b[0m\u001b[0;32m   1606\u001b[0m \u001b[1;33m\u001b[0m\u001b[0m\n\u001b[0;32m   1607\u001b[0m \u001b[1;33m\u001b[0m\u001b[0m\n",
      "\u001b[1;32m~\\miniconda3\\envs\\exp\\lib\\site-packages\\PIL\\Image.py\u001b[0m in \u001b[0;36msave\u001b[1;34m(self, fp, format, **params)\u001b[0m\n\u001b[0;32m   2146\u001b[0m                 \u001b[0mfp\u001b[0m \u001b[1;33m=\u001b[0m \u001b[0mbuiltins\u001b[0m\u001b[1;33m.\u001b[0m\u001b[0mopen\u001b[0m\u001b[1;33m(\u001b[0m\u001b[0mfilename\u001b[0m\u001b[1;33m,\u001b[0m \u001b[1;34m\"r+b\"\u001b[0m\u001b[1;33m)\u001b[0m\u001b[1;33m\u001b[0m\u001b[1;33m\u001b[0m\u001b[0m\n\u001b[0;32m   2147\u001b[0m             \u001b[1;32melse\u001b[0m\u001b[1;33m:\u001b[0m\u001b[1;33m\u001b[0m\u001b[1;33m\u001b[0m\u001b[0m\n\u001b[1;32m-> 2148\u001b[1;33m                 \u001b[0mfp\u001b[0m \u001b[1;33m=\u001b[0m \u001b[0mbuiltins\u001b[0m\u001b[1;33m.\u001b[0m\u001b[0mopen\u001b[0m\u001b[1;33m(\u001b[0m\u001b[0mfilename\u001b[0m\u001b[1;33m,\u001b[0m \u001b[1;34m\"w+b\"\u001b[0m\u001b[1;33m)\u001b[0m\u001b[1;33m\u001b[0m\u001b[1;33m\u001b[0m\u001b[0m\n\u001b[0m\u001b[0;32m   2149\u001b[0m \u001b[1;33m\u001b[0m\u001b[0m\n\u001b[0;32m   2150\u001b[0m         \u001b[1;32mtry\u001b[0m\u001b[1;33m:\u001b[0m\u001b[1;33m\u001b[0m\u001b[1;33m\u001b[0m\u001b[0m\n",
      "\u001b[1;31mOSError\u001b[0m: [Errno 22] Invalid argument: '..\\\\SourceLocalization\\\\SourceEstimates\\\\Data=-0.1_0.6\\\\all_lh_with_maxpoint_lateral.png'"
     ]
    }
   ],
   "source": [
    "hemi = 'lh'\n",
    "hemi_ind = 0 # lh\n",
    "    \n",
    "# find the peak on the lh\n",
    "peak_vertex, peak_time = stc_diff.get_peak(hemi=hemi)\n",
    "print('peak_vertex: ', peak_vertex)\n",
    "\n",
    "# get the vertex at the peak\n",
    "peak_vertex_surf = stc_diff.lh_vertno[peak_vertex]\n",
    "import cmasher as cmr\n",
    "cmap = plt.get_cmap('cmr.seasons')\n",
    "   \n",
    "# plot the source estimate with the peak painted blue\n",
    "kwargs = dict(initial_time=0.1, surface='inflated', hemi=hemi, subjects_dir=subjects_dir,\n",
    "                      verbose=True, size=(600, 600), spacing='all',  background='w', \n",
    "                      cortex=(211/256,211/256,211/256)) #, clim=dict(kind='value', pos_lims=(10, 100, 400))\n",
    "        \n",
    "brain = stc_diff.plot(**kwargs, colormap='Oranges')\n",
    "brain.scale_data_colormap(fmin=v_mi, fmid=(v_mi+v_ma)/2, fmax=v_ma, transparent=True)\n",
    "\n",
    "# add the vertex at the peak to the plot\n",
    "#brain.add_foci(peak_vertex_surf, coords_as_verts=True, hemi=hemi, color='blue')\n",
    "\n",
    "view = 'lateral' #medial lateral\n",
    "brain.show_view(view);\n",
    "brain.save_image(sourceFolder +  'all_' + hemi + '_with_maxpoint_'+view+'.png')\n",
    "\n",
    "# convert vertex to MNI coordinates\n",
    "coordinate = mne.vertex_to_mni(peak_vertex_surf, hemis=hemi_ind, subject='fsaverage', subjects_dir=subjects_dir)\n",
    "\n",
    "print('coordinates: ', coordinate)"
   ]
  },
  {
   "cell_type": "markdown",
   "metadata": {},
   "source": [
    "Get MNI coordinates of the peak on right hemisphere"
   ]
  },
  {
   "cell_type": "code",
   "execution_count": 98,
   "metadata": {},
   "outputs": [
    {
     "data": {
      "text/plain": [
       "600"
      ]
     },
     "execution_count": 98,
     "metadata": {},
     "output_type": "execute_result"
    }
   ],
   "source": [
    "v_mi"
   ]
  },
  {
   "cell_type": "code",
   "execution_count": 100,
   "metadata": {},
   "outputs": [
    {
     "name": "stdout",
     "output_type": "stream",
     "text": [
      "peak_vertex:  4514\n",
      "Using control points [ 822.19922909  868.37325414 1147.4512822 ]\n",
      "coordinates:  [  5.6532836  -12.23433971  53.08460617]\n"
     ]
    }
   ],
   "source": [
    "hemi = 'rh'\n",
    "hemi_ind = 1 #rh\n",
    "\n",
    "    \n",
    "# find the peak on the rh\n",
    "peak_vertex, peak_time = stc_diff.get_peak(hemi=hemi)\n",
    "print('peak_vertex: ', peak_vertex)\n",
    "\n",
    "# get the vertex at the peak\n",
    "peak_vertex_surf = stc_diff.rh_vertno[peak_vertex]\n",
    "\n",
    "# plot the source estimate with the peak painted blue\n",
    "kwargs = dict(initial_time=0.1, surface='inflated', hemi=hemi, subjects_dir=subjects_dir,\n",
    "                      verbose=True, size=(600, 600), spacing='all', background='w', \n",
    "                      cortex=(211/256,211/256,211/256)) #, clim=dict(kind='value', pos_lims=(10, 100, 400))\n",
    "        \n",
    "brain = stc_diff.plot(**kwargs, colormap='Oranges')\n",
    "brain.scale_data_colormap(fmin=v_mi, fmid=(v_mi+v_ma)/2, fmax=v_ma, transparent=True)\n",
    "\n",
    "# add the vertex at the peak to the plot\n",
    "#brain.add_foci(peak_vertex_surf, coords_as_verts=True, hemi=hemi, color='blue')\n",
    "\n",
    "view = 'lateral' #medial lateral\n",
    "brain.show_view(view);\n",
    "brain.save_image(sourceFolder +  'all_' + hemi + '_with_maxpoint_'+view+'.png')\n",
    "\n",
    "# convert vertex to MNI coordinates\n",
    "coordinate = mne.vertex_to_mni(peak_vertex_surf, hemis=hemi_ind, subject='fsaverage', subjects_dir=subjects_dir)\n",
    "\n",
    "print('coordinates: ', coordinate)\n",
    "\n",
    "\n"
   ]
  },
  {
   "cell_type": "code",
   "execution_count": 54,
   "metadata": {},
   "outputs": [],
   "source": [
    "#labels_names_sign"
   ]
  },
  {
   "cell_type": "code",
   "execution_count": 55,
   "metadata": {},
   "outputs": [],
   "source": [
    "#labels_rh_temporal"
   ]
  },
  {
   "cell_type": "markdown",
   "metadata": {},
   "source": [
    "Get coordinates of the cluster peak on temporal lobe in right hemisphere"
   ]
  },
  {
   "cell_type": "code",
   "execution_count": 58,
   "metadata": {},
   "outputs": [
    {
     "name": "stdout",
     "output_type": "stream",
     "text": [
      "<Label | fsaverage, 'supramarginal-rh', rh : 8150 vertices>\n",
      "9791\n",
      "coordinates:  [ 34.03600311 -30.93478394  16.78090858]\n"
     ]
    }
   ],
   "source": [
    "hemi = 'rh'\n",
    "hemi_ind = 1\n",
    "\n",
    "# find the labels of desired parcellations (e.g. temporal ones) \n",
    "labels_rh_temporal = [l for l in label if l.name in labels_names_sign and hemi in l.name][5]\n",
    "print(labels_rh_temporal)\n",
    "\n",
    "# restrict the area to find the peak in the preferred area\n",
    "peak_temporal_rh, peak_time = stc_diff.in_label(labels_rh_temporal).get_peak()\n",
    "print(peak_temporal_rh)\n",
    "\n",
    "# get vertex at the peak\n",
    "peak_vertex_surf_temporal_rh = stc_diff.rh_vertno[peak_temporal_rh]\n",
    "\n",
    "# get MNI coordinates of the vertex at the peak\n",
    "coordinate_temporal = mne.vertex_to_mni(stc_diff.rh_vertno[peak_vertex_surf_temporal_rh],\n",
    "                                        hemis=hemi_ind, subject='fsaverage',\n",
    "                                        subjects_dir=subjects_dir)\n",
    "\n",
    "print('coordinates: ', coordinate_temporal)"
   ]
  },
  {
   "cell_type": "code",
   "execution_count": 57,
   "metadata": {},
   "outputs": [
    {
     "name": "stdout",
     "output_type": "stream",
     "text": [
      "Using control points [ 822.19922909  868.37325414 1147.4512822 ]\n"
     ]
    }
   ],
   "source": [
    "# plot source estimate with the peak painted blue\n",
    "kwargs = dict(initial_time=0.1, surface='inflated', hemi=hemi, subjects_dir=subjects_dir,\n",
    "                      verbose=True, size=(600, 600), spacing='all', background='w', \n",
    "                      cortex=(211/256,211/256,211/256))\n",
    "        \n",
    "brain = stc_diff.plot(**kwargs, colormap='Oranges')\n",
    "#brain.add_foci(peak_vertex_surf_temporal_rh, coords_as_verts=True, hemi=hemi, color='blue')\n",
    "brain.scale_data_colormap(fmin=v_mi, fmid=(v_mi+v_ma)/2, fmax=v_ma, transparent=True)\n",
    "\n",
    "view = 'lateral' #medial\n",
    "brain.show_view(view);\n",
    "brain.save_image(sourceFolder +  'all_' + hemi + '_with_maxpoint_'+view+'_temporal.png')\n"
   ]
  },
  {
   "cell_type": "code",
   "execution_count": null,
   "metadata": {},
   "outputs": [],
   "source": []
  },
  {
   "cell_type": "code",
   "execution_count": null,
   "metadata": {},
   "outputs": [],
   "source": []
  }
 ],
 "metadata": {
  "kernelspec": {
   "display_name": "Python 3",
   "language": "python",
   "name": "python3"
  },
  "language_info": {
   "codemirror_mode": {
    "name": "ipython",
    "version": 3
   },
   "file_extension": ".py",
   "mimetype": "text/x-python",
   "name": "python",
   "nbconvert_exporter": "python",
   "pygments_lexer": "ipython3",
   "version": "3.7.9"
  }
 },
 "nbformat": 4,
 "nbformat_minor": 4
}
