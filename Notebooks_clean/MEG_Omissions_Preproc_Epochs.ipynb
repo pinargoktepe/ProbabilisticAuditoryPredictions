{
 "cells": [
  {
   "cell_type": "code",
   "execution_count": 1,
   "metadata": {},
   "outputs": [],
   "source": [
    "import mne\n",
    "from mne import find_events\n",
    "import numpy as np\n",
    "import os\n",
    "from mne.preprocessing import ICA, read_ica\n",
    "import random \n"
   ]
  },
  {
   "cell_type": "code",
   "execution_count": 2,
   "metadata": {},
   "outputs": [
    {
     "name": "stdout",
     "output_type": "stream",
     "text": [
      "Subject id:  33\n",
      "tmin =  -0.1\n",
      "tmax =  0.6\n",
      "Raw Data folder:  ..\\Data\\MEG_Data\\RawData\\\n",
      "Data folder:  ..\\Data\\MEG_Data\\Data=-0.1_0.6\\\n",
      "Bheavioral data folder:  ..\\Data\\Behavior_Data\\P33\\\n",
      "Ica model folder:  ..\\icaModels\\S33\\ica.fif\n",
      "ICA components to exclude:  [0, 15]\n"
     ]
    }
   ],
   "source": [
    "#File paths\n",
    "meg_MainFolder = \"..\\Data\\MEG_Data\\Data=\"\n",
    "meg_raw_MainFolder = \"..\\Data\\MEG_Data\\RawData\\\\\"\n",
    "beh_MainFolder = \"..\\Data\\Behavior_Data\\\\\"\n",
    "ica_MainFolder = \"..\\icaModels\\\\\"\n",
    "\n",
    "tmin, tmax = -0.1, 0.6\n",
    "s_id = '33'\n",
    "\n",
    "print('Subject id: ', s_id)\n",
    "print('tmin = ', tmin)\n",
    "print('tmax = ', tmax)\n",
    "\n",
    "print('Raw Data folder: ', meg_raw_MainFolder)\n",
    "\n",
    "filep = meg_MainFolder + str(tmin) + '_' + str(tmax) + '\\\\'\n",
    "print('Data folder: ', filep)\n",
    "\n",
    "beh_folder = beh_MainFolder + 'P'+ s_id + \"\\\\\"\n",
    "print('Bheavioral data folder: ', beh_folder)\n",
    "ica_file = ica_MainFolder + 'S' + s_id + '\\ica.fif'\n",
    "print('Ica model folder: ', ica_file)\n",
    "\n",
    "componentsToExclude  = [0,15]\n",
    "print('ICA components to exclude: ', componentsToExclude)\n"
   ]
  },
  {
   "cell_type": "code",
   "execution_count": 3,
   "metadata": {},
   "outputs": [
    {
     "name": "stdout",
     "output_type": "stream",
     "text": [
      "x---------------x\n"
     ]
    }
   ],
   "source": [
    "# Fixed variables\n",
    "\n",
    "blocks = [0,1,2]\n",
    "\n",
    "triggers_cry_real = [9, 10, 11] # By block: sound 1 + nu_consistent \n",
    "triggers_phone_real = [11, 12, 13] # By block: sound 3 + nu_consistent \n",
    "\n",
    "triggers_cry_omi = [14, 15, 16] # By block: sound 1 + nu_consistent + omission code (5)\n",
    "triggers_phone_omi = [16, 17, 18] # By block: sound 3 + nu_consistent + omission code (5)\n",
    "pred_all = [8, 9, 10]\n",
    "\n",
    "congruency = [80, 90, 100]\n",
    "\n",
    "# Initialize data variables\n",
    "epoch_grad_all = []\n",
    "epoch_mag_all = []\n",
    "\n",
    "print('x---------------x')\n",
    "\n",
    "pitch_V = len(blocks)*[None]\n",
    "pitch_RT = len(blocks)*[None]\n",
    "conf_V = len(blocks)*[None]\n",
    "conf_RT = len(blocks)*[None]\n",
    "resp_V = len(blocks)*[None]\n",
    "corr_V = len(blocks)*[None]"
   ]
  },
  {
   "cell_type": "code",
   "execution_count": 4,
   "metadata": {},
   "outputs": [
    {
     "name": "stdout",
     "output_type": "stream",
     "text": [
      "Reading ..\\icaModels\\S33\\ica.fif ...\n",
      "Now restoring ICA solution ...\n"
     ]
    },
    {
     "name": "stderr",
     "output_type": "stream",
     "text": [
      "<ipython-input-4-7382744846b8>:4: RuntimeWarning: This filename (..\\icaModels\\S33\\ica.fif) does not conform to MNE naming conventions. All ICA files should end with -ica.fif, -ica.fif.gz, _ica.fif or _ica.fif.gz\n",
      "  ica = read_ica(ica_file)\n"
     ]
    },
    {
     "name": "stdout",
     "output_type": "stream",
     "text": [
      "Ready.\n"
     ]
    }
   ],
   "source": [
    "\n",
    "# Check if ica model exists and load if there is one\n",
    "\n",
    "if os.path.isfile(ica_file) is True:\n",
    "    ica = read_ica(ica_file)\n",
    "else:\n",
    "    ica  = None\n",
    "    print('No ica file!')\n",
    "    "
   ]
  },
  {
   "cell_type": "code",
   "execution_count": 5,
   "metadata": {
    "scrolled": true
   },
   "outputs": [
    {
     "name": "stdout",
     "output_type": "stream",
     "text": [
      "Block:  0\n",
      "No file named as  ..\\Data\\MEG_Data\\RawData\\S33\\Block_0_tsss_mc_trans.fif\n",
      "Opening raw data file ..\\Data\\MEG_Data\\RawData\\S33\\Block_0_tsss_mc_trans.fif...\n",
      "    Range : 122000 ... 1310999 =    122.000 ...  1310.999 secs\n",
      "Ready.\n",
      "Reading 0 ... 1188999  =      0.000 ...  1188.999 secs...\n"
     ]
    },
    {
     "name": "stderr",
     "output_type": "stream",
     "text": [
      "<ipython-input-5-f4267c4a09b9>:28: RuntimeWarning: This filename (..\\Data\\MEG_Data\\RawData\\S33\\Block_0_tsss_mc_trans.fif) does not conform to MNE naming conventions. All raw files should end with raw.fif, raw_sss.fif, raw_tsss.fif, raw.fif.gz, raw_sss.fif.gz, raw_tsss.fif.gz or _meg.fif\n",
      "  raw = mne.io.read_raw_fif(fraw , preload = True)\n"
     ]
    },
    {
     "name": "stdout",
     "output_type": "stream",
     "text": [
      "Data imported!\n",
      "Filtering raw data in 1 contiguous segment\n",
      "Setting up band-pass filter from 0.1 - 40 Hz\n",
      "\n",
      "FIR filter parameters\n",
      "---------------------\n",
      "Designing a one-pass, zero-phase, non-causal bandpass filter:\n",
      "- Windowed time-domain design (firwin) method\n",
      "- Hamming window with 0.0194 passband ripple and 53 dB stopband attenuation\n",
      "- Lower passband edge: 0.10\n",
      "- Lower transition bandwidth: 0.10 Hz (-6 dB cutoff frequency: 0.05 Hz)\n",
      "- Upper passband edge: 40.00 Hz\n",
      "- Upper transition bandwidth: 10.00 Hz (-6 dB cutoff frequency: 45.00 Hz)\n",
      "- Filter length: 33001 samples (33.001 sec)\n",
      "\n",
      "Transforming to ICA space (33 components)\n",
      "Zeroing out 2 ICA components\n",
      "715 events found\n",
      "Event IDs: [  1   8   9  10  11  14  16  74  76 104 106]\n",
      "Events detected!\n",
      "number of events:  715\n",
      "True\n",
      "Number of omissions and responses do not match!\n",
      "Number of omissions and responses do not match!\n",
      "Number of omissions and responses do not match!\n",
      "Not setting metadata\n",
      "Not setting metadata\n",
      "315 matching events found\n",
      "No baseline correction applied\n",
      "0 projection items activated\n",
      "Loading data for 315 events and 701 original time points ...\n",
      "0 bad epochs dropped\n",
      "Block:  1\n",
      "No file named as  ..\\Data\\MEG_Data\\RawData\\S33\\Block_1_tsss_mc_trans.fif\n",
      "Opening raw data file ..\\Data\\MEG_Data\\RawData\\S33\\Block_1_tsss_mc_trans.fif...\n",
      "    Range : 112000 ... 1318999 =    112.000 ...  1318.999 secs\n",
      "Ready.\n",
      "Reading 0 ... 1206999  =      0.000 ...  1206.999 secs...\n"
     ]
    },
    {
     "name": "stderr",
     "output_type": "stream",
     "text": [
      "<ipython-input-5-f4267c4a09b9>:28: RuntimeWarning: This filename (..\\Data\\MEG_Data\\RawData\\S33\\Block_1_tsss_mc_trans.fif) does not conform to MNE naming conventions. All raw files should end with raw.fif, raw_sss.fif, raw_tsss.fif, raw.fif.gz, raw_sss.fif.gz, raw_tsss.fif.gz or _meg.fif\n",
      "  raw = mne.io.read_raw_fif(fraw , preload = True)\n"
     ]
    },
    {
     "name": "stdout",
     "output_type": "stream",
     "text": [
      "Data imported!\n",
      "Filtering raw data in 1 contiguous segment\n",
      "Setting up band-pass filter from 0.1 - 40 Hz\n",
      "\n",
      "FIR filter parameters\n",
      "---------------------\n",
      "Designing a one-pass, zero-phase, non-causal bandpass filter:\n",
      "- Windowed time-domain design (firwin) method\n",
      "- Hamming window with 0.0194 passband ripple and 53 dB stopband attenuation\n",
      "- Lower passband edge: 0.10\n",
      "- Lower transition bandwidth: 0.10 Hz (-6 dB cutoff frequency: 0.05 Hz)\n",
      "- Upper passband edge: 40.00 Hz\n",
      "- Upper transition bandwidth: 10.00 Hz (-6 dB cutoff frequency: 45.00 Hz)\n",
      "- Filter length: 33001 samples (33.001 sec)\n",
      "\n",
      "Transforming to ICA space (33 components)\n",
      "Zeroing out 2 ICA components\n",
      "716 events found\n",
      "Event IDs: [  1   9  10  11  12  15  16  17  75  77 105 107]\n",
      "Events detected!\n",
      "number of events:  716\n",
      "True\n",
      "Number of omissions and responses do not match!\n",
      "Number of omissions and responses do not match!\n",
      "Number of omissions and responses do not match!\n",
      "Number of omissions and responses do not match!\n",
      "Not setting metadata\n",
      "Not setting metadata\n",
      "303 matching events found\n",
      "No baseline correction applied\n",
      "0 projection items activated\n",
      "Loading data for 303 events and 701 original time points ...\n",
      "0 bad epochs dropped\n",
      "Block:  2\n",
      "No file named as  ..\\Data\\MEG_Data\\RawData\\S33\\Block_2_tsss_mc_trans.fif\n",
      "Opening raw data file ..\\Data\\MEG_Data\\RawData\\S33\\Block_2_tsss_mc_trans.fif...\n",
      "    Range : 80000 ... 1258999 =     80.000 ...  1258.999 secs\n",
      "Ready.\n",
      "Reading 0 ... 1178999  =      0.000 ...  1178.999 secs...\n"
     ]
    },
    {
     "name": "stderr",
     "output_type": "stream",
     "text": [
      "<ipython-input-5-f4267c4a09b9>:28: RuntimeWarning: This filename (..\\Data\\MEG_Data\\RawData\\S33\\Block_2_tsss_mc_trans.fif) does not conform to MNE naming conventions. All raw files should end with raw.fif, raw_sss.fif, raw_tsss.fif, raw.fif.gz, raw_sss.fif.gz, raw_tsss.fif.gz or _meg.fif\n",
      "  raw = mne.io.read_raw_fif(fraw , preload = True)\n"
     ]
    },
    {
     "name": "stdout",
     "output_type": "stream",
     "text": [
      "Data imported!\n",
      "Filtering raw data in 1 contiguous segment\n",
      "Setting up band-pass filter from 0.1 - 40 Hz\n",
      "\n",
      "FIR filter parameters\n",
      "---------------------\n",
      "Designing a one-pass, zero-phase, non-causal bandpass filter:\n",
      "- Windowed time-domain design (firwin) method\n",
      "- Hamming window with 0.0194 passband ripple and 53 dB stopband attenuation\n",
      "- Lower passband edge: 0.10\n",
      "- Lower transition bandwidth: 0.10 Hz (-6 dB cutoff frequency: 0.05 Hz)\n",
      "- Upper passband edge: 40.00 Hz\n",
      "- Upper transition bandwidth: 10.00 Hz (-6 dB cutoff frequency: 45.00 Hz)\n",
      "- Filter length: 33001 samples (33.001 sec)\n",
      "\n",
      "Transforming to ICA space (33 components)\n",
      "Zeroing out 2 ICA components\n",
      "721 events found\n",
      "Event IDs: [  1   8  10  11  12  13  16  18  76  78 106 108]\n",
      "Events detected!\n",
      "number of events:  721\n",
      "True\n",
      "Number of omissions and responses do not match!\n",
      "Number of omissions and responses do not match!\n",
      "Number of omissions and responses do not match!\n",
      "Number of omissions and responses do not match!\n",
      "Number of omissions and responses do not match!\n",
      "Not setting metadata\n",
      "Not setting metadata\n",
      "299 matching events found\n",
      "No baseline correction applied\n",
      "0 projection items activated\n",
      "Loading data for 299 events and 701 original time points ...\n",
      "0 bad epochs dropped\n"
     ]
    }
   ],
   "source": [
    "\n",
    "all_conf = []\n",
    "for bl in blocks:\n",
    "    print('Block: ', bl)\n",
    "    if int(s_id) > 22:\n",
    "        if s_id == '38' or s_id == '39' or s_id == '40' or s_id == '41':\n",
    "            filename = 'P' + s_id + '\\\\block_' +  str(bl) + '_tsss_mc_trans.fif'\n",
    "            fraw = meg_raw_MainFolder + filename\n",
    "            \n",
    "        else:\n",
    "            filename = 'S' + s_id + '\\\\Block_' + str(bl) + '_tsss_mc_trans.fif' # s_id +'_' + str(bl) OR 'block_' + str(bl) + '_tsss_mc_trans.fif' \n",
    "            fraw = meg_raw_MainFolder + filename\n",
    "           \n",
    "                \n",
    "    else:\n",
    "        filename = 'S' + s_id + '\\\\' + s_id + '_' + str(bl) + '_tsss_mc_trans.fif'\n",
    "        fraw = meg_raw_MainFolder + filename\n",
    "        \n",
    "    \n",
    "   \n",
    "    if os.path.isfile(meg_raw_MainFolder) == True:\n",
    "         print(fraw)\n",
    "    else:\n",
    "        print('No file named as ', fraw)\n",
    "    \n",
    "    \n",
    "    if os.path.isfile(fraw):\n",
    "        # read and filter raw data:\n",
    "        raw = mne.io.read_raw_fif(fraw , preload = True)\n",
    "        raw.info['ch_names'] = [chn.strip('.') for chn in raw.info['ch_names']]\n",
    "        print(\"Data imported!\")\n",
    "        raw.filter(0.1, 40., fir_design='firwin')\n",
    "        raw.load_data()\n",
    "        raw_appliedICA = ica.apply(raw, exclude=componentsToExclude)\n",
    "        \n",
    "        # exctract events\n",
    "        events101 = find_events(raw, 'STI101', shortest_event = 1,initial_event=True)\n",
    "        if s_id == '14' or s_id == '13':\n",
    "            events101[:,2] = events101[:,2] - 2048\n",
    "            print(\"Adjusting triggers...\")\n",
    "        \n",
    "        print(\"Events detected!\")\n",
    "        print('number of events: ', len(events101[:,2]))\n",
    "        \n",
    "        # Rename events so there is no overlap across blocks:\n",
    "        pred_l = pred_all[bl]\n",
    "        ind_resp, ind_epoch = 0, 0\n",
    "        print(os.path.exists(beh_folder + 'Responses_S' + s_id + '_Block'+str(bl)+ '.npy'))\n",
    "        \n",
    "        if os.path.exists(beh_folder + 'Responses_S' + s_id + '_Block'+str(bl)+ '.npy'):\n",
    "            pitch_V[bl], pitch_RT[bl], conf_V[bl], conf_RT[bl], resp_V[bl], corr_V[bl] = np.load(beh_folder + 'Responses_S' + s_id + '_Block'+str(bl)+ '.npy', allow_pickle = True)\n",
    "            \n",
    "            # Correct S26's triggers in the last block (100% level)\n",
    "            if s_id == '26' and bl == 2:\n",
    "                print('Adjusting P' + s_id + 's triggers ..')\n",
    "                events101 = np.delete(events101, 0, axis=0)\n",
    "                pitch_V[bl] = np.delete(pitch_V[bl], 0)\n",
    "                pitch_RT[bl] = np.delete(pitch_RT[bl], 0)\n",
    "                conf_V[bl] = np.delete(conf_V[bl], 0)\n",
    "                conf_RT[bl] = np.delete(conf_RT[bl], 0)\n",
    "                resp_V[bl] = np.delete(resp_V[bl], 0)\n",
    "                corr_V[bl] = np.delete(corr_V[bl], 0)\n",
    "                \n",
    "                \n",
    "            # keep only active responses which are kept as non-None in pitch_V\n",
    "            active_resp_indices = np.where(pitch_V[bl] != None)[0]  \n",
    "            pitch_V_active = [pitch_V[bl][i] for i in range(len(pitch_V[bl])) if i in active_resp_indices]\n",
    "            corr_V_active = [corr_V[bl][i] for i in range(len(corr_V[bl])) if i in active_resp_indices]\n",
    "            conf_V_active = [conf_V[bl][i] for i in range(len(conf_V[bl])) if i in active_resp_indices]\n",
    "            \n",
    "            #print(conf_V_active)\n",
    "            #print(len(conf_V_active))\n",
    "  \n",
    "            for i in np.arange(len(events101)):\n",
    "                \n",
    "                # Real Sounds\n",
    "                if events101[i,2] == triggers_cry_real[bl]:\n",
    "                    events101[i,2] = (triggers_cry_real[bl] + 100*pred_l)*10 + 3\n",
    "                    all_conf.append(None)\n",
    "                \n",
    "                elif events101[i,2] == triggers_phone_real[bl]:\n",
    "                    events101[i,2] = (triggers_phone_real[bl] + 100*pred_l)*10 + 3\n",
    "                    all_conf.append(None)\n",
    "\n",
    "                \n",
    "                # Omissions\n",
    "                else:\n",
    "                    if ind_resp < len(active_resp_indices):\n",
    "                        if events101[i,2] == triggers_cry_omi[bl]:\n",
    "\n",
    "                            if corr_V_active[ind_resp] == 1:\n",
    "                                events101[i,2] = (triggers_cry_omi[bl] + 100*pred_l)*10 + 1\n",
    "                                all_conf.append(conf_V_active[ind_resp])\n",
    "                                ind_resp += 1\n",
    "\n",
    "                            elif corr_V_active[ind_resp] == -1:\n",
    "                                events101[i,2] = (triggers_cry_omi[bl] + 100*pred_l)*10\n",
    "                                all_conf.append(conf_V_active[ind_resp])\n",
    "                                ind_resp += 1\n",
    "\n",
    "                            else:\n",
    "                                events101[i,2] = (triggers_cry_omi[bl] + 100*pred_l)*10 + 2\n",
    "                                all_conf.append(conf_V_active[ind_resp])\n",
    "                                ind_resp += 1\n",
    "\n",
    "\n",
    "                        elif events101[i,2] == triggers_phone_omi[bl]:\n",
    "\n",
    "                            if corr_V_active[ind_resp] == 1:\n",
    "                                #print('response is correct!')\n",
    "                                events101[i,2] = (triggers_phone_omi[bl] + 100*pred_l)*10 + 1\n",
    "                                all_conf.append(conf_V_active[ind_resp])\n",
    "                                ind_resp += 1\n",
    "\n",
    "                            elif corr_V_active[ind_resp] == -1:\n",
    "                                events101[i,2] = (triggers_phone_omi[bl] + 100*pred_l)*10\n",
    "                                all_conf.append(conf_V_active[ind_resp])\n",
    "                                ind_resp += 1\n",
    "\n",
    "                            else:\n",
    "                                events101[i,2] = (triggers_phone_omi[bl] + 100*pred_l)*10 + 2\n",
    "                                all_conf.append(conf_V_active[ind_resp])\n",
    "                                ind_resp += 1\n",
    "                    else:\n",
    "                        print('Number of omissions and responses do not match!')\n",
    "                                               \n",
    "        \n",
    "        event_id = {}\n",
    "\n",
    "        # Generating new event ids  \n",
    "        event_id['living_real_' + str(pred_l)] = (triggers_cry_real[bl] + 100*pred_l)*10 + 3\n",
    "        event_id['living_omission_' + str(pred_l) + \"_nores\"] = (triggers_cry_omi[bl] + 100*pred_l)*10 + 2\n",
    "        event_id['living_omission_' + str(pred_l) + \"_corr\"] = (triggers_cry_omi[bl] + 100*pred_l)*10 + 1\n",
    "        event_id['living_omission_' + str(pred_l) + \"_incorr\"] = (triggers_cry_omi[bl] + 100*pred_l)*10\n",
    "        \n",
    "        event_id['object_real_'  + str(pred_l)] = (triggers_phone_real[bl] + 100*pred_l)*10 + 3\n",
    "        event_id['object_omission_'  + str(pred_l) + \"_nores\"] = (triggers_phone_omi[bl] + 100*pred_l)*10 + 2\n",
    "        event_id['object_omission_'  + str(pred_l) + \"_corr\"] = (triggers_phone_omi[bl] + 100*pred_l)*10 + 1\n",
    "        event_id['object_omission_'  + str(pred_l) + \"_incorr\"] = (triggers_phone_omi[bl] + 100*pred_l)* 10\n",
    "    \n",
    "        # Cheking event ids if they exist in event list e.g. there might be no incorrect in 100% level\n",
    "        if event_id['living_real_' + str(pred_l)] not in events101:\n",
    "            del event_id['living_real_' + str(pred_l)]\n",
    "        if event_id['object_real_' + str(pred_l)] not in events101:\n",
    "            del event_id['object_real_' + str(pred_l)]\n",
    "        if event_id['object_omission_'  + str(pred_l) + \"_nores\"] not in events101:\n",
    "            del event_id['object_omission_'  + str(pred_l) + \"_nores\"]\n",
    "        if event_id['object_omission_'  + str(pred_l) + \"_corr\"] not in events101:\n",
    "            del event_id['object_omission_'  + str(pred_l) + \"_corr\"]\n",
    "        if event_id['object_omission_'  + str(pred_l) + \"_incorr\"] not in events101:\n",
    "            del event_id['object_omission_'  + str(pred_l) + \"_incorr\"]\n",
    "        \n",
    "        if event_id['living_omission_'  + str(pred_l) + \"_nores\"] not in events101:\n",
    "            del event_id['living_omission_'  + str(pred_l) + \"_nores\"]\n",
    "        if event_id['living_omission_'  + str(pred_l) + \"_corr\"] not in events101:\n",
    "            del event_id['living_omission_'  + str(pred_l) + \"_corr\"]\n",
    "        if event_id['living_omission_'  + str(pred_l) + \"_incorr\"] not in events101:\n",
    "            del event_id['living_omission_'  + str(pred_l) + \"_incorr\"]\n",
    "        \n",
    "\n",
    "        # Generate Epoched data from raw data  \n",
    "        #!!!! Be aware of detrend parameter!!\n",
    "        epochs = mne.Epochs(raw_appliedICA, events=events101, event_id=event_id, baseline=None, tmin=tmin, tmax=tmax, preload=True, detrend=1)\n",
    "\n",
    "        # Split to magnetometers and gradiometers:\n",
    "        epoch_grad_all.append(epochs.copy().pick_types(\"grad\"))\n",
    "        epoch_mag_all.append(epochs.copy().pick_types(\"mag\"))\n",
    "        \n",
    "        del epochs\n",
    "\n",
    "        "
   ]
  },
  {
   "cell_type": "markdown",
   "metadata": {},
   "source": [
    "#### Plot raw data to check the triggers"
   ]
  },
  {
   "cell_type": "code",
   "execution_count": null,
   "metadata": {},
   "outputs": [],
   "source": [
    "import mne.viz\n",
    "import matplotlib as plt\n",
    "#%matplotlib inline\n",
    "%matplotlib tk\n",
    "#fig = mne.viz.plot_events(events=events101)\n",
    "\n",
    "#mne.viz.plot_raw(raw=raw_appliedICA, events=events101)"
   ]
  },
  {
   "cell_type": "code",
   "execution_count": 6,
   "metadata": {},
   "outputs": [
    {
     "name": "stdout",
     "output_type": "stream",
     "text": [
      "Not setting metadata\n",
      "Not setting metadata\n",
      "917 matching events found\n",
      "No baseline correction applied\n",
      "0 bad epochs dropped\n",
      "Not setting metadata\n",
      "Not setting metadata\n",
      "917 matching events found\n",
      "No baseline correction applied\n",
      "0 bad epochs dropped\n"
     ]
    }
   ],
   "source": [
    "# Concatenate epochs from all blocks:\n",
    "epoch_grad = mne.concatenate_epochs(epoch_grad_all, add_offset=True)\n",
    "epoch_mag = mne.concatenate_epochs(epoch_mag_all, add_offset=True)"
   ]
  },
  {
   "cell_type": "code",
   "execution_count": null,
   "metadata": {},
   "outputs": [],
   "source": [
    "# Save epoched data\n",
    "\n",
    "if tmin == -0.1:\n",
    "    print('Here')\n",
    "    epoch_grad.save(filep + filename[0:len(filename) - 4] + \"_grad_nobase-epochs_afterICA_2.fif\", overwrite=True)\n",
    "    epoch_mag.save(filep + filename[0:len(filename) - 4] + \"_mag_nobase-epochs_afterICA_2.fif\", overwrite=True)\n",
    "\n",
    "else:\n",
    "    if tmax == 0.6:\n",
    "        epoch_grad.save(filep + filename[0:len(filename) - 4] + \"_grad_nobase-epochs_afterICA-elongated_2.fif\", overwrite=True)\n",
    "        epoch_mag.save(filep + filename[0:len(filename) - 4] + \"_mag_nobase-epochs_afterICA-elongated_2.fif\", overwrite=True)\n",
    "    else:\n",
    "        epoch_grad.save(filep + filename[0:len(filename) - 4] + \"_grad_nobase-epochs_afterICA-elongated_2.fif\", overwrite=True)\n",
    "        epoch_mag.save(filep + filename[0:len(filename) - 4] + \"_mag_nobase-epochs_afterICA-elongated_2.fif\", overwrite=True)\n",
    "\n"
   ]
  },
  {
   "cell_type": "code",
   "execution_count": null,
   "metadata": {},
   "outputs": [],
   "source": [
    "# Plot Real Events\n",
    "epoch_mag['living_real_8', 'living_real_9', 'living_real_10', 'object_real_8', 'object_real_9', 'object_real_10'].crop(tmin=-0.1, tmax=0.6).average().plot(ylim=dict(mag=[-400,400]))"
   ]
  },
  {
   "cell_type": "code",
   "execution_count": null,
   "metadata": {},
   "outputs": [],
   "source": [
    "epoch_mag"
   ]
  },
  {
   "cell_type": "code",
   "execution_count": null,
   "metadata": {},
   "outputs": [],
   "source": [
    "# Plot Omissions\n",
    "omission_events = [e for e in epoch_mag.event_id if 'real' not in e]\n",
    "print(omission_events)\n",
    "\n",
    "epoch_mag[omission_events].average().plot(ylim=dict(mag=[-400,400]))"
   ]
  },
  {
   "cell_type": "markdown",
   "metadata": {},
   "source": [
    "#### Extract Confidence ratings and save them in a separate file"
   ]
  },
  {
   "cell_type": "code",
   "execution_count": null,
   "metadata": {},
   "outputs": [],
   "source": [
    "print('Number of confidence responses: ', len(all_conf))\n",
    "\n",
    "if s_id == '38' or s_id == '39' or s_id == '40' or s_id == '41':\n",
    "    conf_filename = filep + '\\\\P' + s_id + '\\\\' + s_id + '_confValues_all'   \n",
    "else:\n",
    "    conf_filename = filep + '\\\\S' + s_id + '\\\\' + s_id + '_confValues_all'\n",
    "np.save(conf_filename, all_conf)"
   ]
  },
  {
   "cell_type": "code",
   "execution_count": null,
   "metadata": {},
   "outputs": [],
   "source": [
    "# Check if number of trials and number of values in confidence (real sounds (conf val = None) included)\n",
    "print(len(epoch_mag))\n",
    "print(len(all_conf))"
   ]
  },
  {
   "cell_type": "code",
   "execution_count": null,
   "metadata": {},
   "outputs": [],
   "source": [
    "epoch_mag"
   ]
  },
  {
   "cell_type": "code",
   "execution_count": null,
   "metadata": {
    "scrolled": true
   },
   "outputs": [],
   "source": [
    "# Check data of which confidence ratings exist! There should only be OMISSIONS trials!!! \n",
    "ind = [i for i in range(len(all_conf)) if all_conf[i] != None]\n",
    "epoch_mag[ind]"
   ]
  },
  {
   "cell_type": "code",
   "execution_count": null,
   "metadata": {},
   "outputs": [],
   "source": []
  },
  {
   "cell_type": "code",
   "execution_count": 7,
   "metadata": {},
   "outputs": [
    {
     "name": "stdout",
     "output_type": "stream",
     "text": [
      "Reading ..\\Data\\MEG_Data\\Data=-0.1_0.6\\S33\\Block_2_tsss_mc_trans_mag_nobase-epochs_afterICA.fif ...\n"
     ]
    },
    {
     "name": "stderr",
     "output_type": "stream",
     "text": [
      "<ipython-input-7-f6183b367fcf>:1: RuntimeWarning: This filename (..\\Data\\MEG_Data\\Data=-0.1_0.6\\S33\\Block_2_tsss_mc_trans_mag_nobase-epochs_afterICA.fif) does not conform to MNE naming conventions. All epochs files should end with -epo.fif, -epo.fif.gz, _epo.fif or _epo.fif.gz\n",
      "  epochs_mag_old = mne.read_epochs(filep + filename[0:len(filename) - 4] + \"_mag_nobase-epochs_afterICA.fif\")\n"
     ]
    },
    {
     "name": "stdout",
     "output_type": "stream",
     "text": [
      "    Found the data of interest:\n",
      "        t =    -100.00 ...     600.00 ms\n",
      "        0 CTF compensation matrices available\n",
      "Not setting metadata\n",
      "Not setting metadata\n",
      "917 matching events found\n",
      "No baseline correction applied\n",
      "0 projection items activated\n"
     ]
    }
   ],
   "source": [
    "epochs_mag_old = mne.read_epochs(filep + filename[0:len(filename) - 4] + \"_mag_nobase-epochs_afterICA.fif\")"
   ]
  },
  {
   "cell_type": "code",
   "execution_count": 8,
   "metadata": {},
   "outputs": [
    {
     "data": {
      "text/plain": [
       "<EpochsFIF |  917 events (all good), -0.1 - 0.6 sec, baseline off, ~505.4 MB, data loaded,\n",
       " 'living_omission_10_corr': 29\n",
       " 'living_omission_10_incorr': 1\n",
       " 'living_omission_8_corr': 28\n",
       " 'living_omission_8_incorr': 2\n",
       " 'living_omission_9_corr': 18\n",
       " 'living_omission_9_incorr': 12\n",
       " 'living_real_10': 120\n",
       " 'living_real_8': 126\n",
       " 'living_real_9': 121\n",
       " 'object_omission_10_corr': 27\n",
       " 'object_omission_10_incorr': 3\n",
       " 'object_omission_8_corr': 23\n",
       " 'object_omission_8_incorr': 7\n",
       " 'object_omission_9_corr': 21\n",
       " 'object_omission_9_incorr': 8\n",
       " 'object_real_10': 119\n",
       " 'object_real_8': 129\n",
       " 'object_real_9': 123>"
      ]
     },
     "execution_count": 8,
     "metadata": {},
     "output_type": "execute_result"
    }
   ],
   "source": [
    "epochs_mag_old"
   ]
  },
  {
   "cell_type": "code",
   "execution_count": 11,
   "metadata": {},
   "outputs": [
    {
     "name": "stdout",
     "output_type": "stream",
     "text": [
      "917\n"
     ]
    }
   ],
   "source": [
    "counter = 0\n",
    "for i in range(epoch_mag.get_data().shape[0]):\n",
    "    if epochs_mag_old.get_data()[i,:,:].all() == epoch_mag.get_data()[i,:,:].all():\n",
    "        counter += 1\n",
    "        \n",
    "print(counter)\n"
   ]
  },
  {
   "cell_type": "code",
   "execution_count": 12,
   "metadata": {},
   "outputs": [
    {
     "data": {
      "text/plain": [
       "(917, 102, 701)"
      ]
     },
     "execution_count": 12,
     "metadata": {},
     "output_type": "execute_result"
    }
   ],
   "source": [
    "epoch_mag.get_data().shape"
   ]
  },
  {
   "cell_type": "code",
   "execution_count": 13,
   "metadata": {},
   "outputs": [
    {
     "data": {
      "text/plain": [
       "array([[ 1.01046433e-13,  9.23534553e-14,  8.45385696e-14, ...,\n",
       "         3.13215976e-14,  3.47286460e-14,  3.96705908e-14],\n",
       "       [ 1.35664992e-13,  1.27176587e-13,  1.22176017e-13, ...,\n",
       "        -1.40123191e-14, -1.34855176e-15,  1.17234696e-14],\n",
       "       [ 1.33537035e-13,  1.08108247e-13,  8.50346504e-14, ...,\n",
       "        -1.03023122e-13, -9.94698179e-14, -9.12950916e-14],\n",
       "       ...,\n",
       "       [-2.31818953e-14, -3.76697795e-14, -5.08296461e-14, ...,\n",
       "        -7.96974508e-14, -9.03326186e-14, -1.02363233e-13],\n",
       "       [-5.11236076e-14, -6.55550592e-14, -7.87036070e-14, ...,\n",
       "        -5.55426890e-14, -7.03001235e-14, -8.64976576e-14],\n",
       "       [-1.26623124e-13, -1.39161328e-13, -1.50282620e-13, ...,\n",
       "        -4.07010225e-14, -5.43063329e-14, -7.03809240e-14]])"
      ]
     },
     "execution_count": 13,
     "metadata": {},
     "output_type": "execute_result"
    }
   ],
   "source": [
    "epochs_mag_old.get_data()[0,:,:]"
   ]
  },
  {
   "cell_type": "code",
   "execution_count": 14,
   "metadata": {},
   "outputs": [
    {
     "data": {
      "text/plain": [
       "array([[ 1.01046431e-13,  9.23534520e-14,  8.45385731e-14, ...,\n",
       "         3.13215969e-14,  3.47286456e-14,  3.96705906e-14],\n",
       "       [ 1.35664993e-13,  1.27176582e-13,  1.22176019e-13, ...,\n",
       "        -1.40123186e-14, -1.34855175e-15,  1.17234701e-14],\n",
       "       [ 1.33537038e-13,  1.08108247e-13,  8.50346533e-14, ...,\n",
       "        -1.03023122e-13, -9.94698157e-14, -9.12950904e-14],\n",
       "       ...,\n",
       "       [-2.31818963e-14, -3.76697805e-14, -5.08296485e-14, ...,\n",
       "        -7.96974514e-14, -9.03326190e-14, -1.02363230e-13],\n",
       "       [-5.11236093e-14, -6.55550594e-14, -7.87036056e-14, ...,\n",
       "        -5.55426903e-14, -7.03001239e-14, -8.64976569e-14],\n",
       "       [-1.26623127e-13, -1.39161325e-13, -1.50282620e-13, ...,\n",
       "        -4.07010237e-14, -5.43063347e-14, -7.03809236e-14]])"
      ]
     },
     "execution_count": 14,
     "metadata": {},
     "output_type": "execute_result"
    }
   ],
   "source": [
    "epoch_mag.get_data()[0,:,:]"
   ]
  },
  {
   "cell_type": "code",
   "execution_count": null,
   "metadata": {},
   "outputs": [],
   "source": []
  }
 ],
 "metadata": {
  "@webio": {
   "lastCommId": null,
   "lastKernelId": null
  },
  "kernelspec": {
   "display_name": "Python 3",
   "language": "python",
   "name": "python3"
  },
  "language_info": {
   "codemirror_mode": {
    "name": "ipython",
    "version": 3
   },
   "file_extension": ".py",
   "mimetype": "text/x-python",
   "name": "python",
   "nbconvert_exporter": "python",
   "pygments_lexer": "ipython3",
   "version": "3.7.9"
  }
 },
 "nbformat": 4,
 "nbformat_minor": 2
}
